{
  "cells": [
    {
      "cell_type": "markdown",
      "id": "4271e051",
      "metadata": {
        "papermill": {
          "duration": 0.026294,
          "end_time": "2022-10-13T15:42:22.861438",
          "exception": false,
          "start_time": "2022-10-13T15:42:22.835144",
          "status": "completed"
        },
        "tags": [],
        "id": "4271e051"
      },
      "source": [
        "# Diabetes Prediction | Feature Engineering, EDA, and Modeling\n"
      ]
    },
    {
      "cell_type": "markdown",
      "id": "bca9d74a",
      "metadata": {
        "papermill": {
          "duration": 0.021102,
          "end_time": "2022-10-13T15:42:22.904147",
          "exception": false,
          "start_time": "2022-10-13T15:42:22.883045",
          "status": "completed"
        },
        "tags": [],
        "id": "bca9d74a"
      },
      "source": [
        "In this notebook, we will develop a machine learning model that can predict whether Pima Indian Women in the dataset have diabetes or not.\n",
        "\n",
        "Before modelling , we will make the exploratory data analysis and feature engineering for its dataset."
      ]
    },
    {
      "cell_type": "markdown",
      "id": "9de3d6ad",
      "metadata": {
        "papermill": {
          "duration": 0.019749,
          "end_time": "2022-10-13T15:42:22.943623",
          "exception": false,
          "start_time": "2022-10-13T15:42:22.923874",
          "status": "completed"
        },
        "tags": [],
        "id": "9de3d6ad"
      },
      "source": [
        "![](https://www.cdc.gov/diabetes/images/library/spotlights/diabetes-stats-report-724px.png?_=42420)"
      ]
    },
    {
      "cell_type": "markdown",
      "id": "2bdd0759",
      "metadata": {
        "papermill": {
          "duration": 0.019799,
          "end_time": "2022-10-13T15:42:22.983605",
          "exception": false,
          "start_time": "2022-10-13T15:42:22.963806",
          "status": "completed"
        },
        "tags": [],
        "id": "2bdd0759"
      },
      "source": [
        "The target variable is specified as \"outcome\"; 1 indicates positive diabetes test result, 0 indicates negative."
      ]
    },
    {
      "cell_type": "markdown",
      "id": "cced3943",
      "metadata": {
        "papermill": {
          "duration": 0.019803,
          "end_time": "2022-10-13T15:42:23.023264",
          "exception": false,
          "start_time": "2022-10-13T15:42:23.003461",
          "status": "completed"
        },
        "tags": [],
        "id": "cced3943"
      },
      "source": [
        "#### Variables:\n",
        "\n",
        "> **Pregnancies** - Number of pregnancies\n",
        "\n",
        "> **Glucose** - 2-hour plasma glucose concentration in the oral glucose tolerance test\n",
        "\n",
        "> **BloodPressure** - Diastolic Blood Pressure\n",
        "\n",
        "> **SkinThickness** - Thickness of Skin\n",
        "\n",
        "> **Insulin**- 2-hour serum insulin\n",
        "\n",
        "> **DiabetesPedigreeFunction** -\n",
        "\n",
        "> **BMI** - Body Mass Index\n",
        "\n",
        "> **Age** - Age\n",
        "\n",
        "> **Outcome** - Diabetic ( 1 or 0 )"
      ]
    },
    {
      "cell_type": "markdown",
      "id": "9fdba47f",
      "metadata": {
        "papermill": {
          "duration": 0.019785,
          "end_time": "2022-10-13T15:42:23.063720",
          "exception": false,
          "start_time": "2022-10-13T15:42:23.043935",
          "status": "completed"
        },
        "tags": [],
        "id": "9fdba47f"
      },
      "source": [
        "### Table of Contents\n",
        "\n",
        "##### [1.Data Preprocessing](#data_preprocessing)\n",
        "* [Importing Libraries](#importing_libraries)<br>\n",
        "* [Reading in a dataset](#reading_in_a_dataset)<br>\n",
        "* [Exploratory Data Analysis](#exploratory_data_analysis)<br>\n",
        "\n",
        "##### [2.Feature Engineering](#develop_the_association_rule_learning)\n",
        "* [Processing for Missing Values and Outliers](#processing_for_missing_values_and_outliers)\n",
        "* [Creating New Feature Interactions](#creating_new_feature_interactions)\n",
        "\n",
        "##### [3.Modeling](#modeling)\n",
        "* [Processing Encoding & One-Hot Encoding](#processing_encoding_and_one_hot-encoding)\n",
        "* [Standardization for Numerical Variables](#standardization_for_numerical_variables)\n",
        "* [Create Modeling](#create_modeling)\n",
        "\n",
        "##### [4.Summary](#summary)\n"
      ]
    },
    {
      "cell_type": "markdown",
      "id": "ceda5340",
      "metadata": {
        "papermill": {
          "duration": 0.021782,
          "end_time": "2022-10-13T15:42:23.105512",
          "exception": false,
          "start_time": "2022-10-13T15:42:23.083730",
          "status": "completed"
        },
        "tags": [],
        "id": "ceda5340"
      },
      "source": [
        "##                           1.DATA PREPROCESSING                                     #\n",
        "<a id=\"data_preprocessing\"></a>"
      ]
    },
    {
      "cell_type": "markdown",
      "id": "600d6b8a",
      "metadata": {
        "papermill": {
          "duration": 0.021084,
          "end_time": "2022-10-13T15:42:23.148095",
          "exception": false,
          "start_time": "2022-10-13T15:42:23.127011",
          "status": "completed"
        },
        "tags": [],
        "id": "600d6b8a"
      },
      "source": [
        "#### **1.1.Importing Libraries**\n",
        "<a id=\"importing_libraries\"></a>"
      ]
    },
    {
      "cell_type": "code",
      "execution_count": null,
      "id": "92d6bf65",
      "metadata": {
        "_cell_guid": "b1076dfc-b9ad-4769-8c92-a6c4dae69d19",
        "_uuid": "8f2839f25d086af736a60e9eeb907d3b93b6e0e5",
        "execution": {
          "iopub.execute_input": "2022-10-13T15:42:23.193798Z",
          "iopub.status.busy": "2022-10-13T15:42:23.193095Z",
          "iopub.status.idle": "2022-10-13T15:42:25.887410Z",
          "shell.execute_reply": "2022-10-13T15:42:25.886102Z"
        },
        "papermill": {
          "duration": 2.720813,
          "end_time": "2022-10-13T15:42:25.889955",
          "exception": false,
          "start_time": "2022-10-13T15:42:23.169142",
          "status": "completed"
        },
        "tags": [],
        "id": "92d6bf65",
        "outputId": "dc777585-88a5-4c68-fa9f-c1726301dc42"
      },
      "outputs": [
        {
          "data": {
            "text/html": [
              "<style type='text/css'>\n",
              ".datatable table.frame { margin-bottom: 0; }\n",
              ".datatable table.frame thead { border-bottom: none; }\n",
              ".datatable table.frame tr.coltypes td {  color: #FFFFFF;  line-height: 6px;  padding: 0 0.5em;}\n",
              ".datatable .bool    { background: #DDDD99; }\n",
              ".datatable .object  { background: #565656; }\n",
              ".datatable .int     { background: #5D9E5D; }\n",
              ".datatable .float   { background: #4040CC; }\n",
              ".datatable .str     { background: #CC4040; }\n",
              ".datatable .time    { background: #40CC40; }\n",
              ".datatable .row_index {  background: var(--jp-border-color3);  border-right: 1px solid var(--jp-border-color0);  color: var(--jp-ui-font-color3);  font-size: 9px;}\n",
              ".datatable .frame tbody td { text-align: left; }\n",
              ".datatable .frame tr.coltypes .row_index {  background: var(--jp-border-color0);}\n",
              ".datatable th:nth-child(2) { padding-left: 12px; }\n",
              ".datatable .hellipsis {  color: var(--jp-cell-editor-border-color);}\n",
              ".datatable .vellipsis {  background: var(--jp-layout-color0);  color: var(--jp-cell-editor-border-color);}\n",
              ".datatable .na {  color: var(--jp-cell-editor-border-color);  font-size: 80%;}\n",
              ".datatable .sp {  opacity: 0.25;}\n",
              ".datatable .footer { font-size: 9px; }\n",
              ".datatable .frame_dimensions {  background: var(--jp-border-color3);  border-top: 1px solid var(--jp-border-color0);  color: var(--jp-ui-font-color3);  display: inline-block;  opacity: 0.6;  padding: 1px 10px 1px 5px;}\n",
              "</style>\n"
            ],
            "text/plain": [
              "<IPython.core.display.HTML object>"
            ]
          },
          "metadata": {},
          "output_type": "display_data"
        },
        {
          "name": "stdout",
          "output_type": "stream",
          "text": [
            "/kaggle/input/diabetes-data-set/diabetes.csv\n"
          ]
        }
      ],
      "source": [
        "import numpy as np\n",
        "import pandas as pd\n",
        "import seaborn as sns\n",
        "from matplotlib import pyplot as plt\n",
        "# !pip install missingno\n",
        "import missingno as msno\n",
        "from datetime import date\n",
        "from sklearn.metrics import accuracy_score\n",
        "from sklearn.model_selection import train_test_split\n",
        "from sklearn.neighbors import LocalOutlierFactor\n",
        "from sklearn.preprocessing import MinMaxScaler, LabelEncoder, StandardScaler, RobustScaler\n",
        "from sklearn.neighbors import KNeighborsClassifier\n",
        "from sklearn.svm import SVC\n",
        "from sklearn.neural_network import MLPClassifier\n",
        "from sklearn.tree import DecisionTreeClassifier\n",
        "from sklearn.ensemble import RandomForestClassifier\n",
        "from sklearn.ensemble import GradientBoostingClassifier\n",
        "from xgboost import XGBClassifier\n",
        "from lightgbm import LGBMClassifier\n",
        "from catboost import CatBoostClassifier\n",
        "from sklearn.linear_model import LogisticRegression\n",
        "\n",
        "\n",
        "\n",
        "import os\n",
        "for dirname, _, filenames in os.walk('/kaggle/input'):\n",
        "    for filename in filenames:\n",
        "        print(os.path.join(dirname, filename))\n"
      ]
    },
    {
      "cell_type": "markdown",
      "id": "1df4ed53",
      "metadata": {
        "papermill": {
          "duration": 0.02069,
          "end_time": "2022-10-13T15:42:25.932136",
          "exception": false,
          "start_time": "2022-10-13T15:42:25.911446",
          "status": "completed"
        },
        "tags": [],
        "id": "1df4ed53"
      },
      "source": [
        "#### **1.2.Read the dataset**\n",
        "<a id=\"read_the_dataset\"></a>"
      ]
    },
    {
      "cell_type": "code",
      "execution_count": null,
      "id": "6c0c026d",
      "metadata": {
        "execution": {
          "iopub.execute_input": "2022-10-13T15:42:25.973938Z",
          "iopub.status.busy": "2022-10-13T15:42:25.973543Z",
          "iopub.status.idle": "2022-10-13T15:42:26.006734Z",
          "shell.execute_reply": "2022-10-13T15:42:26.005606Z"
        },
        "papermill": {
          "duration": 0.057054,
          "end_time": "2022-10-13T15:42:26.009246",
          "exception": false,
          "start_time": "2022-10-13T15:42:25.952192",
          "status": "completed"
        },
        "tags": [],
        "id": "6c0c026d",
        "outputId": "c1c82252-e04e-4b36-c913-a49f1dbb1171"
      },
      "outputs": [
        {
          "data": {
            "text/html": [
              "<div>\n",
              "<style scoped>\n",
              "    .dataframe tbody tr th:only-of-type {\n",
              "        vertical-align: middle;\n",
              "    }\n",
              "\n",
              "    .dataframe tbody tr th {\n",
              "        vertical-align: top;\n",
              "    }\n",
              "\n",
              "    .dataframe thead th {\n",
              "        text-align: right;\n",
              "    }\n",
              "</style>\n",
              "<table border=\"1\" class=\"dataframe\">\n",
              "  <thead>\n",
              "    <tr style=\"text-align: right;\">\n",
              "      <th></th>\n",
              "      <th>Pregnancies</th>\n",
              "      <th>Glucose</th>\n",
              "      <th>BloodPressure</th>\n",
              "      <th>SkinThickness</th>\n",
              "      <th>Insulin</th>\n",
              "      <th>BMI</th>\n",
              "      <th>DiabetesPedigreeFunction</th>\n",
              "      <th>Age</th>\n",
              "      <th>Outcome</th>\n",
              "    </tr>\n",
              "  </thead>\n",
              "  <tbody>\n",
              "    <tr>\n",
              "      <th>0</th>\n",
              "      <td>6</td>\n",
              "      <td>148</td>\n",
              "      <td>72</td>\n",
              "      <td>35</td>\n",
              "      <td>0</td>\n",
              "      <td>33.6</td>\n",
              "      <td>0.627</td>\n",
              "      <td>50</td>\n",
              "      <td>1</td>\n",
              "    </tr>\n",
              "    <tr>\n",
              "      <th>1</th>\n",
              "      <td>1</td>\n",
              "      <td>85</td>\n",
              "      <td>66</td>\n",
              "      <td>29</td>\n",
              "      <td>0</td>\n",
              "      <td>26.6</td>\n",
              "      <td>0.351</td>\n",
              "      <td>31</td>\n",
              "      <td>0</td>\n",
              "    </tr>\n",
              "    <tr>\n",
              "      <th>2</th>\n",
              "      <td>8</td>\n",
              "      <td>183</td>\n",
              "      <td>64</td>\n",
              "      <td>0</td>\n",
              "      <td>0</td>\n",
              "      <td>23.3</td>\n",
              "      <td>0.672</td>\n",
              "      <td>32</td>\n",
              "      <td>1</td>\n",
              "    </tr>\n",
              "    <tr>\n",
              "      <th>3</th>\n",
              "      <td>1</td>\n",
              "      <td>89</td>\n",
              "      <td>66</td>\n",
              "      <td>23</td>\n",
              "      <td>94</td>\n",
              "      <td>28.1</td>\n",
              "      <td>0.167</td>\n",
              "      <td>21</td>\n",
              "      <td>0</td>\n",
              "    </tr>\n",
              "    <tr>\n",
              "      <th>4</th>\n",
              "      <td>0</td>\n",
              "      <td>137</td>\n",
              "      <td>40</td>\n",
              "      <td>35</td>\n",
              "      <td>168</td>\n",
              "      <td>43.1</td>\n",
              "      <td>2.288</td>\n",
              "      <td>33</td>\n",
              "      <td>1</td>\n",
              "    </tr>\n",
              "  </tbody>\n",
              "</table>\n",
              "</div>"
            ],
            "text/plain": [
              "   Pregnancies  Glucose  BloodPressure  SkinThickness  Insulin   BMI  \\\n",
              "0            6      148             72             35        0  33.6   \n",
              "1            1       85             66             29        0  26.6   \n",
              "2            8      183             64              0        0  23.3   \n",
              "3            1       89             66             23       94  28.1   \n",
              "4            0      137             40             35      168  43.1   \n",
              "\n",
              "   DiabetesPedigreeFunction  Age  Outcome  \n",
              "0                     0.627   50        1  \n",
              "1                     0.351   31        0  \n",
              "2                     0.672   32        1  \n",
              "3                     0.167   21        0  \n",
              "4                     2.288   33        1  "
            ]
          },
          "execution_count": 2,
          "metadata": {},
          "output_type": "execute_result"
        }
      ],
      "source": [
        "df = pd.read_csv(\"../input/diabetes-data-set/diabetes.csv\")\n",
        "df.head()"
      ]
    },
    {
      "cell_type": "markdown",
      "id": "644d9353",
      "metadata": {
        "papermill": {
          "duration": 0.02195,
          "end_time": "2022-10-13T15:42:26.053314",
          "exception": false,
          "start_time": "2022-10-13T15:42:26.031364",
          "status": "completed"
        },
        "tags": [],
        "id": "644d9353"
      },
      "source": [
        "#### **1.3.Exploratory Data Analysis**\n",
        "<a id=\"exploratory_data_analysis\"></a>"
      ]
    },
    {
      "cell_type": "code",
      "execution_count": null,
      "id": "19566eda",
      "metadata": {
        "execution": {
          "iopub.execute_input": "2022-10-13T15:42:26.098683Z",
          "iopub.status.busy": "2022-10-13T15:42:26.098238Z",
          "iopub.status.idle": "2022-10-13T15:42:26.169297Z",
          "shell.execute_reply": "2022-10-13T15:42:26.168153Z"
        },
        "papermill": {
          "duration": 0.097089,
          "end_time": "2022-10-13T15:42:26.172369",
          "exception": false,
          "start_time": "2022-10-13T15:42:26.075280",
          "status": "completed"
        },
        "tags": [],
        "id": "19566eda",
        "outputId": "9a6a39ea-8549-42a9-a519-72dbee7b8685"
      },
      "outputs": [
        {
          "name": "stdout",
          "output_type": "stream",
          "text": [
            "--------------------    Information     --------------------\n",
            "<class 'pandas.core.frame.DataFrame'>\n",
            "RangeIndex: 768 entries, 0 to 767\n",
            "Data columns (total 9 columns):\n",
            " #   Column                    Non-Null Count  Dtype  \n",
            "---  ------                    --------------  -----  \n",
            " 0   Pregnancies               768 non-null    int64  \n",
            " 1   Glucose                   768 non-null    int64  \n",
            " 2   BloodPressure             768 non-null    int64  \n",
            " 3   SkinThickness             768 non-null    int64  \n",
            " 4   Insulin                   768 non-null    int64  \n",
            " 5   BMI                       768 non-null    float64\n",
            " 6   DiabetesPedigreeFunction  768 non-null    float64\n",
            " 7   Age                       768 non-null    int64  \n",
            " 8   Outcome                   768 non-null    int64  \n",
            "dtypes: float64(2), int64(7)\n",
            "memory usage: 54.1 KB\n",
            "None\n",
            "--------------------     Data Shape     --------------------\n",
            "(768, 9)\n",
            "\n",
            "--------------------  The First 5 Data  --------------------\n",
            "   Pregnancies  Glucose  BloodPressure  SkinThickness  Insulin   BMI  \\\n",
            "0            6      148             72             35        0  33.6   \n",
            "1            1       85             66             29        0  26.6   \n",
            "2            8      183             64              0        0  23.3   \n",
            "3            1       89             66             23       94  28.1   \n",
            "4            0      137             40             35      168  43.1   \n",
            "\n",
            "   DiabetesPedigreeFunction  Age  Outcome  \n",
            "0                     0.627   50        1  \n",
            "1                     0.351   31        0  \n",
            "2                     0.672   32        1  \n",
            "3                     0.167   21        0  \n",
            "4                     2.288   33        1  \n",
            "\n",
            "--------------------  The Last 5 Data   --------------------\n",
            "     Pregnancies  Glucose  BloodPressure  SkinThickness  Insulin   BMI  \\\n",
            "763           10      101             76             48      180  32.9   \n",
            "764            2      122             70             27        0  36.8   \n",
            "765            5      121             72             23      112  26.2   \n",
            "766            1      126             60              0        0  30.1   \n",
            "767            1       93             70             31        0  30.4   \n",
            "\n",
            "     DiabetesPedigreeFunction  Age  Outcome  \n",
            "763                     0.171   63        0  \n",
            "764                     0.340   27        0  \n",
            "765                     0.245   30        0  \n",
            "766                     0.349   47        1  \n",
            "767                     0.315   23        0  \n",
            "\n",
            "--------------------   Missing Values   --------------------\n",
            "Pregnancies                 0\n",
            "Glucose                     0\n",
            "BloodPressure               0\n",
            "SkinThickness               0\n",
            "Insulin                     0\n",
            "BMI                         0\n",
            "DiabetesPedigreeFunction    0\n",
            "Age                         0\n",
            "Outcome                     0\n",
            "dtype: int64\n",
            "\n",
            "----------------------------------------           Describe the Data            ----------------------------------------\n",
            "                          count        mean         std     min        1%  \\\n",
            "Pregnancies               768.0    3.845052    3.369578   0.000   0.00000   \n",
            "Glucose                   768.0  120.894531   31.972618   0.000  57.00000   \n",
            "BloodPressure             768.0   69.105469   19.355807   0.000   0.00000   \n",
            "SkinThickness             768.0   20.536458   15.952218   0.000   0.00000   \n",
            "Insulin                   768.0   79.799479  115.244002   0.000   0.00000   \n",
            "BMI                       768.0   31.992578    7.884160   0.000   0.00000   \n",
            "DiabetesPedigreeFunction  768.0    0.471876    0.331329   0.078   0.09468   \n",
            "Age                       768.0   33.240885   11.760232  21.000  21.00000   \n",
            "Outcome                   768.0    0.348958    0.476951   0.000   0.00000   \n",
            "\n",
            "                                5%     10%       50%        75%       90%  \\\n",
            "Pregnancies                0.00000   0.000    3.0000    6.00000    9.0000   \n",
            "Glucose                   79.00000  85.000  117.0000  140.25000  167.0000   \n",
            "BloodPressure             38.70000  54.000   72.0000   80.00000   88.0000   \n",
            "SkinThickness              0.00000   0.000   23.0000   32.00000   40.0000   \n",
            "Insulin                    0.00000   0.000   30.5000  127.25000  210.0000   \n",
            "BMI                       21.80000  23.600   32.0000   36.60000   41.5000   \n",
            "DiabetesPedigreeFunction   0.14035   0.165    0.3725    0.62625    0.8786   \n",
            "Age                       21.00000  22.000   29.0000   41.00000   51.0000   \n",
            "Outcome                    0.00000   0.000    0.0000    1.00000    1.0000   \n",
            "\n",
            "                                95%        99%     max  \n",
            "Pregnancies                10.00000   13.00000   17.00  \n",
            "Glucose                   181.00000  196.00000  199.00  \n",
            "BloodPressure              90.00000  106.00000  122.00  \n",
            "SkinThickness              44.00000   51.33000   99.00  \n",
            "Insulin                   293.00000  519.90000  846.00  \n",
            "BMI                        44.39500   50.75900   67.10  \n",
            "DiabetesPedigreeFunction    1.13285    1.69833    2.42  \n",
            "Age                        58.00000   67.00000   81.00  \n",
            "Outcome                     1.00000    1.00000    1.00  \n"
          ]
        }
      ],
      "source": [
        "def check_data(dataframe,head=5):\n",
        "    print(20*\"-\" + \"Information\".center(20) + 20*\"-\")\n",
        "    print(dataframe.info())\n",
        "    print(20*\"-\" + \"Data Shape\".center(20) + 20*\"-\")\n",
        "    print(dataframe.shape)\n",
        "    print(\"\\n\" + 20*\"-\" + \"The First 5 Data\".center(20) + 20*\"-\")\n",
        "    print(dataframe.head())\n",
        "    print(\"\\n\" + 20 * \"-\" + \"The Last 5 Data\".center(20) + 20 * \"-\")\n",
        "    print(dataframe.tail())\n",
        "    print(\"\\n\" + 20 * \"-\" + \"Missing Values\".center(20) + 20 * \"-\")\n",
        "    print(dataframe.isnull().sum())\n",
        "    print(\"\\n\" + 40 * \"-\" + \"Describe the Data\".center(40) + 40 * \"-\")\n",
        "    print(dataframe.describe([0.01, 0.05, 0.10, 0.50, 0.75, 0.90, 0.95, 0.99]).T)\n",
        "\n",
        "check_data(df)"
      ]
    },
    {
      "cell_type": "markdown",
      "id": "eac7d469",
      "metadata": {
        "papermill": {
          "duration": 0.020943,
          "end_time": "2022-10-13T15:42:26.213648",
          "exception": false,
          "start_time": "2022-10-13T15:42:26.192705",
          "status": "completed"
        },
        "tags": [],
        "id": "eac7d469"
      },
      "source": [
        "#### Conclusion:\n",
        "*  There are only numerical variables in this dataset.\n",
        "*  768 observations, 9 variable available(1 dependent)\n",
        "*  Under normal circumstances, it seems that there are no missing valuesin the data set, but there may be missing values hidden in the data of the variables here."
      ]
    },
    {
      "cell_type": "markdown",
      "id": "122dfd1c",
      "metadata": {
        "papermill": {
          "duration": 0.020571,
          "end_time": "2022-10-13T15:42:26.255263",
          "exception": false,
          "start_time": "2022-10-13T15:42:26.234692",
          "status": "completed"
        },
        "tags": [],
        "id": "122dfd1c"
      },
      "source": [
        "##### 1.3.1.Checking the missing values in the dataset\n",
        "<a id=\"checking_the_missing_values_in_the_dataset\"></a>"
      ]
    },
    {
      "cell_type": "code",
      "execution_count": null,
      "id": "14407582",
      "metadata": {
        "execution": {
          "iopub.execute_input": "2022-10-13T15:42:26.299809Z",
          "iopub.status.busy": "2022-10-13T15:42:26.299374Z",
          "iopub.status.idle": "2022-10-13T15:42:26.309770Z",
          "shell.execute_reply": "2022-10-13T15:42:26.308946Z"
        },
        "papermill": {
          "duration": 0.035509,
          "end_time": "2022-10-13T15:42:26.312112",
          "exception": false,
          "start_time": "2022-10-13T15:42:26.276603",
          "status": "completed"
        },
        "tags": [],
        "id": "14407582"
      },
      "outputs": [],
      "source": [
        "dimension_variable = [\"Glucose\",\"BloodPressure\",\"SkinThickness\",\"Insulin\",\"BMI\"]\n",
        "df[dimension_variable] = df[dimension_variable].replace(0,np.NaN)"
      ]
    },
    {
      "cell_type": "code",
      "execution_count": null,
      "id": "2ec91099",
      "metadata": {
        "execution": {
          "iopub.execute_input": "2022-10-13T15:42:26.358049Z",
          "iopub.status.busy": "2022-10-13T15:42:26.357631Z",
          "iopub.status.idle": "2022-10-13T15:42:26.368392Z",
          "shell.execute_reply": "2022-10-13T15:42:26.367276Z"
        },
        "papermill": {
          "duration": 0.036014,
          "end_time": "2022-10-13T15:42:26.370643",
          "exception": false,
          "start_time": "2022-10-13T15:42:26.334629",
          "status": "completed"
        },
        "tags": [],
        "id": "2ec91099",
        "outputId": "4f188395-c853-42ef-87af-8fbe6e57235b"
      },
      "outputs": [
        {
          "data": {
            "text/plain": [
              "Pregnancies                   0\n",
              "Glucose                       5\n",
              "BloodPressure                35\n",
              "SkinThickness               227\n",
              "Insulin                     374\n",
              "BMI                          11\n",
              "DiabetesPedigreeFunction      0\n",
              "Age                           0\n",
              "Outcome                       0\n",
              "dtype: int64"
            ]
          },
          "execution_count": 5,
          "metadata": {},
          "output_type": "execute_result"
        }
      ],
      "source": [
        "df.isnull().sum()"
      ]
    },
    {
      "cell_type": "markdown",
      "id": "fd2f5671",
      "metadata": {
        "papermill": {
          "duration": 0.021149,
          "end_time": "2022-10-13T15:42:26.413738",
          "exception": false,
          "start_time": "2022-10-13T15:42:26.392589",
          "status": "completed"
        },
        "tags": [],
        "id": "fd2f5671"
      },
      "source": [
        "##### 1.3.2.Define a Function to grab the Numerical and Categorical variables of its dataset"
      ]
    },
    {
      "cell_type": "code",
      "execution_count": null,
      "id": "82c91083",
      "metadata": {
        "execution": {
          "iopub.execute_input": "2022-10-13T15:42:26.458507Z",
          "iopub.status.busy": "2022-10-13T15:42:26.457806Z",
          "iopub.status.idle": "2022-10-13T15:42:26.475527Z",
          "shell.execute_reply": "2022-10-13T15:42:26.474442Z"
        },
        "papermill": {
          "duration": 0.042473,
          "end_time": "2022-10-13T15:42:26.477579",
          "exception": false,
          "start_time": "2022-10-13T15:42:26.435106",
          "status": "completed"
        },
        "tags": [],
        "id": "82c91083",
        "outputId": "d0b58746-8f75-44f5-9db5-e6dc31790656"
      },
      "outputs": [
        {
          "name": "stdout",
          "output_type": "stream",
          "text": [
            "Observations: 768\n",
            "Variables: 9\n",
            "cat_cols: 1\n",
            "num_cols: 8\n",
            "cat_but_car: 0\n",
            "num_but_cat: 1\n"
          ]
        }
      ],
      "source": [
        "def grab_col_names(dataframe, cat_th=10, car_th=20):\n",
        "    \"\"\"\n",
        "\n",
        "    Veri setindeki kategorik, numerik ve kategorik fakat kardinal değişkenlerin isimlerini verir.\n",
        "    Not: Kategorik değişkenlerin içerisine numerik görünümlü kategorik değişkenler de dahildir.\n",
        "\n",
        "    Parameters\n",
        "    ------\n",
        "        dataframe: dataframe\n",
        "                Değişken isimleri alınmak istenilen dataframe\n",
        "        cat_th: int, optional\n",
        "                numerik fakat kategorik olan değişkenler için sınıf eşik değeri\n",
        "        car_th: int, optinal\n",
        "                kategorik fakat kardinal değişkenler için sınıf eşik değeri\n",
        "\n",
        "    Returns\n",
        "    ------\n",
        "        cat_cols: list\n",
        "                Kategorik değişken listesi\n",
        "        num_cols: list\n",
        "                Numerik değişken listesi\n",
        "        cat_but_car: list\n",
        "                Kategorik görünümlü kardinal değişken listesi\n",
        "\n",
        "    Examples\n",
        "    ------\n",
        "        import seaborn as sns\n",
        "        df = sns.load_dataset(\"iris\")\n",
        "        print(grab_col_names(df))\n",
        "\n",
        "\n",
        "    Notes\n",
        "    ------\n",
        "        cat_cols + num_cols + cat_but_car = toplam değişken sayısı\n",
        "        num_but_cat cat_cols'un içerisinde.\n",
        "        Return olan 3 liste toplamı toplam değişken sayısına eşittir: cat_cols + num_cols + cat_but_car = değişken sayısı\n",
        "\n",
        "    \"\"\"\n",
        "\n",
        "    # cat_cols, cat_but_car\n",
        "    cat_cols = [col for col in dataframe.columns if dataframe[col].dtypes == \"O\"]\n",
        "    num_but_cat = [col for col in dataframe.columns if dataframe[col].nunique() < cat_th and\n",
        "                   dataframe[col].dtypes != \"O\"]\n",
        "    cat_but_car = [col for col in dataframe.columns if dataframe[col].nunique() > car_th and\n",
        "                   dataframe[col].dtypes == \"O\"]\n",
        "    cat_cols = cat_cols + num_but_cat\n",
        "    cat_cols = [col for col in cat_cols if col not in cat_but_car]\n",
        "\n",
        "    # num_cols\n",
        "    num_cols = [col for col in dataframe.columns if dataframe[col].dtypes != \"O\"]\n",
        "    num_cols = [col for col in num_cols if col not in num_but_cat]\n",
        "\n",
        "    print(f\"Observations: {dataframe.shape[0]}\")\n",
        "    print(f\"Variables: {dataframe.shape[1]}\")\n",
        "    print(f'cat_cols: {len(cat_cols)}')\n",
        "    print(f'num_cols: {len(num_cols)}')\n",
        "    print(f'cat_but_car: {len(cat_but_car)}')\n",
        "    print(f'num_but_cat: {len(num_but_cat)}')\n",
        "    return cat_cols, num_cols, cat_but_car\n",
        "\n",
        "cat_cols, num_cols, cat_but_car = grab_col_names(df)"
      ]
    },
    {
      "cell_type": "code",
      "execution_count": null,
      "id": "bc264065",
      "metadata": {
        "execution": {
          "iopub.execute_input": "2022-10-13T15:42:26.521947Z",
          "iopub.status.busy": "2022-10-13T15:42:26.520893Z",
          "iopub.status.idle": "2022-10-13T15:42:26.527797Z",
          "shell.execute_reply": "2022-10-13T15:42:26.526836Z"
        },
        "papermill": {
          "duration": 0.031356,
          "end_time": "2022-10-13T15:42:26.530232",
          "exception": false,
          "start_time": "2022-10-13T15:42:26.498876",
          "status": "completed"
        },
        "tags": [],
        "id": "bc264065",
        "outputId": "d3a4b5ac-4b36-4f68-e980-0314be26aaed"
      },
      "outputs": [
        {
          "data": {
            "text/plain": [
              "['Pregnancies',\n",
              " 'Glucose',\n",
              " 'BloodPressure',\n",
              " 'SkinThickness',\n",
              " 'Insulin',\n",
              " 'BMI',\n",
              " 'DiabetesPedigreeFunction',\n",
              " 'Age']"
            ]
          },
          "execution_count": 7,
          "metadata": {},
          "output_type": "execute_result"
        }
      ],
      "source": [
        "num_cols"
      ]
    },
    {
      "cell_type": "markdown",
      "id": "f7dd12e2",
      "metadata": {
        "papermill": {
          "duration": 0.021498,
          "end_time": "2022-10-13T15:42:26.572876",
          "exception": false,
          "start_time": "2022-10-13T15:42:26.551378",
          "status": "completed"
        },
        "tags": [],
        "id": "f7dd12e2"
      },
      "source": [
        "##### 1.3.3.Target Variable Analysis"
      ]
    },
    {
      "cell_type": "code",
      "execution_count": null,
      "id": "b4e2fa8f",
      "metadata": {
        "execution": {
          "iopub.execute_input": "2022-10-13T15:42:26.618536Z",
          "iopub.status.busy": "2022-10-13T15:42:26.617443Z",
          "iopub.status.idle": "2022-10-13T15:42:26.626385Z",
          "shell.execute_reply": "2022-10-13T15:42:26.625267Z"
        },
        "papermill": {
          "duration": 0.03403,
          "end_time": "2022-10-13T15:42:26.628625",
          "exception": false,
          "start_time": "2022-10-13T15:42:26.594595",
          "status": "completed"
        },
        "tags": [],
        "id": "b4e2fa8f",
        "outputId": "38f31e5c-fb8c-4a18-d764-bd9ff7f7c7bd"
      },
      "outputs": [
        {
          "data": {
            "text/plain": [
              "0    500\n",
              "1    268\n",
              "Name: Outcome, dtype: int64"
            ]
          },
          "execution_count": 8,
          "metadata": {},
          "output_type": "execute_result"
        }
      ],
      "source": [
        "df[\"Outcome\"].value_counts()"
      ]
    },
    {
      "cell_type": "code",
      "execution_count": null,
      "id": "4d30b6be",
      "metadata": {
        "execution": {
          "iopub.execute_input": "2022-10-13T15:42:26.673147Z",
          "iopub.status.busy": "2022-10-13T15:42:26.672379Z",
          "iopub.status.idle": "2022-10-13T15:42:26.702224Z",
          "shell.execute_reply": "2022-10-13T15:42:26.700909Z"
        },
        "papermill": {
          "duration": 0.05465,
          "end_time": "2022-10-13T15:42:26.704593",
          "exception": false,
          "start_time": "2022-10-13T15:42:26.649943",
          "status": "completed"
        },
        "tags": [],
        "id": "4d30b6be",
        "outputId": "0a59176a-971f-4e00-d33e-c32262b28738"
      },
      "outputs": [
        {
          "name": "stdout",
          "output_type": "stream",
          "text": [
            "         Pregnancies\n",
            "Outcome             \n",
            "0           3.298000\n",
            "1           4.865672\n",
            "\n",
            "###################################\n",
            "            Glucose\n",
            "Outcome            \n",
            "0        110.643863\n",
            "1        142.319549\n",
            "\n",
            "###################################\n",
            "         BloodPressure\n",
            "Outcome               \n",
            "0            70.877339\n",
            "1            75.321429\n",
            "\n",
            "###################################\n",
            "         SkinThickness\n",
            "Outcome               \n",
            "0            27.235457\n",
            "1            33.000000\n",
            "\n",
            "###################################\n",
            "            Insulin\n",
            "Outcome            \n",
            "0        130.287879\n",
            "1        206.846154\n",
            "\n",
            "###################################\n",
            "               BMI\n",
            "Outcome           \n",
            "0        30.859674\n",
            "1        35.406767\n",
            "\n",
            "###################################\n",
            "         DiabetesPedigreeFunction\n",
            "Outcome                          \n",
            "0                        0.429734\n",
            "1                        0.550500\n",
            "\n",
            "###################################\n",
            "               Age\n",
            "Outcome           \n",
            "0        31.190000\n",
            "1        37.067164\n",
            "\n",
            "###################################\n"
          ]
        }
      ],
      "source": [
        "def target_summary_with_num(dataframe,target, numerical_col):\n",
        "    print(dataframe.groupby(target).agg({numerical_col:\"mean\"}), end=\"\\n\\n\")\n",
        "    print(\"###################################\")\n",
        "\n",
        "for col in num_cols:\n",
        "    target_summary_with_num(df,\"Outcome\",col)"
      ]
    },
    {
      "cell_type": "code",
      "execution_count": null,
      "id": "9ece02ec",
      "metadata": {
        "execution": {
          "iopub.execute_input": "2022-10-13T15:42:26.749863Z",
          "iopub.status.busy": "2022-10-13T15:42:26.749097Z",
          "iopub.status.idle": "2022-10-13T15:42:28.844876Z",
          "shell.execute_reply": "2022-10-13T15:42:28.843801Z"
        },
        "papermill": {
          "duration": 2.12145,
          "end_time": "2022-10-13T15:42:28.847664",
          "exception": false,
          "start_time": "2022-10-13T15:42:26.726214",
          "status": "completed"
        },
        "tags": [],
        "id": "9ece02ec",
        "outputId": "ad1d5658-4c6f-4026-f8b1-04c7354dd8bc"
      },
      "outputs": [
        {
          "data": {
            "image/png": "[encoded data removed]",
            "text/plain": [
              "<Figure size 1080x576 with 1 Axes>"
            ]
          },
          "metadata": {
            "needs_background": "light"
          },
          "output_type": "display_data"
        },
        {
          "data": {
            "image/png": "[encoded data removed]",
            "text/plain": [
              "<Figure size 1080x576 with 1 Axes>"
            ]
          },
          "metadata": {
            "needs_background": "light"
          },
          "output_type": "display_data"
        },
        {
          "data": {
            "image/png": "[encoded data removed]",
            "text/plain": [
              "<Figure size 1080x576 with 1 Axes>"
            ]
          },
          "metadata": {
            "needs_background": "light"
          },
          "output_type": "display_data"
        },
        {
          "data": {
            "image/png": "[encoded data removed]",
            "text/plain": [
              "<Figure size 1080x576 with 1 Axes>"
            ]
          },
          "metadata": {
            "needs_background": "light"
          },
          "output_type": "display_data"
        },
        {
          "data": {
            "image/png": "[encoded data removed]",
            "text/plain": [
              "<Figure size 1080x576 with 1 Axes>"
            ]
          },
          "metadata": {
            "needs_background": "light"
          },
          "output_type": "display_data"
        },
        {
          "data": {
            "image/png": "[encoded data removed]",
            "text/plain": [
              "<Figure size 1080x576 with 1 Axes>"
            ]
          },
          "metadata": {
            "needs_background": "light"
          },
          "output_type": "display_data"
        },
        {
          "data": {
            "image/png": "[encoded data removed]",
            "text/plain": [
              "<Figure size 1080x576 with 1 Axes>"
            ]
          },
          "metadata": {
            "needs_background": "light"
          },
          "output_type": "display_data"
        },
        {
          "data": {
            "image/png": "[encoded data removed]",
            "text/plain": [
              "<Figure size 1080x576 with 1 Axes>"
            ]
          },
          "metadata": {
            "needs_background": "light"
          },
          "output_type": "display_data"
        }
      ],
      "source": [
        "def target_density_est_with_num(dataframe,target, numerical_col):\n",
        "    plt.figure(figsize=(15,8))\n",
        "    ax = sns.kdeplot(df[col][df.Outcome == 1], color=\"green\", shade=True)\n",
        "    sns.kdeplot(df[col][df.Outcome == 0], color=\"red\", shade=True)\n",
        "    plt.legend(['Has Diabete', 'Has no Diabete'])\n",
        "    plt.xlim(-10,150)\n",
        "    plt.title(\"Diabetic Density of Numerical Variables\")\n",
        "    plt.show()\n",
        "\n",
        "for col in num_cols:\n",
        "    target_density_est_with_num(df,\"Outcome\",col)"
      ]
    },
    {
      "cell_type": "markdown",
      "id": "e1f9bdae",
      "metadata": {
        "papermill": {
          "duration": 0.025363,
          "end_time": "2022-10-13T15:42:28.899786",
          "exception": false,
          "start_time": "2022-10-13T15:42:28.874423",
          "status": "completed"
        },
        "tags": [],
        "id": "e1f9bdae"
      },
      "source": [
        "##### 1.3.4.Outliers Analysis"
      ]
    },
    {
      "cell_type": "markdown",
      "id": "5f217fab",
      "metadata": {
        "papermill": {
          "duration": 0.026079,
          "end_time": "2022-10-13T15:42:28.951905",
          "exception": false,
          "start_time": "2022-10-13T15:42:28.925826",
          "status": "completed"
        },
        "tags": [],
        "id": "5f217fab"
      },
      "source": [
        "Define a Function about outlier threshold for data columns\n"
      ]
    },
    {
      "cell_type": "code",
      "execution_count": null,
      "id": "43026850",
      "metadata": {
        "execution": {
          "iopub.execute_input": "2022-10-13T15:42:29.006577Z",
          "iopub.status.busy": "2022-10-13T15:42:29.006167Z",
          "iopub.status.idle": "2022-10-13T15:42:29.011389Z",
          "shell.execute_reply": "2022-10-13T15:42:29.010593Z"
        },
        "papermill": {
          "duration": 0.035043,
          "end_time": "2022-10-13T15:42:29.013333",
          "exception": false,
          "start_time": "2022-10-13T15:42:28.978290",
          "status": "completed"
        },
        "tags": [],
        "id": "43026850"
      },
      "outputs": [],
      "source": [
        "def outlier_th(dataframe, col_name, q1=0.25, q3=0.75):\n",
        "    quartile1 = dataframe[col_name].quantile(q1)\n",
        "    quartile3 = dataframe[col_name].quantile(q3)\n",
        "    interquantile_range = quartile3 - quartile1\n",
        "    up_limit = quartile3 + 1.5 * interquantile_range\n",
        "    low_limit = quartile1 - 1.5 * interquantile_range\n",
        "    return low_limit, up_limit"
      ]
    },
    {
      "cell_type": "markdown",
      "id": "ce65d8ee",
      "metadata": {
        "papermill": {
          "duration": 0.026673,
          "end_time": "2022-10-13T15:42:29.066270",
          "exception": false,
          "start_time": "2022-10-13T15:42:29.039597",
          "status": "completed"
        },
        "tags": [],
        "id": "ce65d8ee"
      },
      "source": [
        "Define a Function about checking outlier for data columns\n"
      ]
    },
    {
      "cell_type": "code",
      "execution_count": null,
      "id": "3c3b6ccc",
      "metadata": {
        "execution": {
          "iopub.execute_input": "2022-10-13T15:42:29.122043Z",
          "iopub.status.busy": "2022-10-13T15:42:29.121030Z",
          "iopub.status.idle": "2022-10-13T15:42:29.127841Z",
          "shell.execute_reply": "2022-10-13T15:42:29.127053Z"
        },
        "papermill": {
          "duration": 0.036837,
          "end_time": "2022-10-13T15:42:29.129874",
          "exception": false,
          "start_time": "2022-10-13T15:42:29.093037",
          "status": "completed"
        },
        "tags": [],
        "id": "3c3b6ccc"
      },
      "outputs": [],
      "source": [
        "def check_outlier(dataframe, col_name):\n",
        "    low_limit, up_limit = outlier_th(dataframe, col_name)\n",
        "    if dataframe[(dataframe[col_name] > up_limit) | (dataframe[col_name] < low_limit)].any(axis=None):\n",
        "        return True\n",
        "    else:\n",
        "        return False"
      ]
    },
    {
      "cell_type": "markdown",
      "id": "c1514d2b",
      "metadata": {
        "papermill": {
          "duration": 0.026023,
          "end_time": "2022-10-13T15:42:29.182124",
          "exception": false,
          "start_time": "2022-10-13T15:42:29.156101",
          "status": "completed"
        },
        "tags": [],
        "id": "c1514d2b"
      },
      "source": [
        "Define a Function about replace with threshold for data columns\n"
      ]
    },
    {
      "cell_type": "code",
      "execution_count": null,
      "id": "e819ae67",
      "metadata": {
        "execution": {
          "iopub.execute_input": "2022-10-13T15:42:29.236889Z",
          "iopub.status.busy": "2022-10-13T15:42:29.236487Z",
          "iopub.status.idle": "2022-10-13T15:42:29.242474Z",
          "shell.execute_reply": "2022-10-13T15:42:29.241454Z"
        },
        "papermill": {
          "duration": 0.035979,
          "end_time": "2022-10-13T15:42:29.244663",
          "exception": false,
          "start_time": "2022-10-13T15:42:29.208684",
          "status": "completed"
        },
        "tags": [],
        "id": "e819ae67"
      },
      "outputs": [],
      "source": [
        "def replace_with_thresholds(dataframe, variable):\n",
        "    low_limit, up_limit = outlier_th(dataframe, variable)\n",
        "    dataframe.loc[(dataframe[variable] < low_limit), variable] = low_limit\n",
        "    dataframe.loc[(dataframe[variable] > up_limit), variable] = up_limit"
      ]
    },
    {
      "cell_type": "code",
      "execution_count": null,
      "id": "25898695",
      "metadata": {
        "execution": {
          "iopub.execute_input": "2022-10-13T15:42:29.300054Z",
          "iopub.status.busy": "2022-10-13T15:42:29.298775Z",
          "iopub.status.idle": "2022-10-13T15:42:29.330316Z",
          "shell.execute_reply": "2022-10-13T15:42:29.328994Z"
        },
        "papermill": {
          "duration": 0.061624,
          "end_time": "2022-10-13T15:42:29.332731",
          "exception": false,
          "start_time": "2022-10-13T15:42:29.271107",
          "status": "completed"
        },
        "tags": [],
        "id": "25898695",
        "outputId": "8735fe28-b233-421d-840b-c2b2c23fbbbb"
      },
      "outputs": [
        {
          "name": "stdout",
          "output_type": "stream",
          "text": [
            "Pregnancies True\n",
            "Glucose False\n",
            "BloodPressure True\n",
            "SkinThickness True\n",
            "Insulin True\n",
            "BMI True\n",
            "DiabetesPedigreeFunction True\n",
            "Age True\n"
          ]
        }
      ],
      "source": [
        "for col in num_cols:\n",
        "    print(col, check_outlier(df, col))"
      ]
    },
    {
      "cell_type": "code",
      "execution_count": null,
      "id": "d3463629",
      "metadata": {
        "execution": {
          "iopub.execute_input": "2022-10-13T15:42:29.387941Z",
          "iopub.status.busy": "2022-10-13T15:42:29.387261Z",
          "iopub.status.idle": "2022-10-13T15:42:29.413307Z",
          "shell.execute_reply": "2022-10-13T15:42:29.412483Z"
        },
        "papermill": {
          "duration": 0.056529,
          "end_time": "2022-10-13T15:42:29.416139",
          "exception": false,
          "start_time": "2022-10-13T15:42:29.359610",
          "status": "completed"
        },
        "tags": [],
        "id": "d3463629"
      },
      "outputs": [],
      "source": [
        "for col in num_cols:\n",
        "    replace_with_thresholds(df, col)"
      ]
    },
    {
      "cell_type": "code",
      "execution_count": null,
      "id": "b702b989",
      "metadata": {
        "execution": {
          "iopub.execute_input": "2022-10-13T15:42:29.472002Z",
          "iopub.status.busy": "2022-10-13T15:42:29.471436Z",
          "iopub.status.idle": "2022-10-13T15:42:29.499869Z",
          "shell.execute_reply": "2022-10-13T15:42:29.498999Z"
        },
        "papermill": {
          "duration": 0.05955,
          "end_time": "2022-10-13T15:42:29.502728",
          "exception": false,
          "start_time": "2022-10-13T15:42:29.443178",
          "status": "completed"
        },
        "tags": [],
        "id": "b702b989",
        "outputId": "946da0b0-24f4-4a2c-d717-00f70481fc6f"
      },
      "outputs": [
        {
          "name": "stdout",
          "output_type": "stream",
          "text": [
            "Pregnancies False\n",
            "Glucose False\n",
            "BloodPressure False\n",
            "SkinThickness False\n",
            "Insulin False\n",
            "BMI False\n",
            "DiabetesPedigreeFunction False\n",
            "Age False\n"
          ]
        }
      ],
      "source": [
        "for col in num_cols:\n",
        "    print(col, check_outlier(df, col))"
      ]
    },
    {
      "cell_type": "markdown",
      "id": "1a552f9f",
      "metadata": {
        "papermill": {
          "duration": 0.026495,
          "end_time": "2022-10-13T15:42:29.557255",
          "exception": false,
          "start_time": "2022-10-13T15:42:29.530760",
          "status": "completed"
        },
        "tags": [],
        "id": "1a552f9f"
      },
      "source": [
        "##### 1.3.5.The Missing Values Analysis\n"
      ]
    },
    {
      "cell_type": "code",
      "execution_count": null,
      "id": "37730fe3",
      "metadata": {
        "execution": {
          "iopub.execute_input": "2022-10-13T15:42:29.613525Z",
          "iopub.status.busy": "2022-10-13T15:42:29.612806Z",
          "iopub.status.idle": "2022-10-13T15:42:29.629225Z",
          "shell.execute_reply": "2022-10-13T15:42:29.627724Z"
        },
        "papermill": {
          "duration": 0.047338,
          "end_time": "2022-10-13T15:42:29.631659",
          "exception": false,
          "start_time": "2022-10-13T15:42:29.584321",
          "status": "completed"
        },
        "tags": [],
        "id": "37730fe3",
        "outputId": "e782c066-406e-4e36-e47a-46eb83a87066"
      },
      "outputs": [
        {
          "name": "stdout",
          "output_type": "stream",
          "text": [
            "               n_miss  ratio\n",
            "Insulin           374  48.70\n",
            "SkinThickness     227  29.56\n",
            "BloodPressure      35   4.56\n",
            "BMI                11   1.43\n",
            "Glucose             5   0.65\n"
          ]
        }
      ],
      "source": [
        "def missing_values_table(dataframe, na_name=False):\n",
        "    na_columns = [col for col in dataframe.columns if dataframe[col].isnull().sum() > 0]\n",
        "\n",
        "    n_miss = dataframe[na_columns].isnull().sum().sort_values(ascending=False)\n",
        "    ratio = (dataframe[na_columns].isnull().sum() / dataframe.shape[0] * 100).sort_values(ascending=False)\n",
        "    missing_df = pd.concat([n_miss, np.round(ratio, 2)], axis=1, keys=['n_miss', 'ratio'])\n",
        "    print(missing_df, end=\"\\n\")\n",
        "\n",
        "    if na_name:\n",
        "        return na_columns\n",
        "\n",
        "missing_values_table(df)"
      ]
    },
    {
      "cell_type": "markdown",
      "id": "f2fd7d15",
      "metadata": {
        "papermill": {
          "duration": 0.026679,
          "end_time": "2022-10-13T15:42:29.685330",
          "exception": false,
          "start_time": "2022-10-13T15:42:29.658651",
          "status": "completed"
        },
        "tags": [],
        "id": "f2fd7d15"
      },
      "source": [
        "##### 1.3.6.Correlation Analysis"
      ]
    },
    {
      "cell_type": "code",
      "execution_count": null,
      "id": "df69659b",
      "metadata": {
        "execution": {
          "iopub.execute_input": "2022-10-13T15:42:29.741555Z",
          "iopub.status.busy": "2022-10-13T15:42:29.740305Z",
          "iopub.status.idle": "2022-10-13T15:42:29.756711Z",
          "shell.execute_reply": "2022-10-13T15:42:29.755714Z"
        },
        "papermill": {
          "duration": 0.046848,
          "end_time": "2022-10-13T15:42:29.758919",
          "exception": false,
          "start_time": "2022-10-13T15:42:29.712071",
          "status": "completed"
        },
        "tags": [],
        "id": "df69659b",
        "outputId": "0b064fae-6eea-45b7-ceba-1444b60d20d9"
      },
      "outputs": [
        {
          "data": {
            "text/html": [
              "<div>\n",
              "<style scoped>\n",
              "    .dataframe tbody tr th:only-of-type {\n",
              "        vertical-align: middle;\n",
              "    }\n",
              "\n",
              "    .dataframe tbody tr th {\n",
              "        vertical-align: top;\n",
              "    }\n",
              "\n",
              "    .dataframe thead th {\n",
              "        text-align: right;\n",
              "    }\n",
              "</style>\n",
              "<table border=\"1\" class=\"dataframe\">\n",
              "  <thead>\n",
              "    <tr style=\"text-align: right;\">\n",
              "      <th></th>\n",
              "      <th>Glucose</th>\n",
              "      <th>BloodPressure</th>\n",
              "      <th>SkinThickness</th>\n",
              "      <th>Insulin</th>\n",
              "      <th>BMI</th>\n",
              "    </tr>\n",
              "  </thead>\n",
              "  <tbody>\n",
              "    <tr>\n",
              "      <th>Glucose</th>\n",
              "      <td>1.000000</td>\n",
              "      <td>0.224525</td>\n",
              "      <td>0.216705</td>\n",
              "      <td>0.613915</td>\n",
              "      <td>0.235458</td>\n",
              "    </tr>\n",
              "    <tr>\n",
              "      <th>BloodPressure</th>\n",
              "      <td>0.224525</td>\n",
              "      <td>1.000000</td>\n",
              "      <td>0.241438</td>\n",
              "      <td>0.114789</td>\n",
              "      <td>0.294827</td>\n",
              "    </tr>\n",
              "    <tr>\n",
              "      <th>SkinThickness</th>\n",
              "      <td>0.216705</td>\n",
              "      <td>0.241438</td>\n",
              "      <td>1.000000</td>\n",
              "      <td>0.200102</td>\n",
              "      <td>0.674511</td>\n",
              "    </tr>\n",
              "    <tr>\n",
              "      <th>Insulin</th>\n",
              "      <td>0.613915</td>\n",
              "      <td>0.114789</td>\n",
              "      <td>0.200102</td>\n",
              "      <td>1.000000</td>\n",
              "      <td>0.266070</td>\n",
              "    </tr>\n",
              "    <tr>\n",
              "      <th>BMI</th>\n",
              "      <td>0.235458</td>\n",
              "      <td>0.294827</td>\n",
              "      <td>0.674511</td>\n",
              "      <td>0.266070</td>\n",
              "      <td>1.000000</td>\n",
              "    </tr>\n",
              "  </tbody>\n",
              "</table>\n",
              "</div>"
            ],
            "text/plain": [
              "                Glucose  BloodPressure  SkinThickness   Insulin       BMI\n",
              "Glucose        1.000000       0.224525       0.216705  0.613915  0.235458\n",
              "BloodPressure  0.224525       1.000000       0.241438  0.114789  0.294827\n",
              "SkinThickness  0.216705       0.241438       1.000000  0.200102  0.674511\n",
              "Insulin        0.613915       0.114789       0.200102  1.000000  0.266070\n",
              "BMI            0.235458       0.294827       0.674511  0.266070  1.000000"
            ]
          },
          "execution_count": 18,
          "metadata": {},
          "output_type": "execute_result"
        }
      ],
      "source": [
        "dimension_variable = [\"Glucose\",\"BloodPressure\",\"SkinThickness\",\"Insulin\",\"BMI\"]\n",
        "corr_matrix = df[dimension_variable].corr()\n",
        "corr_matrix"
      ]
    },
    {
      "cell_type": "code",
      "execution_count": null,
      "id": "b64d36a5",
      "metadata": {
        "execution": {
          "iopub.execute_input": "2022-10-13T15:42:29.814354Z",
          "iopub.status.busy": "2022-10-13T15:42:29.813967Z",
          "iopub.status.idle": "2022-10-13T15:42:29.981550Z",
          "shell.execute_reply": "2022-10-13T15:42:29.980274Z"
        },
        "papermill": {
          "duration": 0.19826,
          "end_time": "2022-10-13T15:42:29.983803",
          "exception": false,
          "start_time": "2022-10-13T15:42:29.785543",
          "status": "completed"
        },
        "tags": [],
        "id": "b64d36a5",
        "outputId": "19003681-6d11-46a7-8996-f2400c2d3dd0"
      },
      "outputs": [
        {
          "name": "stderr",
          "output_type": "stream",
          "text": [
            "/opt/conda/lib/python3.7/site-packages/ipykernel_launcher.py:18: UserWarning: FixedFormatter should only be used together with FixedLocator\n",
            "/opt/conda/lib/python3.7/site-packages/ipykernel_launcher.py:19: UserWarning: FixedFormatter should only be used together with FixedLocator\n"
          ]
        },
        {
          "data": {
            "image/png": "[encoded data removed]",
            "text/plain": [
              "<Figure size 432x288 with 2 Axes>"
            ]
          },
          "metadata": {
            "needs_background": "light"
          },
          "output_type": "display_data"
        }
      ],
      "source": [
        "import matplotlib\n",
        "import matplotlib.pyplot as plt\n",
        "from matplotlib import cm\n",
        "\n",
        "fig, ax = plt.subplots()\n",
        "heatmap = ax.imshow(corr_matrix, interpolation='nearest', cmap=cm.coolwarm)\n",
        "\n",
        "# making the colorbar on the side\n",
        "cbar_min = corr_matrix.min().min()\n",
        "cbar_max = corr_matrix.max().max()\n",
        "cbar = fig.colorbar(heatmap, ticks=[cbar_min, cbar_max])\n",
        "\n",
        "# making the labels\n",
        "labels = ['']\n",
        "for column in dimension_variable:\n",
        "    labels.append(column)\n",
        "    labels.append('')\n",
        "ax.set_yticklabels(labels, minor=False)\n",
        "ax.set_xticklabels(labels, minor=False)\n",
        "\n",
        "plt.show()"
      ]
    },
    {
      "cell_type": "markdown",
      "id": "dd92effe",
      "metadata": {
        "papermill": {
          "duration": 0.027185,
          "end_time": "2022-10-13T15:42:30.039130",
          "exception": false,
          "start_time": "2022-10-13T15:42:30.011945",
          "status": "completed"
        },
        "tags": [],
        "id": "dd92effe"
      },
      "source": [
        "##                           2.FEATURE ENGINEERING                                      #\n"
      ]
    },
    {
      "cell_type": "markdown",
      "id": "86a6eafd",
      "metadata": {
        "papermill": {
          "duration": 0.027252,
          "end_time": "2022-10-13T15:42:30.094395",
          "exception": false,
          "start_time": "2022-10-13T15:42:30.067143",
          "status": "completed"
        },
        "tags": [],
        "id": "86a6eafd"
      },
      "source": [
        "#### **2.1.Processing for Missing Values and Outliers**\n",
        "<a id=\"processing_for_missing_values_and_outliers\"></a>"
      ]
    },
    {
      "cell_type": "code",
      "execution_count": null,
      "id": "6c79d65b",
      "metadata": {
        "execution": {
          "iopub.execute_input": "2022-10-13T15:42:30.151857Z",
          "iopub.status.busy": "2022-10-13T15:42:30.151469Z",
          "iopub.status.idle": "2022-10-13T15:42:30.165023Z",
          "shell.execute_reply": "2022-10-13T15:42:30.163754Z"
        },
        "papermill": {
          "duration": 0.044875,
          "end_time": "2022-10-13T15:42:30.167264",
          "exception": false,
          "start_time": "2022-10-13T15:42:30.122389",
          "status": "completed"
        },
        "tags": [],
        "id": "6c79d65b",
        "outputId": "68e4dd1c-20d4-4af3-e57d-aabe37175653"
      },
      "outputs": [
        {
          "name": "stdout",
          "output_type": "stream",
          "text": [
            "               n_miss  ratio\n",
            "Insulin           374  48.70\n",
            "SkinThickness     227  29.56\n",
            "BloodPressure      35   4.56\n",
            "BMI                11   1.43\n",
            "Glucose             5   0.65\n"
          ]
        }
      ],
      "source": [
        "na_cols = missing_values_table(df, True)\n"
      ]
    },
    {
      "cell_type": "markdown",
      "id": "21266d61",
      "metadata": {
        "papermill": {
          "duration": 0.027209,
          "end_time": "2022-10-13T15:42:30.221753",
          "exception": false,
          "start_time": "2022-10-13T15:42:30.194544",
          "status": "completed"
        },
        "tags": [],
        "id": "21266d61"
      },
      "source": [
        "Define a Function about comparing target variable with missing values"
      ]
    },
    {
      "cell_type": "code",
      "execution_count": null,
      "id": "3921966c",
      "metadata": {
        "execution": {
          "iopub.execute_input": "2022-10-13T15:42:30.278659Z",
          "iopub.status.busy": "2022-10-13T15:42:30.277975Z",
          "iopub.status.idle": "2022-10-13T15:42:30.306205Z",
          "shell.execute_reply": "2022-10-13T15:42:30.304675Z"
        },
        "papermill": {
          "duration": 0.059683,
          "end_time": "2022-10-13T15:42:30.308780",
          "exception": false,
          "start_time": "2022-10-13T15:42:30.249097",
          "status": "completed"
        },
        "tags": [],
        "id": "3921966c",
        "outputId": "311c4a08-5c86-4809-b26b-c10aa0af1fe6"
      },
      "outputs": [
        {
          "name": "stdout",
          "output_type": "stream",
          "text": [
            "                 TARGET_MEAN  Count\n",
            "Glucose_NA_FLAG                    \n",
            "0                   0.348624    763\n",
            "1                   0.400000      5\n",
            "\n",
            "\n",
            "                       TARGET_MEAN  Count\n",
            "BloodPressure_NA_FLAG                    \n",
            "0                         0.343793    733\n",
            "1                         0.457143     35\n",
            "\n",
            "\n",
            "                       TARGET_MEAN  Count\n",
            "SkinThickness_NA_FLAG                    \n",
            "0                         0.332717    541\n",
            "1                         0.387665    227\n",
            "\n",
            "\n",
            "                 TARGET_MEAN  Count\n",
            "Insulin_NA_FLAG                    \n",
            "0                   0.329949    394\n",
            "1                   0.368984    374\n",
            "\n",
            "\n",
            "             TARGET_MEAN  Count\n",
            "BMI_NA_FLAG                    \n",
            "0               0.351387    757\n",
            "1               0.181818     11\n",
            "\n",
            "\n"
          ]
        }
      ],
      "source": [
        "def missing_vs_target(dataframe, target, na_columns):\n",
        "    temp_df = dataframe.copy()\n",
        "    for col in na_columns:\n",
        "        temp_df[col + '_NA_FLAG'] = np.where(temp_df[col].isnull(), 1, 0)\n",
        "\n",
        "    na_flags = temp_df.loc[:, temp_df.columns.str.contains(\"_NA_\")].columns\n",
        "\n",
        "    for col in na_flags:\n",
        "        print(pd.DataFrame({\"TARGET_MEAN\": temp_df.groupby(col)[target].mean(),\n",
        "                            \"Count\": temp_df.groupby(col)[target].count()}), end=\"\\n\\n\\n\")\n",
        "\n",
        "\n",
        "missing_vs_target(df, \"Outcome\", na_cols)"
      ]
    },
    {
      "cell_type": "markdown",
      "id": "c56ebd71",
      "metadata": {
        "papermill": {
          "duration": 0.02768,
          "end_time": "2022-10-13T15:42:30.364247",
          "exception": false,
          "start_time": "2022-10-13T15:42:30.336567",
          "status": "completed"
        },
        "tags": [],
        "id": "c56ebd71"
      },
      "source": [
        "**Conclusion:**\n",
        "We examined the missing values of each variable according to the target variable.\n",
        "So we decided to apply different methods in order to fill na values according to state of each variable.\n"
      ]
    },
    {
      "cell_type": "markdown",
      "id": "36e32ba3",
      "metadata": {
        "papermill": {
          "duration": 0.027095,
          "end_time": "2022-10-13T15:42:30.419158",
          "exception": false,
          "start_time": "2022-10-13T15:42:30.392063",
          "status": "completed"
        },
        "tags": [],
        "id": "36e32ba3"
      },
      "source": [
        "Fill the missing values of some variables with the median\n"
      ]
    },
    {
      "cell_type": "code",
      "execution_count": null,
      "id": "b4513f7d",
      "metadata": {
        "execution": {
          "iopub.execute_input": "2022-10-13T15:42:30.475575Z",
          "iopub.status.busy": "2022-10-13T15:42:30.475182Z",
          "iopub.status.idle": "2022-10-13T15:42:30.483455Z",
          "shell.execute_reply": "2022-10-13T15:42:30.482636Z"
        },
        "papermill": {
          "duration": 0.038891,
          "end_time": "2022-10-13T15:42:30.485529",
          "exception": false,
          "start_time": "2022-10-13T15:42:30.446638",
          "status": "completed"
        },
        "tags": [],
        "id": "b4513f7d"
      },
      "outputs": [],
      "source": [
        "df[\"Glucose\"] = df[\"Glucose\"].fillna(df[\"Glucose\"].median())\n",
        "df[\"BloodPressure\"] = df[\"BloodPressure\"].fillna(df[\"BloodPressure\"].median())\n",
        "df[\"BMI\"] = df[\"BMI\"].fillna(df[\"BMI\"].median())"
      ]
    },
    {
      "cell_type": "markdown",
      "id": "278a1d4e",
      "metadata": {
        "papermill": {
          "duration": 0.027337,
          "end_time": "2022-10-13T15:42:30.540221",
          "exception": false,
          "start_time": "2022-10-13T15:42:30.512884",
          "status": "completed"
        },
        "tags": [],
        "id": "278a1d4e"
      },
      "source": [
        "Fill the missing values of \"Insulin\" and \"SkinThickness variables by implementing the KNN method\n"
      ]
    },
    {
      "cell_type": "code",
      "execution_count": null,
      "id": "ace27394",
      "metadata": {
        "execution": {
          "iopub.execute_input": "2022-10-13T15:42:30.598321Z",
          "iopub.status.busy": "2022-10-13T15:42:30.597601Z",
          "iopub.status.idle": "2022-10-13T15:42:30.605811Z",
          "shell.execute_reply": "2022-10-13T15:42:30.604759Z"
        },
        "papermill": {
          "duration": 0.04013,
          "end_time": "2022-10-13T15:42:30.608050",
          "exception": false,
          "start_time": "2022-10-13T15:42:30.567920",
          "status": "completed"
        },
        "tags": [],
        "id": "ace27394"
      },
      "outputs": [],
      "source": [
        "dff = pd.get_dummies(df[[\"Insulin\",\"SkinThickness\"]], drop_first=True)"
      ]
    },
    {
      "cell_type": "markdown",
      "id": "d5220540",
      "metadata": {
        "papermill": {
          "duration": 0.027665,
          "end_time": "2022-10-13T15:42:30.663373",
          "exception": false,
          "start_time": "2022-10-13T15:42:30.635708",
          "status": "completed"
        },
        "tags": [],
        "id": "d5220540"
      },
      "source": [
        "Standardization of variables\n"
      ]
    },
    {
      "cell_type": "code",
      "execution_count": null,
      "id": "c769a3de",
      "metadata": {
        "execution": {
          "iopub.execute_input": "2022-10-13T15:42:30.722815Z",
          "iopub.status.busy": "2022-10-13T15:42:30.722394Z",
          "iopub.status.idle": "2022-10-13T15:42:30.736367Z",
          "shell.execute_reply": "2022-10-13T15:42:30.735636Z"
        },
        "papermill": {
          "duration": 0.047023,
          "end_time": "2022-10-13T15:42:30.738281",
          "exception": false,
          "start_time": "2022-10-13T15:42:30.691258",
          "status": "completed"
        },
        "tags": [],
        "id": "c769a3de",
        "outputId": "35d3dad5-607c-40fb-a049-6739cd543d68"
      },
      "outputs": [
        {
          "data": {
            "text/html": [
              "<div>\n",
              "<style scoped>\n",
              "    .dataframe tbody tr th:only-of-type {\n",
              "        vertical-align: middle;\n",
              "    }\n",
              "\n",
              "    .dataframe tbody tr th {\n",
              "        vertical-align: top;\n",
              "    }\n",
              "\n",
              "    .dataframe thead th {\n",
              "        text-align: right;\n",
              "    }\n",
              "</style>\n",
              "<table border=\"1\" class=\"dataframe\">\n",
              "  <thead>\n",
              "    <tr style=\"text-align: right;\">\n",
              "      <th></th>\n",
              "      <th>Insulin</th>\n",
              "      <th>SkinThickness</th>\n",
              "    </tr>\n",
              "  </thead>\n",
              "  <tbody>\n",
              "    <tr>\n",
              "      <th>0</th>\n",
              "      <td>NaN</td>\n",
              "      <td>0.56</td>\n",
              "    </tr>\n",
              "    <tr>\n",
              "      <th>1</th>\n",
              "      <td>NaN</td>\n",
              "      <td>0.44</td>\n",
              "    </tr>\n",
              "    <tr>\n",
              "      <th>2</th>\n",
              "      <td>NaN</td>\n",
              "      <td>NaN</td>\n",
              "    </tr>\n",
              "    <tr>\n",
              "      <th>3</th>\n",
              "      <td>0.230797</td>\n",
              "      <td>0.32</td>\n",
              "    </tr>\n",
              "    <tr>\n",
              "      <th>4</th>\n",
              "      <td>0.444284</td>\n",
              "      <td>0.56</td>\n",
              "    </tr>\n",
              "  </tbody>\n",
              "</table>\n",
              "</div>"
            ],
            "text/plain": [
              "    Insulin  SkinThickness\n",
              "0       NaN           0.56\n",
              "1       NaN           0.44\n",
              "2       NaN            NaN\n",
              "3  0.230797           0.32\n",
              "4  0.444284           0.56"
            ]
          },
          "execution_count": 24,
          "metadata": {},
          "output_type": "execute_result"
        }
      ],
      "source": [
        "scaler = MinMaxScaler()\n",
        "dff = pd.DataFrame(scaler.fit_transform(dff), columns=dff.columns)\n",
        "dff.head()"
      ]
    },
    {
      "cell_type": "markdown",
      "id": "8b375475",
      "metadata": {
        "papermill": {
          "duration": 0.026965,
          "end_time": "2022-10-13T15:42:30.792555",
          "exception": false,
          "start_time": "2022-10-13T15:42:30.765590",
          "status": "completed"
        },
        "tags": [],
        "id": "8b375475"
      },
      "source": [
        "Implement the KNN method\n"
      ]
    },
    {
      "cell_type": "code",
      "execution_count": null,
      "id": "b0b15edb",
      "metadata": {
        "execution": {
          "iopub.execute_input": "2022-10-13T15:42:30.849759Z",
          "iopub.status.busy": "2022-10-13T15:42:30.849072Z",
          "iopub.status.idle": "2022-10-13T15:42:30.858892Z",
          "shell.execute_reply": "2022-10-13T15:42:30.857887Z"
        },
        "papermill": {
          "duration": 0.041335,
          "end_time": "2022-10-13T15:42:30.860997",
          "exception": false,
          "start_time": "2022-10-13T15:42:30.819662",
          "status": "completed"
        },
        "tags": [],
        "id": "b0b15edb"
      },
      "outputs": [],
      "source": [
        "from sklearn.impute import KNNImputer\n",
        "imputer = KNNImputer(n_neighbors=5)"
      ]
    },
    {
      "cell_type": "code",
      "execution_count": null,
      "id": "459cc3bf",
      "metadata": {
        "execution": {
          "iopub.execute_input": "2022-10-13T15:42:30.917615Z",
          "iopub.status.busy": "2022-10-13T15:42:30.917177Z",
          "iopub.status.idle": "2022-10-13T15:42:30.971796Z",
          "shell.execute_reply": "2022-10-13T15:42:30.970284Z"
        },
        "papermill": {
          "duration": 0.087027,
          "end_time": "2022-10-13T15:42:30.975716",
          "exception": false,
          "start_time": "2022-10-13T15:42:30.888689",
          "status": "completed"
        },
        "tags": [],
        "id": "459cc3bf",
        "outputId": "23f97d47-e815-494c-fe3f-95774e9c3dd2"
      },
      "outputs": [
        {
          "data": {
            "text/html": [
              "<div>\n",
              "<style scoped>\n",
              "    .dataframe tbody tr th:only-of-type {\n",
              "        vertical-align: middle;\n",
              "    }\n",
              "\n",
              "    .dataframe tbody tr th {\n",
              "        vertical-align: top;\n",
              "    }\n",
              "\n",
              "    .dataframe thead th {\n",
              "        text-align: right;\n",
              "    }\n",
              "</style>\n",
              "<table border=\"1\" class=\"dataframe\">\n",
              "  <thead>\n",
              "    <tr style=\"text-align: right;\">\n",
              "      <th></th>\n",
              "      <th>Insulin</th>\n",
              "      <th>SkinThickness</th>\n",
              "    </tr>\n",
              "  </thead>\n",
              "  <tbody>\n",
              "    <tr>\n",
              "      <th>0</th>\n",
              "      <td>0.591201</td>\n",
              "      <td>0.560000</td>\n",
              "    </tr>\n",
              "    <tr>\n",
              "      <th>1</th>\n",
              "      <td>0.477173</td>\n",
              "      <td>0.440000</td>\n",
              "    </tr>\n",
              "    <tr>\n",
              "      <th>2</th>\n",
              "      <td>0.382257</td>\n",
              "      <td>0.441183</td>\n",
              "    </tr>\n",
              "    <tr>\n",
              "      <th>3</th>\n",
              "      <td>0.230797</td>\n",
              "      <td>0.320000</td>\n",
              "    </tr>\n",
              "    <tr>\n",
              "      <th>4</th>\n",
              "      <td>0.444284</td>\n",
              "      <td>0.560000</td>\n",
              "    </tr>\n",
              "  </tbody>\n",
              "</table>\n",
              "</div>"
            ],
            "text/plain": [
              "    Insulin  SkinThickness\n",
              "0  0.591201       0.560000\n",
              "1  0.477173       0.440000\n",
              "2  0.382257       0.441183\n",
              "3  0.230797       0.320000\n",
              "4  0.444284       0.560000"
            ]
          },
          "execution_count": 26,
          "metadata": {},
          "output_type": "execute_result"
        }
      ],
      "source": [
        "dff = pd.DataFrame(imputer.fit_transform(dff), columns=dff.columns)\n",
        "dff.head()"
      ]
    },
    {
      "cell_type": "markdown",
      "id": "37d8aa52",
      "metadata": {
        "papermill": {
          "duration": 0.037434,
          "end_time": "2022-10-13T15:42:31.084006",
          "exception": false,
          "start_time": "2022-10-13T15:42:31.046572",
          "status": "completed"
        },
        "tags": [],
        "id": "37d8aa52"
      },
      "source": [
        "Undo the standardization of these variables\n"
      ]
    },
    {
      "cell_type": "code",
      "execution_count": null,
      "id": "12f1d515",
      "metadata": {
        "execution": {
          "iopub.execute_input": "2022-10-13T15:42:31.142544Z",
          "iopub.status.busy": "2022-10-13T15:42:31.142063Z",
          "iopub.status.idle": "2022-10-13T15:42:31.155017Z",
          "shell.execute_reply": "2022-10-13T15:42:31.154307Z"
        },
        "papermill": {
          "duration": 0.044189,
          "end_time": "2022-10-13T15:42:31.157075",
          "exception": false,
          "start_time": "2022-10-13T15:42:31.112886",
          "status": "completed"
        },
        "tags": [],
        "id": "12f1d515",
        "outputId": "c47613b6-1921-461d-b0d4-4170c73008dc"
      },
      "outputs": [
        {
          "data": {
            "text/html": [
              "<div>\n",
              "<style scoped>\n",
              "    .dataframe tbody tr th:only-of-type {\n",
              "        vertical-align: middle;\n",
              "    }\n",
              "\n",
              "    .dataframe tbody tr th {\n",
              "        vertical-align: top;\n",
              "    }\n",
              "\n",
              "    .dataframe thead th {\n",
              "        text-align: right;\n",
              "    }\n",
              "</style>\n",
              "<table border=\"1\" class=\"dataframe\">\n",
              "  <thead>\n",
              "    <tr style=\"text-align: right;\">\n",
              "      <th></th>\n",
              "      <th>Insulin</th>\n",
              "      <th>SkinThickness</th>\n",
              "    </tr>\n",
              "  </thead>\n",
              "  <tbody>\n",
              "    <tr>\n",
              "      <th>0</th>\n",
              "      <td>218.925</td>\n",
              "      <td>35.00000</td>\n",
              "    </tr>\n",
              "    <tr>\n",
              "      <th>1</th>\n",
              "      <td>179.400</td>\n",
              "      <td>29.00000</td>\n",
              "    </tr>\n",
              "    <tr>\n",
              "      <th>2</th>\n",
              "      <td>146.500</td>\n",
              "      <td>29.05915</td>\n",
              "    </tr>\n",
              "    <tr>\n",
              "      <th>3</th>\n",
              "      <td>94.000</td>\n",
              "      <td>23.00000</td>\n",
              "    </tr>\n",
              "    <tr>\n",
              "      <th>4</th>\n",
              "      <td>168.000</td>\n",
              "      <td>35.00000</td>\n",
              "    </tr>\n",
              "  </tbody>\n",
              "</table>\n",
              "</div>"
            ],
            "text/plain": [
              "   Insulin  SkinThickness\n",
              "0  218.925       35.00000\n",
              "1  179.400       29.00000\n",
              "2  146.500       29.05915\n",
              "3   94.000       23.00000\n",
              "4  168.000       35.00000"
            ]
          },
          "execution_count": 27,
          "metadata": {},
          "output_type": "execute_result"
        }
      ],
      "source": [
        "dff = pd.DataFrame(scaler.inverse_transform(dff), columns=dff.columns)\n",
        "dff.head()"
      ]
    },
    {
      "cell_type": "code",
      "execution_count": null,
      "id": "ca47742e",
      "metadata": {
        "execution": {
          "iopub.execute_input": "2022-10-13T15:42:31.214826Z",
          "iopub.status.busy": "2022-10-13T15:42:31.213735Z",
          "iopub.status.idle": "2022-10-13T15:42:31.219242Z",
          "shell.execute_reply": "2022-10-13T15:42:31.218353Z"
        },
        "papermill": {
          "duration": 0.036789,
          "end_time": "2022-10-13T15:42:31.221492",
          "exception": false,
          "start_time": "2022-10-13T15:42:31.184703",
          "status": "completed"
        },
        "tags": [],
        "id": "ca47742e"
      },
      "outputs": [],
      "source": [
        "df[\"Insulin\"] = dff[\"Insulin\"]\n",
        "df[\"SkinThickness\"]= dff[\"SkinThickness\"]"
      ]
    },
    {
      "cell_type": "code",
      "execution_count": null,
      "id": "10cf8551",
      "metadata": {
        "execution": {
          "iopub.execute_input": "2022-10-13T15:42:31.279119Z",
          "iopub.status.busy": "2022-10-13T15:42:31.278679Z",
          "iopub.status.idle": "2022-10-13T15:42:31.288294Z",
          "shell.execute_reply": "2022-10-13T15:42:31.287182Z"
        },
        "papermill": {
          "duration": 0.041328,
          "end_time": "2022-10-13T15:42:31.290665",
          "exception": false,
          "start_time": "2022-10-13T15:42:31.249337",
          "status": "completed"
        },
        "tags": [],
        "id": "10cf8551",
        "outputId": "9ffb062d-0839-4ecc-b484-da3092fd9ccc"
      },
      "outputs": [
        {
          "data": {
            "text/plain": [
              "Pregnancies                 0\n",
              "Glucose                     0\n",
              "BloodPressure               0\n",
              "SkinThickness               0\n",
              "Insulin                     0\n",
              "BMI                         0\n",
              "DiabetesPedigreeFunction    0\n",
              "Age                         0\n",
              "Outcome                     0\n",
              "dtype: int64"
            ]
          },
          "execution_count": 29,
          "metadata": {},
          "output_type": "execute_result"
        }
      ],
      "source": [
        "df.isnull().sum()"
      ]
    },
    {
      "cell_type": "markdown",
      "id": "79abcab9",
      "metadata": {
        "papermill": {
          "duration": 0.027768,
          "end_time": "2022-10-13T15:42:31.346648",
          "exception": false,
          "start_time": "2022-10-13T15:42:31.318880",
          "status": "completed"
        },
        "tags": [],
        "id": "79abcab9"
      },
      "source": [
        "#### **2.2.Creating New Feature Interactions**\n",
        "<a id=\"creating_new_feature_interactions\"></a>"
      ]
    },
    {
      "cell_type": "code",
      "execution_count": null,
      "id": "250e5f5f",
      "metadata": {
        "execution": {
          "iopub.execute_input": "2022-10-13T15:42:31.405310Z",
          "iopub.status.busy": "2022-10-13T15:42:31.404908Z",
          "iopub.status.idle": "2022-10-13T15:42:31.422771Z",
          "shell.execute_reply": "2022-10-13T15:42:31.421806Z"
        },
        "papermill": {
          "duration": 0.049257,
          "end_time": "2022-10-13T15:42:31.424761",
          "exception": false,
          "start_time": "2022-10-13T15:42:31.375504",
          "status": "completed"
        },
        "tags": [],
        "id": "250e5f5f",
        "outputId": "c537fd36-8c72-4051-cb0d-536c3301e385"
      },
      "outputs": [
        {
          "data": {
            "text/html": [
              "<div>\n",
              "<style scoped>\n",
              "    .dataframe tbody tr th:only-of-type {\n",
              "        vertical-align: middle;\n",
              "    }\n",
              "\n",
              "    .dataframe tbody tr th {\n",
              "        vertical-align: top;\n",
              "    }\n",
              "\n",
              "    .dataframe thead th {\n",
              "        text-align: right;\n",
              "    }\n",
              "</style>\n",
              "<table border=\"1\" class=\"dataframe\">\n",
              "  <thead>\n",
              "    <tr style=\"text-align: right;\">\n",
              "      <th></th>\n",
              "      <th>Pregnancies</th>\n",
              "      <th>Glucose</th>\n",
              "      <th>BloodPressure</th>\n",
              "      <th>SkinThickness</th>\n",
              "      <th>Insulin</th>\n",
              "      <th>BMI</th>\n",
              "      <th>DiabetesPedigreeFunction</th>\n",
              "      <th>Age</th>\n",
              "      <th>Outcome</th>\n",
              "    </tr>\n",
              "  </thead>\n",
              "  <tbody>\n",
              "    <tr>\n",
              "      <th>0</th>\n",
              "      <td>6.0</td>\n",
              "      <td>148.0</td>\n",
              "      <td>72.0</td>\n",
              "      <td>35.00000</td>\n",
              "      <td>218.925</td>\n",
              "      <td>33.6</td>\n",
              "      <td>0.627</td>\n",
              "      <td>50.0</td>\n",
              "      <td>1</td>\n",
              "    </tr>\n",
              "    <tr>\n",
              "      <th>1</th>\n",
              "      <td>1.0</td>\n",
              "      <td>85.0</td>\n",
              "      <td>66.0</td>\n",
              "      <td>29.00000</td>\n",
              "      <td>179.400</td>\n",
              "      <td>26.6</td>\n",
              "      <td>0.351</td>\n",
              "      <td>31.0</td>\n",
              "      <td>0</td>\n",
              "    </tr>\n",
              "    <tr>\n",
              "      <th>2</th>\n",
              "      <td>8.0</td>\n",
              "      <td>183.0</td>\n",
              "      <td>64.0</td>\n",
              "      <td>29.05915</td>\n",
              "      <td>146.500</td>\n",
              "      <td>23.3</td>\n",
              "      <td>0.672</td>\n",
              "      <td>32.0</td>\n",
              "      <td>1</td>\n",
              "    </tr>\n",
              "    <tr>\n",
              "      <th>3</th>\n",
              "      <td>1.0</td>\n",
              "      <td>89.0</td>\n",
              "      <td>66.0</td>\n",
              "      <td>23.00000</td>\n",
              "      <td>94.000</td>\n",
              "      <td>28.1</td>\n",
              "      <td>0.167</td>\n",
              "      <td>21.0</td>\n",
              "      <td>0</td>\n",
              "    </tr>\n",
              "    <tr>\n",
              "      <th>4</th>\n",
              "      <td>0.0</td>\n",
              "      <td>137.0</td>\n",
              "      <td>40.0</td>\n",
              "      <td>35.00000</td>\n",
              "      <td>168.000</td>\n",
              "      <td>43.1</td>\n",
              "      <td>1.200</td>\n",
              "      <td>33.0</td>\n",
              "      <td>1</td>\n",
              "    </tr>\n",
              "  </tbody>\n",
              "</table>\n",
              "</div>"
            ],
            "text/plain": [
              "   Pregnancies  Glucose  BloodPressure  SkinThickness  Insulin   BMI  \\\n",
              "0          6.0    148.0           72.0       35.00000  218.925  33.6   \n",
              "1          1.0     85.0           66.0       29.00000  179.400  26.6   \n",
              "2          8.0    183.0           64.0       29.05915  146.500  23.3   \n",
              "3          1.0     89.0           66.0       23.00000   94.000  28.1   \n",
              "4          0.0    137.0           40.0       35.00000  168.000  43.1   \n",
              "\n",
              "   DiabetesPedigreeFunction   Age  Outcome  \n",
              "0                     0.627  50.0        1  \n",
              "1                     0.351  31.0        0  \n",
              "2                     0.672  32.0        1  \n",
              "3                     0.167  21.0        0  \n",
              "4                     1.200  33.0        1  "
            ]
          },
          "execution_count": 30,
          "metadata": {},
          "output_type": "execute_result"
        }
      ],
      "source": [
        "df.head()"
      ]
    },
    {
      "cell_type": "markdown",
      "id": "78200387",
      "metadata": {
        "papermill": {
          "duration": 0.028253,
          "end_time": "2022-10-13T15:42:31.481579",
          "exception": false,
          "start_time": "2022-10-13T15:42:31.453326",
          "status": "completed"
        },
        "tags": [],
        "id": "78200387"
      },
      "source": [
        "**Create a Glucose Categorical variable**"
      ]
    },
    {
      "cell_type": "code",
      "execution_count": null,
      "id": "a36f1a59",
      "metadata": {
        "execution": {
          "iopub.execute_input": "2022-10-13T15:42:31.540680Z",
          "iopub.status.busy": "2022-10-13T15:42:31.539755Z",
          "iopub.status.idle": "2022-10-13T15:42:31.551153Z",
          "shell.execute_reply": "2022-10-13T15:42:31.550099Z"
        },
        "papermill": {
          "duration": 0.043628,
          "end_time": "2022-10-13T15:42:31.553573",
          "exception": false,
          "start_time": "2022-10-13T15:42:31.509945",
          "status": "completed"
        },
        "tags": [],
        "id": "a36f1a59"
      },
      "outputs": [],
      "source": [
        "df.loc[(df['Glucose'] < 70), 'GLUCOSE_CAT'] =\"hipoglisemi\"\n",
        "df.loc[(df['Glucose'] >= 70) & (df['Glucose'] < 100) , 'GLUCOSE_CAT'] =\"normal\"\n",
        "df.loc[(df['Glucose'] >= 100) & (df['Glucose'] < 126) , 'GLUCOSE_CAT'] =\"imparied glucose\"\n",
        "df.loc[(df['Glucose'] >= 126), 'GLUCOSE_CAT'] =\"hiperglisemi\""
      ]
    },
    {
      "cell_type": "code",
      "execution_count": null,
      "id": "212d8f54",
      "metadata": {
        "execution": {
          "iopub.execute_input": "2022-10-13T15:42:31.611915Z",
          "iopub.status.busy": "2022-10-13T15:42:31.610970Z",
          "iopub.status.idle": "2022-10-13T15:42:31.625179Z",
          "shell.execute_reply": "2022-10-13T15:42:31.624463Z"
        },
        "papermill": {
          "duration": 0.045515,
          "end_time": "2022-10-13T15:42:31.627186",
          "exception": false,
          "start_time": "2022-10-13T15:42:31.581671",
          "status": "completed"
        },
        "tags": [],
        "id": "212d8f54",
        "outputId": "1539bbf3-a1e0-47ad-abff-a727460f29c5"
      },
      "outputs": [
        {
          "data": {
            "text/html": [
              "<div>\n",
              "<style scoped>\n",
              "    .dataframe tbody tr th:only-of-type {\n",
              "        vertical-align: middle;\n",
              "    }\n",
              "\n",
              "    .dataframe tbody tr th {\n",
              "        vertical-align: top;\n",
              "    }\n",
              "\n",
              "    .dataframe thead tr th {\n",
              "        text-align: left;\n",
              "    }\n",
              "\n",
              "    .dataframe thead tr:last-of-type th {\n",
              "        text-align: right;\n",
              "    }\n",
              "</style>\n",
              "<table border=\"1\" class=\"dataframe\">\n",
              "  <thead>\n",
              "    <tr>\n",
              "      <th></th>\n",
              "      <th colspan=\"2\" halign=\"left\">Outcome</th>\n",
              "    </tr>\n",
              "    <tr>\n",
              "      <th></th>\n",
              "      <th>mean</th>\n",
              "      <th>count</th>\n",
              "    </tr>\n",
              "    <tr>\n",
              "      <th>GLUCOSE_CAT</th>\n",
              "      <th></th>\n",
              "      <th></th>\n",
              "    </tr>\n",
              "  </thead>\n",
              "  <tbody>\n",
              "    <tr>\n",
              "      <th>hiperglisemi</th>\n",
              "      <td>0.592593</td>\n",
              "      <td>297</td>\n",
              "    </tr>\n",
              "    <tr>\n",
              "      <th>hipoglisemi</th>\n",
              "      <td>0.000000</td>\n",
              "      <td>11</td>\n",
              "    </tr>\n",
              "    <tr>\n",
              "      <th>imparied glucose</th>\n",
              "      <td>0.279570</td>\n",
              "      <td>279</td>\n",
              "    </tr>\n",
              "    <tr>\n",
              "      <th>normal</th>\n",
              "      <td>0.077348</td>\n",
              "      <td>181</td>\n",
              "    </tr>\n",
              "  </tbody>\n",
              "</table>\n",
              "</div>"
            ],
            "text/plain": [
              "                   Outcome      \n",
              "                      mean count\n",
              "GLUCOSE_CAT                     \n",
              "hiperglisemi      0.592593   297\n",
              "hipoglisemi       0.000000    11\n",
              "imparied glucose  0.279570   279\n",
              "normal            0.077348   181"
            ]
          },
          "execution_count": 32,
          "metadata": {},
          "output_type": "execute_result"
        }
      ],
      "source": [
        "df.groupby(\"GLUCOSE_CAT\").agg({\"Outcome\": [\"mean\",\"count\"]})"
      ]
    },
    {
      "cell_type": "markdown",
      "id": "bf93dc9f",
      "metadata": {
        "papermill": {
          "duration": 0.027666,
          "end_time": "2022-10-13T15:42:31.683189",
          "exception": false,
          "start_time": "2022-10-13T15:42:31.655523",
          "status": "completed"
        },
        "tags": [],
        "id": "bf93dc9f"
      },
      "source": [
        "> Women with hyperglycemia will have a higher incidence of diabetes on average the \"Outcome\"."
      ]
    },
    {
      "cell_type": "code",
      "execution_count": null,
      "id": "669f9e2e",
      "metadata": {
        "execution": {
          "iopub.execute_input": "2022-10-13T15:42:31.740129Z",
          "iopub.status.busy": "2022-10-13T15:42:31.739731Z",
          "iopub.status.idle": "2022-10-13T15:42:31.757705Z",
          "shell.execute_reply": "2022-10-13T15:42:31.756585Z"
        },
        "papermill": {
          "duration": 0.04889,
          "end_time": "2022-10-13T15:42:31.759615",
          "exception": false,
          "start_time": "2022-10-13T15:42:31.710725",
          "status": "completed"
        },
        "tags": [],
        "id": "669f9e2e",
        "outputId": "3f1ddf17-5c32-4602-ecec-f5e49495269e"
      },
      "outputs": [
        {
          "data": {
            "text/html": [
              "<div>\n",
              "<style scoped>\n",
              "    .dataframe tbody tr th:only-of-type {\n",
              "        vertical-align: middle;\n",
              "    }\n",
              "\n",
              "    .dataframe tbody tr th {\n",
              "        vertical-align: top;\n",
              "    }\n",
              "\n",
              "    .dataframe thead th {\n",
              "        text-align: right;\n",
              "    }\n",
              "</style>\n",
              "<table border=\"1\" class=\"dataframe\">\n",
              "  <thead>\n",
              "    <tr style=\"text-align: right;\">\n",
              "      <th></th>\n",
              "      <th>Pregnancies</th>\n",
              "      <th>Glucose</th>\n",
              "      <th>BloodPressure</th>\n",
              "      <th>SkinThickness</th>\n",
              "      <th>Insulin</th>\n",
              "      <th>BMI</th>\n",
              "      <th>DiabetesPedigreeFunction</th>\n",
              "      <th>Age</th>\n",
              "      <th>Outcome</th>\n",
              "      <th>GLUCOSE_CAT</th>\n",
              "    </tr>\n",
              "  </thead>\n",
              "  <tbody>\n",
              "    <tr>\n",
              "      <th>0</th>\n",
              "      <td>6.0</td>\n",
              "      <td>148.0</td>\n",
              "      <td>72.0</td>\n",
              "      <td>35.00000</td>\n",
              "      <td>218.925</td>\n",
              "      <td>33.6</td>\n",
              "      <td>0.627</td>\n",
              "      <td>50.0</td>\n",
              "      <td>1</td>\n",
              "      <td>hiperglisemi</td>\n",
              "    </tr>\n",
              "    <tr>\n",
              "      <th>1</th>\n",
              "      <td>1.0</td>\n",
              "      <td>85.0</td>\n",
              "      <td>66.0</td>\n",
              "      <td>29.00000</td>\n",
              "      <td>179.400</td>\n",
              "      <td>26.6</td>\n",
              "      <td>0.351</td>\n",
              "      <td>31.0</td>\n",
              "      <td>0</td>\n",
              "      <td>normal</td>\n",
              "    </tr>\n",
              "    <tr>\n",
              "      <th>2</th>\n",
              "      <td>8.0</td>\n",
              "      <td>183.0</td>\n",
              "      <td>64.0</td>\n",
              "      <td>29.05915</td>\n",
              "      <td>146.500</td>\n",
              "      <td>23.3</td>\n",
              "      <td>0.672</td>\n",
              "      <td>32.0</td>\n",
              "      <td>1</td>\n",
              "      <td>hiperglisemi</td>\n",
              "    </tr>\n",
              "    <tr>\n",
              "      <th>3</th>\n",
              "      <td>1.0</td>\n",
              "      <td>89.0</td>\n",
              "      <td>66.0</td>\n",
              "      <td>23.00000</td>\n",
              "      <td>94.000</td>\n",
              "      <td>28.1</td>\n",
              "      <td>0.167</td>\n",
              "      <td>21.0</td>\n",
              "      <td>0</td>\n",
              "      <td>normal</td>\n",
              "    </tr>\n",
              "    <tr>\n",
              "      <th>4</th>\n",
              "      <td>0.0</td>\n",
              "      <td>137.0</td>\n",
              "      <td>40.0</td>\n",
              "      <td>35.00000</td>\n",
              "      <td>168.000</td>\n",
              "      <td>43.1</td>\n",
              "      <td>1.200</td>\n",
              "      <td>33.0</td>\n",
              "      <td>1</td>\n",
              "      <td>hiperglisemi</td>\n",
              "    </tr>\n",
              "  </tbody>\n",
              "</table>\n",
              "</div>"
            ],
            "text/plain": [
              "   Pregnancies  Glucose  BloodPressure  SkinThickness  Insulin   BMI  \\\n",
              "0          6.0    148.0           72.0       35.00000  218.925  33.6   \n",
              "1          1.0     85.0           66.0       29.00000  179.400  26.6   \n",
              "2          8.0    183.0           64.0       29.05915  146.500  23.3   \n",
              "3          1.0     89.0           66.0       23.00000   94.000  28.1   \n",
              "4          0.0    137.0           40.0       35.00000  168.000  43.1   \n",
              "\n",
              "   DiabetesPedigreeFunction   Age  Outcome   GLUCOSE_CAT  \n",
              "0                     0.627  50.0        1  hiperglisemi  \n",
              "1                     0.351  31.0        0        normal  \n",
              "2                     0.672  32.0        1  hiperglisemi  \n",
              "3                     0.167  21.0        0        normal  \n",
              "4                     1.200  33.0        1  hiperglisemi  "
            ]
          },
          "execution_count": 33,
          "metadata": {},
          "output_type": "execute_result"
        }
      ],
      "source": [
        "df.head()"
      ]
    },
    {
      "cell_type": "markdown",
      "id": "6a7083ea",
      "metadata": {
        "papermill": {
          "duration": 0.027919,
          "end_time": "2022-10-13T15:42:31.816497",
          "exception": false,
          "start_time": "2022-10-13T15:42:31.788578",
          "status": "completed"
        },
        "tags": [],
        "id": "6a7083ea"
      },
      "source": [
        "**Create the Age Categorical variable**"
      ]
    },
    {
      "cell_type": "code",
      "execution_count": null,
      "id": "09baf895",
      "metadata": {
        "execution": {
          "iopub.execute_input": "2022-10-13T15:42:31.875511Z",
          "iopub.status.busy": "2022-10-13T15:42:31.874177Z",
          "iopub.status.idle": "2022-10-13T15:42:31.886314Z",
          "shell.execute_reply": "2022-10-13T15:42:31.885544Z"
        },
        "papermill": {
          "duration": 0.04357,
          "end_time": "2022-10-13T15:42:31.888496",
          "exception": false,
          "start_time": "2022-10-13T15:42:31.844926",
          "status": "completed"
        },
        "tags": [],
        "id": "09baf895"
      },
      "outputs": [],
      "source": [
        "df.loc[(df['Age'] >= 18) & (df['Age'] < 30) , 'AGE_CAT'] =\"young_women_\"\n",
        "df.loc[(df['Age'] >= 30) & (df['Age'] < 45) , 'AGE_CAT'] =\"mature_women\"\n",
        "df.loc[(df['Age'] >= 45) & (df['Age'] < 65) , 'AGE_CAT'] =\"middle_age\"\n",
        "df.loc[(df['Age'] >= 65) & (df['Age'] < 75) , 'AGE_CAT'] =\"old_age\"\n",
        "df.loc[(df['Age'] >= 75) , 'AGE_CAT'] =\"elder_age\""
      ]
    },
    {
      "cell_type": "code",
      "execution_count": null,
      "id": "6069a0f7",
      "metadata": {
        "execution": {
          "iopub.execute_input": "2022-10-13T15:42:31.947643Z",
          "iopub.status.busy": "2022-10-13T15:42:31.946674Z",
          "iopub.status.idle": "2022-10-13T15:42:31.960120Z",
          "shell.execute_reply": "2022-10-13T15:42:31.959423Z"
        },
        "papermill": {
          "duration": 0.045305,
          "end_time": "2022-10-13T15:42:31.962079",
          "exception": false,
          "start_time": "2022-10-13T15:42:31.916774",
          "status": "completed"
        },
        "tags": [],
        "id": "6069a0f7",
        "outputId": "d79d6c2e-8ec5-458c-e944-941aa96d77c9"
      },
      "outputs": [
        {
          "data": {
            "text/html": [
              "<div>\n",
              "<style scoped>\n",
              "    .dataframe tbody tr th:only-of-type {\n",
              "        vertical-align: middle;\n",
              "    }\n",
              "\n",
              "    .dataframe tbody tr th {\n",
              "        vertical-align: top;\n",
              "    }\n",
              "\n",
              "    .dataframe thead tr th {\n",
              "        text-align: left;\n",
              "    }\n",
              "\n",
              "    .dataframe thead tr:last-of-type th {\n",
              "        text-align: right;\n",
              "    }\n",
              "</style>\n",
              "<table border=\"1\" class=\"dataframe\">\n",
              "  <thead>\n",
              "    <tr>\n",
              "      <th></th>\n",
              "      <th colspan=\"2\" halign=\"left\">Outcome</th>\n",
              "    </tr>\n",
              "    <tr>\n",
              "      <th></th>\n",
              "      <th>mean</th>\n",
              "      <th>count</th>\n",
              "    </tr>\n",
              "    <tr>\n",
              "      <th>AGE_CAT</th>\n",
              "      <th></th>\n",
              "      <th></th>\n",
              "    </tr>\n",
              "  </thead>\n",
              "  <tbody>\n",
              "    <tr>\n",
              "      <th>mature_women</th>\n",
              "      <td>0.493724</td>\n",
              "      <td>239</td>\n",
              "    </tr>\n",
              "    <tr>\n",
              "      <th>middle_age</th>\n",
              "      <td>0.529915</td>\n",
              "      <td>117</td>\n",
              "    </tr>\n",
              "    <tr>\n",
              "      <th>old_age</th>\n",
              "      <td>0.250000</td>\n",
              "      <td>16</td>\n",
              "    </tr>\n",
              "    <tr>\n",
              "      <th>young_women_</th>\n",
              "      <td>0.212121</td>\n",
              "      <td>396</td>\n",
              "    </tr>\n",
              "  </tbody>\n",
              "</table>\n",
              "</div>"
            ],
            "text/plain": [
              "               Outcome      \n",
              "                  mean count\n",
              "AGE_CAT                     \n",
              "mature_women  0.493724   239\n",
              "middle_age    0.529915   117\n",
              "old_age       0.250000    16\n",
              "young_women_  0.212121   396"
            ]
          },
          "execution_count": 35,
          "metadata": {},
          "output_type": "execute_result"
        }
      ],
      "source": [
        "df.groupby(\"AGE_CAT\").agg({\"Outcome\": [\"mean\",\"count\"]})"
      ]
    },
    {
      "cell_type": "markdown",
      "id": "7a1d7153",
      "metadata": {
        "papermill": {
          "duration": 0.028628,
          "end_time": "2022-10-13T15:42:32.019682",
          "exception": false,
          "start_time": "2022-10-13T15:42:31.991054",
          "status": "completed"
        },
        "tags": [],
        "id": "7a1d7153"
      },
      "source": [
        "> Middle-age women will have a higher incidence of diabetes on average the \"Outcome\"."
      ]
    },
    {
      "cell_type": "markdown",
      "id": "ae8af50d",
      "metadata": {
        "papermill": {
          "duration": 0.028486,
          "end_time": "2022-10-13T15:42:32.076982",
          "exception": false,
          "start_time": "2022-10-13T15:42:32.048496",
          "status": "completed"
        },
        "tags": [],
        "id": "ae8af50d"
      },
      "source": [
        "**Create the BMI Categorical variable**"
      ]
    },
    {
      "cell_type": "code",
      "execution_count": null,
      "id": "6ab40ab2",
      "metadata": {
        "execution": {
          "iopub.execute_input": "2022-10-13T15:42:32.136945Z",
          "iopub.status.busy": "2022-10-13T15:42:32.136332Z",
          "iopub.status.idle": "2022-10-13T15:42:32.150337Z",
          "shell.execute_reply": "2022-10-13T15:42:32.149373Z"
        },
        "papermill": {
          "duration": 0.046793,
          "end_time": "2022-10-13T15:42:32.152939",
          "exception": false,
          "start_time": "2022-10-13T15:42:32.106146",
          "status": "completed"
        },
        "tags": [],
        "id": "6ab40ab2"
      },
      "outputs": [],
      "source": [
        "df.loc[(df['BMI'] < 16), 'BMI_CAT'] =\"overweak\"\n",
        "df.loc[(df['BMI'] >= 16) & (df['BMI'] < 18.5) , 'BMI_CAT'] =\"weak\"\n",
        "df.loc[(df['BMI'] >= 18.5) & (df['BMI'] < 25) , 'BMI_CAT'] =\"normal\"\n",
        "df.loc[(df['BMI'] >= 25) & (df['BMI'] < 30) , 'BMI_CAT'] =\"overweight\"\n",
        "df.loc[(df['BMI'] >= 30) & (df['BMI'] < 35) , 'BMI_CAT'] =\"1st_Obese\"\n",
        "df.loc[(df['BMI'] >= 35) & (df['BMI'] < 45) , 'BMI_CAT'] =\"2nd_Obese\"\n",
        "df.loc[(df['BMI'] >= 45), 'BMI_CAT'] =\"3rd_Obese\""
      ]
    },
    {
      "cell_type": "code",
      "execution_count": null,
      "id": "3760bc86",
      "metadata": {
        "execution": {
          "iopub.execute_input": "2022-10-13T15:42:32.212905Z",
          "iopub.status.busy": "2022-10-13T15:42:32.212525Z",
          "iopub.status.idle": "2022-10-13T15:42:32.227146Z",
          "shell.execute_reply": "2022-10-13T15:42:32.225964Z"
        },
        "papermill": {
          "duration": 0.047268,
          "end_time": "2022-10-13T15:42:32.229373",
          "exception": false,
          "start_time": "2022-10-13T15:42:32.182105",
          "status": "completed"
        },
        "tags": [],
        "id": "3760bc86",
        "outputId": "307e10ec-0bf3-4523-9257-6f37c2669ce6"
      },
      "outputs": [
        {
          "data": {
            "text/html": [
              "<div>\n",
              "<style scoped>\n",
              "    .dataframe tbody tr th:only-of-type {\n",
              "        vertical-align: middle;\n",
              "    }\n",
              "\n",
              "    .dataframe tbody tr th {\n",
              "        vertical-align: top;\n",
              "    }\n",
              "\n",
              "    .dataframe thead tr th {\n",
              "        text-align: left;\n",
              "    }\n",
              "\n",
              "    .dataframe thead tr:last-of-type th {\n",
              "        text-align: right;\n",
              "    }\n",
              "</style>\n",
              "<table border=\"1\" class=\"dataframe\">\n",
              "  <thead>\n",
              "    <tr>\n",
              "      <th></th>\n",
              "      <th colspan=\"2\" halign=\"left\">Outcome</th>\n",
              "    </tr>\n",
              "    <tr>\n",
              "      <th></th>\n",
              "      <th>mean</th>\n",
              "      <th>count</th>\n",
              "    </tr>\n",
              "    <tr>\n",
              "      <th>BMI_CAT</th>\n",
              "      <th></th>\n",
              "      <th></th>\n",
              "    </tr>\n",
              "  </thead>\n",
              "  <tbody>\n",
              "    <tr>\n",
              "      <th>1st_Obese</th>\n",
              "      <td>0.438298</td>\n",
              "      <td>235</td>\n",
              "    </tr>\n",
              "    <tr>\n",
              "      <th>2nd_Obese</th>\n",
              "      <td>0.452830</td>\n",
              "      <td>212</td>\n",
              "    </tr>\n",
              "    <tr>\n",
              "      <th>3rd_Obese</th>\n",
              "      <td>0.611111</td>\n",
              "      <td>36</td>\n",
              "    </tr>\n",
              "    <tr>\n",
              "      <th>normal</th>\n",
              "      <td>0.068627</td>\n",
              "      <td>102</td>\n",
              "    </tr>\n",
              "    <tr>\n",
              "      <th>overweight</th>\n",
              "      <td>0.223464</td>\n",
              "      <td>179</td>\n",
              "    </tr>\n",
              "    <tr>\n",
              "      <th>weak</th>\n",
              "      <td>0.000000</td>\n",
              "      <td>4</td>\n",
              "    </tr>\n",
              "  </tbody>\n",
              "</table>\n",
              "</div>"
            ],
            "text/plain": [
              "             Outcome      \n",
              "                mean count\n",
              "BMI_CAT                   \n",
              "1st_Obese   0.438298   235\n",
              "2nd_Obese   0.452830   212\n",
              "3rd_Obese   0.611111    36\n",
              "normal      0.068627   102\n",
              "overweight  0.223464   179\n",
              "weak        0.000000     4"
            ]
          },
          "execution_count": 37,
          "metadata": {},
          "output_type": "execute_result"
        }
      ],
      "source": [
        "df.groupby(\"BMI_CAT\").agg({\"Outcome\": [\"mean\",\"count\"]})"
      ]
    },
    {
      "cell_type": "markdown",
      "id": "3dba4136",
      "metadata": {
        "papermill": {
          "duration": 0.029325,
          "end_time": "2022-10-13T15:42:32.288529",
          "exception": false,
          "start_time": "2022-10-13T15:42:32.259204",
          "status": "completed"
        },
        "tags": [],
        "id": "3dba4136"
      },
      "source": [
        "> Morbidly obese women will have a higher incidence of diabetes on average the \"Outcome\"."
      ]
    },
    {
      "cell_type": "markdown",
      "id": "98beff2c",
      "metadata": {
        "papermill": {
          "duration": 0.02896,
          "end_time": "2022-10-13T15:42:32.347078",
          "exception": false,
          "start_time": "2022-10-13T15:42:32.318118",
          "status": "completed"
        },
        "tags": [],
        "id": "98beff2c"
      },
      "source": [
        "**Create a Diastolic Blood Pressure Categorical variable**\n"
      ]
    },
    {
      "cell_type": "code",
      "execution_count": null,
      "id": "9c9daf45",
      "metadata": {
        "execution": {
          "iopub.execute_input": "2022-10-13T15:42:32.409501Z",
          "iopub.status.busy": "2022-10-13T15:42:32.408394Z",
          "iopub.status.idle": "2022-10-13T15:42:32.419002Z",
          "shell.execute_reply": "2022-10-13T15:42:32.418164Z"
        },
        "papermill": {
          "duration": 0.046282,
          "end_time": "2022-10-13T15:42:32.423104",
          "exception": false,
          "start_time": "2022-10-13T15:42:32.376822",
          "status": "completed"
        },
        "tags": [],
        "id": "9c9daf45"
      },
      "outputs": [],
      "source": [
        "df.loc[(df['BloodPressure'] < 70)  , 'DIASTOLIC_CAT'] =\"low\"\n",
        "df.loc[(df['BloodPressure'] >= 70) & (df['BMI'] < 90) , 'DIASTOLIC_CAT'] =\"normal\"\n",
        "df.loc[(df['BloodPressure'] >= 90 ) , 'DIASTOLIC_CAT'] =\"high\""
      ]
    },
    {
      "cell_type": "code",
      "execution_count": null,
      "id": "0dac0345",
      "metadata": {
        "execution": {
          "iopub.execute_input": "2022-10-13T15:42:32.485809Z",
          "iopub.status.busy": "2022-10-13T15:42:32.484572Z",
          "iopub.status.idle": "2022-10-13T15:42:32.499771Z",
          "shell.execute_reply": "2022-10-13T15:42:32.498694Z"
        },
        "papermill": {
          "duration": 0.048628,
          "end_time": "2022-10-13T15:42:32.502123",
          "exception": false,
          "start_time": "2022-10-13T15:42:32.453495",
          "status": "completed"
        },
        "tags": [],
        "id": "0dac0345",
        "outputId": "e283e6f4-6f7c-4e06-e039-c8c8f96af3ae"
      },
      "outputs": [
        {
          "data": {
            "text/html": [
              "<div>\n",
              "<style scoped>\n",
              "    .dataframe tbody tr th:only-of-type {\n",
              "        vertical-align: middle;\n",
              "    }\n",
              "\n",
              "    .dataframe tbody tr th {\n",
              "        vertical-align: top;\n",
              "    }\n",
              "\n",
              "    .dataframe thead tr th {\n",
              "        text-align: left;\n",
              "    }\n",
              "\n",
              "    .dataframe thead tr:last-of-type th {\n",
              "        text-align: right;\n",
              "    }\n",
              "</style>\n",
              "<table border=\"1\" class=\"dataframe\">\n",
              "  <thead>\n",
              "    <tr>\n",
              "      <th></th>\n",
              "      <th colspan=\"2\" halign=\"left\">Outcome</th>\n",
              "    </tr>\n",
              "    <tr>\n",
              "      <th></th>\n",
              "      <th>mean</th>\n",
              "      <th>count</th>\n",
              "    </tr>\n",
              "    <tr>\n",
              "      <th>DIASTOLIC_CAT</th>\n",
              "      <th></th>\n",
              "      <th></th>\n",
              "    </tr>\n",
              "  </thead>\n",
              "  <tbody>\n",
              "    <tr>\n",
              "      <th>high</th>\n",
              "      <td>0.483333</td>\n",
              "      <td>60</td>\n",
              "    </tr>\n",
              "    <tr>\n",
              "      <th>low</th>\n",
              "      <td>0.247350</td>\n",
              "      <td>283</td>\n",
              "    </tr>\n",
              "    <tr>\n",
              "      <th>normal</th>\n",
              "      <td>0.397647</td>\n",
              "      <td>425</td>\n",
              "    </tr>\n",
              "  </tbody>\n",
              "</table>\n",
              "</div>"
            ],
            "text/plain": [
              "                Outcome      \n",
              "                   mean count\n",
              "DIASTOLIC_CAT                \n",
              "high           0.483333    60\n",
              "low            0.247350   283\n",
              "normal         0.397647   425"
            ]
          },
          "execution_count": 39,
          "metadata": {},
          "output_type": "execute_result"
        }
      ],
      "source": [
        "df.groupby(\"DIASTOLIC_CAT\").agg({\"Outcome\": [\"mean\",\"count\"]})"
      ]
    },
    {
      "cell_type": "markdown",
      "id": "59f169dc",
      "metadata": {
        "papermill": {
          "duration": 0.029276,
          "end_time": "2022-10-13T15:42:32.561764",
          "exception": false,
          "start_time": "2022-10-13T15:42:32.532488",
          "status": "completed"
        },
        "tags": [],
        "id": "59f169dc"
      },
      "source": [
        "> Women with high blood pressure will have a higher incidence of diabetes on average the \"Outcome\"."
      ]
    },
    {
      "cell_type": "markdown",
      "id": "2fc9e2dd",
      "metadata": {
        "papermill": {
          "duration": 0.028564,
          "end_time": "2022-10-13T15:42:32.619644",
          "exception": false,
          "start_time": "2022-10-13T15:42:32.591080",
          "status": "completed"
        },
        "tags": [],
        "id": "2fc9e2dd"
      },
      "source": [
        "**Create a Insulin Categorical variable**"
      ]
    },
    {
      "cell_type": "code",
      "execution_count": null,
      "id": "a0ab092f",
      "metadata": {
        "execution": {
          "iopub.execute_input": "2022-10-13T15:42:32.680097Z",
          "iopub.status.busy": "2022-10-13T15:42:32.679732Z",
          "iopub.status.idle": "2022-10-13T15:42:32.687729Z",
          "shell.execute_reply": "2022-10-13T15:42:32.686973Z"
        },
        "papermill": {
          "duration": 0.040806,
          "end_time": "2022-10-13T15:42:32.689721",
          "exception": false,
          "start_time": "2022-10-13T15:42:32.648915",
          "status": "completed"
        },
        "tags": [],
        "id": "a0ab092f"
      },
      "outputs": [],
      "source": [
        "df.loc[(df['Insulin'] < 120)  , 'INSULIN_CAT'] =\"normal\"\n",
        "df.loc[(df['Insulin'] >= 120) , 'INSULIN_CAT'] =\"abnormal\""
      ]
    },
    {
      "cell_type": "code",
      "execution_count": null,
      "id": "4450431d",
      "metadata": {
        "execution": {
          "iopub.execute_input": "2022-10-13T15:42:32.750712Z",
          "iopub.status.busy": "2022-10-13T15:42:32.749742Z",
          "iopub.status.idle": "2022-10-13T15:42:32.763545Z",
          "shell.execute_reply": "2022-10-13T15:42:32.762450Z"
        },
        "papermill": {
          "duration": 0.046931,
          "end_time": "2022-10-13T15:42:32.765685",
          "exception": false,
          "start_time": "2022-10-13T15:42:32.718754",
          "status": "completed"
        },
        "tags": [],
        "id": "4450431d",
        "outputId": "f4b1bc74-1859-466b-d219-6a3886004fb1"
      },
      "outputs": [
        {
          "data": {
            "text/html": [
              "<div>\n",
              "<style scoped>\n",
              "    .dataframe tbody tr th:only-of-type {\n",
              "        vertical-align: middle;\n",
              "    }\n",
              "\n",
              "    .dataframe tbody tr th {\n",
              "        vertical-align: top;\n",
              "    }\n",
              "\n",
              "    .dataframe thead tr th {\n",
              "        text-align: left;\n",
              "    }\n",
              "\n",
              "    .dataframe thead tr:last-of-type th {\n",
              "        text-align: right;\n",
              "    }\n",
              "</style>\n",
              "<table border=\"1\" class=\"dataframe\">\n",
              "  <thead>\n",
              "    <tr>\n",
              "      <th></th>\n",
              "      <th colspan=\"2\" halign=\"left\">Outcome</th>\n",
              "    </tr>\n",
              "    <tr>\n",
              "      <th></th>\n",
              "      <th>mean</th>\n",
              "      <th>count</th>\n",
              "    </tr>\n",
              "    <tr>\n",
              "      <th>INSULIN_CAT</th>\n",
              "      <th></th>\n",
              "      <th></th>\n",
              "    </tr>\n",
              "  </thead>\n",
              "  <tbody>\n",
              "    <tr>\n",
              "      <th>abnormal</th>\n",
              "      <td>0.429112</td>\n",
              "      <td>529</td>\n",
              "    </tr>\n",
              "    <tr>\n",
              "      <th>normal</th>\n",
              "      <td>0.171548</td>\n",
              "      <td>239</td>\n",
              "    </tr>\n",
              "  </tbody>\n",
              "</table>\n",
              "</div>"
            ],
            "text/plain": [
              "              Outcome      \n",
              "                 mean count\n",
              "INSULIN_CAT                \n",
              "abnormal     0.429112   529\n",
              "normal       0.171548   239"
            ]
          },
          "execution_count": 41,
          "metadata": {},
          "output_type": "execute_result"
        }
      ],
      "source": [
        "df.groupby(\"INSULIN_CAT\").agg({\"Outcome\": [\"mean\",\"count\"]})"
      ]
    },
    {
      "cell_type": "markdown",
      "id": "2e5604cb",
      "metadata": {
        "papermill": {
          "duration": 0.028734,
          "end_time": "2022-10-13T15:42:32.823578",
          "exception": false,
          "start_time": "2022-10-13T15:42:32.794844",
          "status": "completed"
        },
        "tags": [],
        "id": "2e5604cb"
      },
      "source": [
        "> Women with abnormal insulin will have a higher incidence of diabetes on average the \"Outcome.\""
      ]
    },
    {
      "cell_type": "markdown",
      "id": "ee542245",
      "metadata": {
        "papermill": {
          "duration": 0.029371,
          "end_time": "2022-10-13T15:42:32.881583",
          "exception": false,
          "start_time": "2022-10-13T15:42:32.852212",
          "status": "completed"
        },
        "tags": [],
        "id": "ee542245"
      },
      "source": [
        "**Create a Pregnancies Categorical variable**"
      ]
    },
    {
      "cell_type": "code",
      "execution_count": null,
      "id": "59d7a06d",
      "metadata": {
        "execution": {
          "iopub.execute_input": "2022-10-13T15:42:32.944719Z",
          "iopub.status.busy": "2022-10-13T15:42:32.944325Z",
          "iopub.status.idle": "2022-10-13T15:42:32.955035Z",
          "shell.execute_reply": "2022-10-13T15:42:32.954231Z"
        },
        "papermill": {
          "duration": 0.045115,
          "end_time": "2022-10-13T15:42:32.957053",
          "exception": false,
          "start_time": "2022-10-13T15:42:32.911938",
          "status": "completed"
        },
        "tags": [],
        "id": "59d7a06d"
      },
      "outputs": [],
      "source": [
        "df.loc[(df['Pregnancies'] == 0)  , 'PREG_CAT'] =\"unpregnant\"\n",
        "df.loc[(df['Pregnancies'] > 0 ) & (df['Pregnancies'] <= 5)  , 'PREG_CAT'] =\"normal\"\n",
        "df.loc[(df['Pregnancies'] > 5 ) & (df['Pregnancies'] <= 10 )  , 'PREG_CAT'] =\"high\"\n",
        "df.loc[(df['Pregnancies'] > 10 )  , 'PREG_CAT'] =\"very high\""
      ]
    },
    {
      "cell_type": "code",
      "execution_count": null,
      "id": "fe7b68e2",
      "metadata": {
        "execution": {
          "iopub.execute_input": "2022-10-13T15:42:33.019074Z",
          "iopub.status.busy": "2022-10-13T15:42:33.018552Z",
          "iopub.status.idle": "2022-10-13T15:42:33.034364Z",
          "shell.execute_reply": "2022-10-13T15:42:33.033244Z"
        },
        "papermill": {
          "duration": 0.049698,
          "end_time": "2022-10-13T15:42:33.036829",
          "exception": false,
          "start_time": "2022-10-13T15:42:32.987131",
          "status": "completed"
        },
        "tags": [],
        "id": "fe7b68e2",
        "outputId": "1362694b-d3a8-494d-d05c-f2c658620925"
      },
      "outputs": [
        {
          "data": {
            "text/html": [
              "<div>\n",
              "<style scoped>\n",
              "    .dataframe tbody tr th:only-of-type {\n",
              "        vertical-align: middle;\n",
              "    }\n",
              "\n",
              "    .dataframe tbody tr th {\n",
              "        vertical-align: top;\n",
              "    }\n",
              "\n",
              "    .dataframe thead tr th {\n",
              "        text-align: left;\n",
              "    }\n",
              "\n",
              "    .dataframe thead tr:last-of-type th {\n",
              "        text-align: right;\n",
              "    }\n",
              "</style>\n",
              "<table border=\"1\" class=\"dataframe\">\n",
              "  <thead>\n",
              "    <tr>\n",
              "      <th></th>\n",
              "      <th colspan=\"2\" halign=\"left\">Outcome</th>\n",
              "    </tr>\n",
              "    <tr>\n",
              "      <th></th>\n",
              "      <th>mean</th>\n",
              "      <th>count</th>\n",
              "    </tr>\n",
              "    <tr>\n",
              "      <th>PREG_CAT</th>\n",
              "      <th></th>\n",
              "      <th></th>\n",
              "    </tr>\n",
              "  </thead>\n",
              "  <tbody>\n",
              "    <tr>\n",
              "      <th>high</th>\n",
              "      <td>0.491892</td>\n",
              "      <td>185</td>\n",
              "    </tr>\n",
              "    <tr>\n",
              "      <th>normal</th>\n",
              "      <td>0.271689</td>\n",
              "      <td>438</td>\n",
              "    </tr>\n",
              "    <tr>\n",
              "      <th>unpregnant</th>\n",
              "      <td>0.342342</td>\n",
              "      <td>111</td>\n",
              "    </tr>\n",
              "    <tr>\n",
              "      <th>very high</th>\n",
              "      <td>0.588235</td>\n",
              "      <td>34</td>\n",
              "    </tr>\n",
              "  </tbody>\n",
              "</table>\n",
              "</div>"
            ],
            "text/plain": [
              "             Outcome      \n",
              "                mean count\n",
              "PREG_CAT                  \n",
              "high        0.491892   185\n",
              "normal      0.271689   438\n",
              "unpregnant  0.342342   111\n",
              "very high   0.588235    34"
            ]
          },
          "execution_count": 43,
          "metadata": {},
          "output_type": "execute_result"
        }
      ],
      "source": [
        "df.groupby(\"PREG_CAT\").agg({\"Outcome\": [\"mean\",\"count\"]})"
      ]
    },
    {
      "cell_type": "code",
      "execution_count": null,
      "id": "b8a6da36",
      "metadata": {
        "execution": {
          "iopub.execute_input": "2022-10-13T15:42:33.100663Z",
          "iopub.status.busy": "2022-10-13T15:42:33.100100Z",
          "iopub.status.idle": "2022-10-13T15:42:33.122691Z",
          "shell.execute_reply": "2022-10-13T15:42:33.121478Z"
        },
        "papermill": {
          "duration": 0.057632,
          "end_time": "2022-10-13T15:42:33.125020",
          "exception": false,
          "start_time": "2022-10-13T15:42:33.067388",
          "status": "completed"
        },
        "tags": [],
        "id": "b8a6da36",
        "outputId": "a1544604-7786-48a3-8fa2-2847049685ff"
      },
      "outputs": [
        {
          "data": {
            "text/html": [
              "<div>\n",
              "<style scoped>\n",
              "    .dataframe tbody tr th:only-of-type {\n",
              "        vertical-align: middle;\n",
              "    }\n",
              "\n",
              "    .dataframe tbody tr th {\n",
              "        vertical-align: top;\n",
              "    }\n",
              "\n",
              "    .dataframe thead th {\n",
              "        text-align: right;\n",
              "    }\n",
              "</style>\n",
              "<table border=\"1\" class=\"dataframe\">\n",
              "  <thead>\n",
              "    <tr style=\"text-align: right;\">\n",
              "      <th></th>\n",
              "      <th>Pregnancies</th>\n",
              "      <th>Glucose</th>\n",
              "      <th>BloodPressure</th>\n",
              "      <th>SkinThickness</th>\n",
              "      <th>Insulin</th>\n",
              "      <th>BMI</th>\n",
              "      <th>DiabetesPedigreeFunction</th>\n",
              "      <th>Age</th>\n",
              "      <th>Outcome</th>\n",
              "      <th>GLUCOSE_CAT</th>\n",
              "      <th>AGE_CAT</th>\n",
              "      <th>BMI_CAT</th>\n",
              "      <th>DIASTOLIC_CAT</th>\n",
              "      <th>INSULIN_CAT</th>\n",
              "      <th>PREG_CAT</th>\n",
              "    </tr>\n",
              "  </thead>\n",
              "  <tbody>\n",
              "    <tr>\n",
              "      <th>0</th>\n",
              "      <td>6.0</td>\n",
              "      <td>148.0</td>\n",
              "      <td>72.0</td>\n",
              "      <td>35.00000</td>\n",
              "      <td>218.925</td>\n",
              "      <td>33.6</td>\n",
              "      <td>0.627</td>\n",
              "      <td>50.0</td>\n",
              "      <td>1</td>\n",
              "      <td>hiperglisemi</td>\n",
              "      <td>middle_age</td>\n",
              "      <td>1st_Obese</td>\n",
              "      <td>normal</td>\n",
              "      <td>abnormal</td>\n",
              "      <td>high</td>\n",
              "    </tr>\n",
              "    <tr>\n",
              "      <th>1</th>\n",
              "      <td>1.0</td>\n",
              "      <td>85.0</td>\n",
              "      <td>66.0</td>\n",
              "      <td>29.00000</td>\n",
              "      <td>179.400</td>\n",
              "      <td>26.6</td>\n",
              "      <td>0.351</td>\n",
              "      <td>31.0</td>\n",
              "      <td>0</td>\n",
              "      <td>normal</td>\n",
              "      <td>mature_women</td>\n",
              "      <td>overweight</td>\n",
              "      <td>low</td>\n",
              "      <td>abnormal</td>\n",
              "      <td>normal</td>\n",
              "    </tr>\n",
              "    <tr>\n",
              "      <th>2</th>\n",
              "      <td>8.0</td>\n",
              "      <td>183.0</td>\n",
              "      <td>64.0</td>\n",
              "      <td>29.05915</td>\n",
              "      <td>146.500</td>\n",
              "      <td>23.3</td>\n",
              "      <td>0.672</td>\n",
              "      <td>32.0</td>\n",
              "      <td>1</td>\n",
              "      <td>hiperglisemi</td>\n",
              "      <td>mature_women</td>\n",
              "      <td>normal</td>\n",
              "      <td>low</td>\n",
              "      <td>abnormal</td>\n",
              "      <td>high</td>\n",
              "    </tr>\n",
              "    <tr>\n",
              "      <th>3</th>\n",
              "      <td>1.0</td>\n",
              "      <td>89.0</td>\n",
              "      <td>66.0</td>\n",
              "      <td>23.00000</td>\n",
              "      <td>94.000</td>\n",
              "      <td>28.1</td>\n",
              "      <td>0.167</td>\n",
              "      <td>21.0</td>\n",
              "      <td>0</td>\n",
              "      <td>normal</td>\n",
              "      <td>young_women_</td>\n",
              "      <td>overweight</td>\n",
              "      <td>low</td>\n",
              "      <td>normal</td>\n",
              "      <td>normal</td>\n",
              "    </tr>\n",
              "    <tr>\n",
              "      <th>4</th>\n",
              "      <td>0.0</td>\n",
              "      <td>137.0</td>\n",
              "      <td>40.0</td>\n",
              "      <td>35.00000</td>\n",
              "      <td>168.000</td>\n",
              "      <td>43.1</td>\n",
              "      <td>1.200</td>\n",
              "      <td>33.0</td>\n",
              "      <td>1</td>\n",
              "      <td>hiperglisemi</td>\n",
              "      <td>mature_women</td>\n",
              "      <td>2nd_Obese</td>\n",
              "      <td>low</td>\n",
              "      <td>abnormal</td>\n",
              "      <td>unpregnant</td>\n",
              "    </tr>\n",
              "  </tbody>\n",
              "</table>\n",
              "</div>"
            ],
            "text/plain": [
              "   Pregnancies  Glucose  BloodPressure  SkinThickness  Insulin   BMI  \\\n",
              "0          6.0    148.0           72.0       35.00000  218.925  33.6   \n",
              "1          1.0     85.0           66.0       29.00000  179.400  26.6   \n",
              "2          8.0    183.0           64.0       29.05915  146.500  23.3   \n",
              "3          1.0     89.0           66.0       23.00000   94.000  28.1   \n",
              "4          0.0    137.0           40.0       35.00000  168.000  43.1   \n",
              "\n",
              "   DiabetesPedigreeFunction   Age  Outcome   GLUCOSE_CAT       AGE_CAT  \\\n",
              "0                     0.627  50.0        1  hiperglisemi    middle_age   \n",
              "1                     0.351  31.0        0        normal  mature_women   \n",
              "2                     0.672  32.0        1  hiperglisemi  mature_women   \n",
              "3                     0.167  21.0        0        normal  young_women_   \n",
              "4                     1.200  33.0        1  hiperglisemi  mature_women   \n",
              "\n",
              "      BMI_CAT DIASTOLIC_CAT INSULIN_CAT    PREG_CAT  \n",
              "0   1st_Obese        normal    abnormal        high  \n",
              "1  overweight           low    abnormal      normal  \n",
              "2      normal           low    abnormal        high  \n",
              "3  overweight           low      normal      normal  \n",
              "4   2nd_Obese           low    abnormal  unpregnant  "
            ]
          },
          "execution_count": 44,
          "metadata": {},
          "output_type": "execute_result"
        }
      ],
      "source": [
        "df.head()"
      ]
    }
  ],
  "metadata": {
    "kernelspec": {
      "display_name": "Python 3",
      "language": "python",
      "name": "python3"
    },
    "language_info": {
      "codemirror_mode": {
        "name": "ipython",
        "version": 3
      },
      "file_extension": ".py",
      "mimetype": "text/x-python",
      "name": "python",
      "nbconvert_exporter": "python",
      "pygments_lexer": "ipython3",
      "version": "3.7.12"
    },
    "papermill": {
      "default_parameters": {},
      "duration": 27.689967,
      "end_time": "2022-10-13T15:42:41.928030",
      "environment_variables": {},
      "exception": null,
      "input_path": "__notebook__.ipynb",
      "output_path": "__notebook__.ipynb",
      "parameters": {},
      "start_time": "2022-10-13T15:42:14.238063",
      "version": "2.3.4"
    },
    "colab": {
      "provenance": []
    }
  },
  "nbformat": 4,
  "nbformat_minor": 5
}