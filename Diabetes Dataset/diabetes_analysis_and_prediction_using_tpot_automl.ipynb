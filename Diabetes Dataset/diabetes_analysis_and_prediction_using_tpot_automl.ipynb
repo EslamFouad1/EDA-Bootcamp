{
  "cells": [
    {
      "cell_type": "code",
      "execution_count": null,
      "id": "d084bf92",
      "metadata": {
        "execution": {
          "iopub.execute_input": "2021-12-08T20:39:21.878631Z",
          "iopub.status.busy": "2021-12-08T20:39:21.876802Z",
          "iopub.status.idle": "2021-12-08T20:39:24.642276Z",
          "shell.execute_reply": "2021-12-08T20:39:24.641318Z",
          "shell.execute_reply.started": "2021-12-08T20:30:08.279701Z"
        },
        "papermill": {
          "duration": 2.815943,
          "end_time": "2021-12-08T20:39:24.642441",
          "exception": false,
          "start_time": "2021-12-08T20:39:21.826498",
          "status": "completed"
        },
        "tags": [],
        "id": "d084bf92"
      },
      "outputs": [],
      "source": [
        "import numpy as np\n",
        "import pandas as pd\n",
        "from matplotlib import pyplot as plt\n",
        "%matplotlib inline\n",
        "import seaborn as sns\n",
        "import missingno as msno\n",
        "from sklearn.preprocessing import RobustScaler\n",
        "from sklearn.model_selection import train_test_split\n",
        "from sklearn.metrics import confusion_matrix, classification_report\n",
        "from tpot import TPOTClassifier"
      ]
    },
    {
      "cell_type": "markdown",
      "id": "8c997644",
      "metadata": {
        "papermill": {
          "duration": 0.0426,
          "end_time": "2021-12-08T20:39:24.730002",
          "exception": false,
          "start_time": "2021-12-08T20:39:24.687402",
          "status": "completed"
        },
        "tags": [],
        "id": "8c997644"
      },
      "source": [
        "**Exploring the data**"
      ]
    },
    {
      "cell_type": "code",
      "execution_count": null,
      "id": "58b9f68e",
      "metadata": {
        "execution": {
          "iopub.execute_input": "2021-12-08T20:39:24.819497Z",
          "iopub.status.busy": "2021-12-08T20:39:24.818851Z",
          "iopub.status.idle": "2021-12-08T20:39:24.843868Z",
          "shell.execute_reply": "2021-12-08T20:39:24.844361Z",
          "shell.execute_reply.started": "2021-12-08T18:20:52.388045Z"
        },
        "papermill": {
          "duration": 0.072186,
          "end_time": "2021-12-08T20:39:24.844529",
          "exception": false,
          "start_time": "2021-12-08T20:39:24.772343",
          "status": "completed"
        },
        "tags": [],
        "id": "58b9f68e"
      },
      "outputs": [],
      "source": [
        "# Read the data\n",
        "df = pd.read_csv('../input/diabetes-data-set/diabetes.csv')"
      ]
    },
    {
      "cell_type": "code",
      "execution_count": null,
      "id": "1496082e",
      "metadata": {
        "execution": {
          "iopub.execute_input": "2021-12-08T20:39:24.931825Z",
          "iopub.status.busy": "2021-12-08T20:39:24.931278Z",
          "iopub.status.idle": "2021-12-08T20:39:24.949152Z",
          "shell.execute_reply": "2021-12-08T20:39:24.949597Z",
          "shell.execute_reply.started": "2021-12-08T18:20:52.521667Z"
        },
        "papermill": {
          "duration": 0.062945,
          "end_time": "2021-12-08T20:39:24.949757",
          "exception": false,
          "start_time": "2021-12-08T20:39:24.886812",
          "status": "completed"
        },
        "tags": [],
        "id": "1496082e",
        "outputId": "c00c9b38-da21-4fb8-f2a2-813aa6952b96"
      },
      "outputs": [
        {
          "data": {
            "text/html": [
              "<div>\n",
              "<style scoped>\n",
              "    .dataframe tbody tr th:only-of-type {\n",
              "        vertical-align: middle;\n",
              "    }\n",
              "\n",
              "    .dataframe tbody tr th {\n",
              "        vertical-align: top;\n",
              "    }\n",
              "\n",
              "    .dataframe thead th {\n",
              "        text-align: right;\n",
              "    }\n",
              "</style>\n",
              "<table border=\"1\" class=\"dataframe\">\n",
              "  <thead>\n",
              "    <tr style=\"text-align: right;\">\n",
              "      <th></th>\n",
              "      <th>Pregnancies</th>\n",
              "      <th>Glucose</th>\n",
              "      <th>BloodPressure</th>\n",
              "      <th>SkinThickness</th>\n",
              "      <th>Insulin</th>\n",
              "      <th>BMI</th>\n",
              "      <th>DiabetesPedigreeFunction</th>\n",
              "      <th>Age</th>\n",
              "      <th>Outcome</th>\n",
              "    </tr>\n",
              "  </thead>\n",
              "  <tbody>\n",
              "    <tr>\n",
              "      <th>0</th>\n",
              "      <td>6</td>\n",
              "      <td>148</td>\n",
              "      <td>72</td>\n",
              "      <td>35</td>\n",
              "      <td>0</td>\n",
              "      <td>33.6</td>\n",
              "      <td>0.627</td>\n",
              "      <td>50</td>\n",
              "      <td>1</td>\n",
              "    </tr>\n",
              "    <tr>\n",
              "      <th>1</th>\n",
              "      <td>1</td>\n",
              "      <td>85</td>\n",
              "      <td>66</td>\n",
              "      <td>29</td>\n",
              "      <td>0</td>\n",
              "      <td>26.6</td>\n",
              "      <td>0.351</td>\n",
              "      <td>31</td>\n",
              "      <td>0</td>\n",
              "    </tr>\n",
              "    <tr>\n",
              "      <th>2</th>\n",
              "      <td>8</td>\n",
              "      <td>183</td>\n",
              "      <td>64</td>\n",
              "      <td>0</td>\n",
              "      <td>0</td>\n",
              "      <td>23.3</td>\n",
              "      <td>0.672</td>\n",
              "      <td>32</td>\n",
              "      <td>1</td>\n",
              "    </tr>\n",
              "    <tr>\n",
              "      <th>3</th>\n",
              "      <td>1</td>\n",
              "      <td>89</td>\n",
              "      <td>66</td>\n",
              "      <td>23</td>\n",
              "      <td>94</td>\n",
              "      <td>28.1</td>\n",
              "      <td>0.167</td>\n",
              "      <td>21</td>\n",
              "      <td>0</td>\n",
              "    </tr>\n",
              "    <tr>\n",
              "      <th>4</th>\n",
              "      <td>0</td>\n",
              "      <td>137</td>\n",
              "      <td>40</td>\n",
              "      <td>35</td>\n",
              "      <td>168</td>\n",
              "      <td>43.1</td>\n",
              "      <td>2.288</td>\n",
              "      <td>33</td>\n",
              "      <td>1</td>\n",
              "    </tr>\n",
              "  </tbody>\n",
              "</table>\n",
              "</div>"
            ],
            "text/plain": [
              "   Pregnancies  Glucose  BloodPressure  SkinThickness  Insulin   BMI  \\\n",
              "0            6      148             72             35        0  33.6   \n",
              "1            1       85             66             29        0  26.6   \n",
              "2            8      183             64              0        0  23.3   \n",
              "3            1       89             66             23       94  28.1   \n",
              "4            0      137             40             35      168  43.1   \n",
              "\n",
              "   DiabetesPedigreeFunction  Age  Outcome  \n",
              "0                     0.627   50        1  \n",
              "1                     0.351   31        0  \n",
              "2                     0.672   32        1  \n",
              "3                     0.167   21        0  \n",
              "4                     2.288   33        1  "
            ]
          },
          "execution_count": 3,
          "metadata": {},
          "output_type": "execute_result"
        }
      ],
      "source": [
        "# Load the data\n",
        "df.head()"
      ]
    },
    {
      "cell_type": "code",
      "execution_count": null,
      "id": "e3f0db94",
      "metadata": {
        "execution": {
          "iopub.execute_input": "2021-12-08T20:39:25.040427Z",
          "iopub.status.busy": "2021-12-08T20:39:25.039824Z",
          "iopub.status.idle": "2021-12-08T20:39:25.044150Z",
          "shell.execute_reply": "2021-12-08T20:39:25.044686Z",
          "shell.execute_reply.started": "2021-12-08T18:20:52.951328Z"
        },
        "papermill": {
          "duration": 0.05059,
          "end_time": "2021-12-08T20:39:25.044844",
          "exception": false,
          "start_time": "2021-12-08T20:39:24.994254",
          "status": "completed"
        },
        "tags": [],
        "id": "e3f0db94",
        "outputId": "b7b3bebd-d14a-42b0-b2d4-e0efca0e857e"
      },
      "outputs": [
        {
          "data": {
            "text/plain": [
              "(768, 9)"
            ]
          },
          "execution_count": 4,
          "metadata": {},
          "output_type": "execute_result"
        }
      ],
      "source": [
        "# number of rows and columns of the data\n",
        "df.shape # 768 rows and 9 columns"
      ]
    },
    {
      "cell_type": "code",
      "execution_count": null,
      "id": "01ee0752",
      "metadata": {
        "execution": {
          "iopub.execute_input": "2021-12-08T20:39:25.134026Z",
          "iopub.status.busy": "2021-12-08T20:39:25.133459Z",
          "iopub.status.idle": "2021-12-08T20:39:25.144084Z",
          "shell.execute_reply": "2021-12-08T20:39:25.144656Z",
          "shell.execute_reply.started": "2021-12-08T18:20:53.281649Z"
        },
        "papermill": {
          "duration": 0.056834,
          "end_time": "2021-12-08T20:39:25.144817",
          "exception": false,
          "start_time": "2021-12-08T20:39:25.087983",
          "status": "completed"
        },
        "tags": [],
        "id": "01ee0752",
        "outputId": "2f5321ff-c6a1-41e1-eaf9-2fc4a07fc36d"
      },
      "outputs": [
        {
          "data": {
            "text/html": [
              "<div>\n",
              "<style scoped>\n",
              "    .dataframe tbody tr th:only-of-type {\n",
              "        vertical-align: middle;\n",
              "    }\n",
              "\n",
              "    .dataframe tbody tr th {\n",
              "        vertical-align: top;\n",
              "    }\n",
              "\n",
              "    .dataframe thead th {\n",
              "        text-align: right;\n",
              "    }\n",
              "</style>\n",
              "<table border=\"1\" class=\"dataframe\">\n",
              "  <thead>\n",
              "    <tr style=\"text-align: right;\">\n",
              "      <th></th>\n",
              "      <th>Pregnancies</th>\n",
              "      <th>Glucose</th>\n",
              "      <th>BloodPressure</th>\n",
              "      <th>SkinThickness</th>\n",
              "      <th>Insulin</th>\n",
              "      <th>BMI</th>\n",
              "      <th>DiabetesPedigreeFunction</th>\n",
              "      <th>Age</th>\n",
              "      <th>Outcome</th>\n",
              "    </tr>\n",
              "  </thead>\n",
              "  <tbody>\n",
              "    <tr>\n",
              "      <th>763</th>\n",
              "      <td>10</td>\n",
              "      <td>101</td>\n",
              "      <td>76</td>\n",
              "      <td>48</td>\n",
              "      <td>180</td>\n",
              "      <td>32.9</td>\n",
              "      <td>0.171</td>\n",
              "      <td>63</td>\n",
              "      <td>0</td>\n",
              "    </tr>\n",
              "    <tr>\n",
              "      <th>764</th>\n",
              "      <td>2</td>\n",
              "      <td>122</td>\n",
              "      <td>70</td>\n",
              "      <td>27</td>\n",
              "      <td>0</td>\n",
              "      <td>36.8</td>\n",
              "      <td>0.340</td>\n",
              "      <td>27</td>\n",
              "      <td>0</td>\n",
              "    </tr>\n",
              "    <tr>\n",
              "      <th>765</th>\n",
              "      <td>5</td>\n",
              "      <td>121</td>\n",
              "      <td>72</td>\n",
              "      <td>23</td>\n",
              "      <td>112</td>\n",
              "      <td>26.2</td>\n",
              "      <td>0.245</td>\n",
              "      <td>30</td>\n",
              "      <td>0</td>\n",
              "    </tr>\n",
              "    <tr>\n",
              "      <th>766</th>\n",
              "      <td>1</td>\n",
              "      <td>126</td>\n",
              "      <td>60</td>\n",
              "      <td>0</td>\n",
              "      <td>0</td>\n",
              "      <td>30.1</td>\n",
              "      <td>0.349</td>\n",
              "      <td>47</td>\n",
              "      <td>1</td>\n",
              "    </tr>\n",
              "    <tr>\n",
              "      <th>767</th>\n",
              "      <td>1</td>\n",
              "      <td>93</td>\n",
              "      <td>70</td>\n",
              "      <td>31</td>\n",
              "      <td>0</td>\n",
              "      <td>30.4</td>\n",
              "      <td>0.315</td>\n",
              "      <td>23</td>\n",
              "      <td>0</td>\n",
              "    </tr>\n",
              "  </tbody>\n",
              "</table>\n",
              "</div>"
            ],
            "text/plain": [
              "     Pregnancies  Glucose  BloodPressure  SkinThickness  Insulin   BMI  \\\n",
              "763           10      101             76             48      180  32.9   \n",
              "764            2      122             70             27        0  36.8   \n",
              "765            5      121             72             23      112  26.2   \n",
              "766            1      126             60              0        0  30.1   \n",
              "767            1       93             70             31        0  30.4   \n",
              "\n",
              "     DiabetesPedigreeFunction  Age  Outcome  \n",
              "763                     0.171   63        0  \n",
              "764                     0.340   27        0  \n",
              "765                     0.245   30        0  \n",
              "766                     0.349   47        1  \n",
              "767                     0.315   23        0  "
            ]
          },
          "execution_count": 5,
          "metadata": {},
          "output_type": "execute_result"
        }
      ],
      "source": [
        "df.tail()"
      ]
    },
    {
      "cell_type": "code",
      "execution_count": null,
      "id": "cb83040c",
      "metadata": {
        "execution": {
          "iopub.execute_input": "2021-12-08T20:39:25.234270Z",
          "iopub.status.busy": "2021-12-08T20:39:25.233698Z",
          "iopub.status.idle": "2021-12-08T20:39:25.255291Z",
          "shell.execute_reply": "2021-12-08T20:39:25.255840Z",
          "shell.execute_reply.started": "2021-12-08T18:20:53.610014Z"
        },
        "papermill": {
          "duration": 0.067803,
          "end_time": "2021-12-08T20:39:25.256002",
          "exception": false,
          "start_time": "2021-12-08T20:39:25.188199",
          "status": "completed"
        },
        "tags": [],
        "id": "cb83040c",
        "outputId": "ec4c2ccd-10d5-49a9-eaa4-b2603e10381e"
      },
      "outputs": [
        {
          "name": "stdout",
          "output_type": "stream",
          "text": [
            "<class 'pandas.core.frame.DataFrame'>\n",
            "RangeIndex: 768 entries, 0 to 767\n",
            "Data columns (total 9 columns):\n",
            " #   Column                    Non-Null Count  Dtype  \n",
            "---  ------                    --------------  -----  \n",
            " 0   Pregnancies               768 non-null    int64  \n",
            " 1   Glucose                   768 non-null    int64  \n",
            " 2   BloodPressure             768 non-null    int64  \n",
            " 3   SkinThickness             768 non-null    int64  \n",
            " 4   Insulin                   768 non-null    int64  \n",
            " 5   BMI                       768 non-null    float64\n",
            " 6   DiabetesPedigreeFunction  768 non-null    float64\n",
            " 7   Age                       768 non-null    int64  \n",
            " 8   Outcome                   768 non-null    int64  \n",
            "dtypes: float64(2), int64(7)\n",
            "memory usage: 54.1 KB\n"
          ]
        }
      ],
      "source": [
        "df.info()"
      ]
    },
    {
      "cell_type": "markdown",
      "id": "1fe7e3a8",
      "metadata": {
        "papermill": {
          "duration": 0.043702,
          "end_time": "2021-12-08T20:39:25.343609",
          "exception": false,
          "start_time": "2021-12-08T20:39:25.299907",
          "status": "completed"
        },
        "tags": [],
        "id": "1fe7e3a8"
      },
      "source": [
        "data is numric"
      ]
    },
    {
      "cell_type": "code",
      "execution_count": null,
      "id": "334c75f7",
      "metadata": {
        "execution": {
          "iopub.execute_input": "2021-12-08T20:39:25.433851Z",
          "iopub.status.busy": "2021-12-08T20:39:25.433291Z",
          "iopub.status.idle": "2021-12-08T20:39:25.466299Z",
          "shell.execute_reply": "2021-12-08T20:39:25.466744Z",
          "shell.execute_reply.started": "2021-12-08T18:20:54.289482Z"
        },
        "papermill": {
          "duration": 0.079645,
          "end_time": "2021-12-08T20:39:25.466903",
          "exception": false,
          "start_time": "2021-12-08T20:39:25.387258",
          "status": "completed"
        },
        "tags": [],
        "id": "334c75f7",
        "outputId": "991960e4-ab47-4552-e673-19c085a7a679"
      },
      "outputs": [
        {
          "data": {
            "text/html": [
              "<div>\n",
              "<style scoped>\n",
              "    .dataframe tbody tr th:only-of-type {\n",
              "        vertical-align: middle;\n",
              "    }\n",
              "\n",
              "    .dataframe tbody tr th {\n",
              "        vertical-align: top;\n",
              "    }\n",
              "\n",
              "    .dataframe thead th {\n",
              "        text-align: right;\n",
              "    }\n",
              "</style>\n",
              "<table border=\"1\" class=\"dataframe\">\n",
              "  <thead>\n",
              "    <tr style=\"text-align: right;\">\n",
              "      <th></th>\n",
              "      <th>Pregnancies</th>\n",
              "      <th>Glucose</th>\n",
              "      <th>BloodPressure</th>\n",
              "      <th>SkinThickness</th>\n",
              "      <th>Insulin</th>\n",
              "      <th>BMI</th>\n",
              "      <th>DiabetesPedigreeFunction</th>\n",
              "      <th>Age</th>\n",
              "      <th>Outcome</th>\n",
              "    </tr>\n",
              "  </thead>\n",
              "  <tbody>\n",
              "    <tr>\n",
              "      <th>count</th>\n",
              "      <td>768.000000</td>\n",
              "      <td>768.000000</td>\n",
              "      <td>768.000000</td>\n",
              "      <td>768.000000</td>\n",
              "      <td>768.000000</td>\n",
              "      <td>768.000000</td>\n",
              "      <td>768.000000</td>\n",
              "      <td>768.000000</td>\n",
              "      <td>768.000000</td>\n",
              "    </tr>\n",
              "    <tr>\n",
              "      <th>mean</th>\n",
              "      <td>3.845052</td>\n",
              "      <td>120.894531</td>\n",
              "      <td>69.105469</td>\n",
              "      <td>20.536458</td>\n",
              "      <td>79.799479</td>\n",
              "      <td>31.992578</td>\n",
              "      <td>0.471876</td>\n",
              "      <td>33.240885</td>\n",
              "      <td>0.348958</td>\n",
              "    </tr>\n",
              "    <tr>\n",
              "      <th>std</th>\n",
              "      <td>3.369578</td>\n",
              "      <td>31.972618</td>\n",
              "      <td>19.355807</td>\n",
              "      <td>15.952218</td>\n",
              "      <td>115.244002</td>\n",
              "      <td>7.884160</td>\n",
              "      <td>0.331329</td>\n",
              "      <td>11.760232</td>\n",
              "      <td>0.476951</td>\n",
              "    </tr>\n",
              "    <tr>\n",
              "      <th>min</th>\n",
              "      <td>0.000000</td>\n",
              "      <td>0.000000</td>\n",
              "      <td>0.000000</td>\n",
              "      <td>0.000000</td>\n",
              "      <td>0.000000</td>\n",
              "      <td>0.000000</td>\n",
              "      <td>0.078000</td>\n",
              "      <td>21.000000</td>\n",
              "      <td>0.000000</td>\n",
              "    </tr>\n",
              "    <tr>\n",
              "      <th>25%</th>\n",
              "      <td>1.000000</td>\n",
              "      <td>99.000000</td>\n",
              "      <td>62.000000</td>\n",
              "      <td>0.000000</td>\n",
              "      <td>0.000000</td>\n",
              "      <td>27.300000</td>\n",
              "      <td>0.243750</td>\n",
              "      <td>24.000000</td>\n",
              "      <td>0.000000</td>\n",
              "    </tr>\n",
              "    <tr>\n",
              "      <th>50%</th>\n",
              "      <td>3.000000</td>\n",
              "      <td>117.000000</td>\n",
              "      <td>72.000000</td>\n",
              "      <td>23.000000</td>\n",
              "      <td>30.500000</td>\n",
              "      <td>32.000000</td>\n",
              "      <td>0.372500</td>\n",
              "      <td>29.000000</td>\n",
              "      <td>0.000000</td>\n",
              "    </tr>\n",
              "    <tr>\n",
              "      <th>75%</th>\n",
              "      <td>6.000000</td>\n",
              "      <td>140.250000</td>\n",
              "      <td>80.000000</td>\n",
              "      <td>32.000000</td>\n",
              "      <td>127.250000</td>\n",
              "      <td>36.600000</td>\n",
              "      <td>0.626250</td>\n",
              "      <td>41.000000</td>\n",
              "      <td>1.000000</td>\n",
              "    </tr>\n",
              "    <tr>\n",
              "      <th>max</th>\n",
              "      <td>17.000000</td>\n",
              "      <td>199.000000</td>\n",
              "      <td>122.000000</td>\n",
              "      <td>99.000000</td>\n",
              "      <td>846.000000</td>\n",
              "      <td>67.100000</td>\n",
              "      <td>2.420000</td>\n",
              "      <td>81.000000</td>\n",
              "      <td>1.000000</td>\n",
              "    </tr>\n",
              "  </tbody>\n",
              "</table>\n",
              "</div>"
            ],
            "text/plain": [
              "       Pregnancies     Glucose  BloodPressure  SkinThickness     Insulin  \\\n",
              "count   768.000000  768.000000     768.000000     768.000000  768.000000   \n",
              "mean      3.845052  120.894531      69.105469      20.536458   79.799479   \n",
              "std       3.369578   31.972618      19.355807      15.952218  115.244002   \n",
              "min       0.000000    0.000000       0.000000       0.000000    0.000000   \n",
              "25%       1.000000   99.000000      62.000000       0.000000    0.000000   \n",
              "50%       3.000000  117.000000      72.000000      23.000000   30.500000   \n",
              "75%       6.000000  140.250000      80.000000      32.000000  127.250000   \n",
              "max      17.000000  199.000000     122.000000      99.000000  846.000000   \n",
              "\n",
              "              BMI  DiabetesPedigreeFunction         Age     Outcome  \n",
              "count  768.000000                768.000000  768.000000  768.000000  \n",
              "mean    31.992578                  0.471876   33.240885    0.348958  \n",
              "std      7.884160                  0.331329   11.760232    0.476951  \n",
              "min      0.000000                  0.078000   21.000000    0.000000  \n",
              "25%     27.300000                  0.243750   24.000000    0.000000  \n",
              "50%     32.000000                  0.372500   29.000000    0.000000  \n",
              "75%     36.600000                  0.626250   41.000000    1.000000  \n",
              "max     67.100000                  2.420000   81.000000    1.000000  "
            ]
          },
          "execution_count": 7,
          "metadata": {},
          "output_type": "execute_result"
        }
      ],
      "source": [
        "df.describe()"
      ]
    },
    {
      "cell_type": "markdown",
      "id": "33fb8ec4",
      "metadata": {
        "papermill": {
          "duration": 0.043468,
          "end_time": "2021-12-08T20:39:25.554668",
          "exception": false,
          "start_time": "2021-12-08T20:39:25.511200",
          "status": "completed"
        },
        "tags": [],
        "id": "33fb8ec4"
      },
      "source": [
        "- the min value in  5 columns = 0 (Glucose, BloodPressure, Skin Thickness, Insulin, BMI) which will be considered as null values<br>\n",
        "- In skin Thickness and Insulin Column less than or equal 25% of the data are null values\n",
        "- look at the maximum Insulin Value = 846 wich is too high u will never find a person with this insulin value (outlier)<br>\n",
        "all this an errors in data collection"
      ]
    },
    {
      "cell_type": "code",
      "execution_count": null,
      "id": "d8318de0",
      "metadata": {
        "execution": {
          "iopub.execute_input": "2021-12-08T20:39:25.645659Z",
          "iopub.status.busy": "2021-12-08T20:39:25.645031Z",
          "iopub.status.idle": "2021-12-08T20:39:25.651690Z",
          "shell.execute_reply": "2021-12-08T20:39:25.652216Z",
          "shell.execute_reply.started": "2021-12-08T18:20:54.899021Z"
        },
        "papermill": {
          "duration": 0.053834,
          "end_time": "2021-12-08T20:39:25.652386",
          "exception": false,
          "start_time": "2021-12-08T20:39:25.598552",
          "status": "completed"
        },
        "tags": [],
        "id": "d8318de0",
        "outputId": "c18776e5-049a-4502-e499-0e13b3cf9834"
      },
      "outputs": [
        {
          "data": {
            "text/plain": [
              "Pregnancies                 0\n",
              "Glucose                     0\n",
              "BloodPressure               0\n",
              "SkinThickness               0\n",
              "Insulin                     0\n",
              "BMI                         0\n",
              "DiabetesPedigreeFunction    0\n",
              "Age                         0\n",
              "Outcome                     0\n",
              "dtype: int64"
            ]
          },
          "execution_count": 8,
          "metadata": {},
          "output_type": "execute_result"
        }
      ],
      "source": [
        "df.isnull().sum()"
      ]
    },
    {
      "cell_type": "markdown",
      "id": "1612a2e1",
      "metadata": {
        "papermill": {
          "duration": 0.043969,
          "end_time": "2021-12-08T20:39:25.740532",
          "exception": false,
          "start_time": "2021-12-08T20:39:25.696563",
          "status": "completed"
        },
        "tags": [],
        "id": "1612a2e1"
      },
      "source": [
        "**Data PreProcessing**"
      ]
    },
    {
      "cell_type": "code",
      "execution_count": null,
      "id": "e99044e8",
      "metadata": {
        "execution": {
          "iopub.execute_input": "2021-12-08T20:39:25.834316Z",
          "iopub.status.busy": "2021-12-08T20:39:25.833682Z",
          "iopub.status.idle": "2021-12-08T20:39:25.841535Z",
          "shell.execute_reply": "2021-12-08T20:39:25.841998Z",
          "shell.execute_reply.started": "2021-12-08T18:20:55.608899Z"
        },
        "papermill": {
          "duration": 0.056504,
          "end_time": "2021-12-08T20:39:25.842185",
          "exception": false,
          "start_time": "2021-12-08T20:39:25.785681",
          "status": "completed"
        },
        "tags": [],
        "id": "e99044e8"
      },
      "outputs": [],
      "source": [
        "df[['Glucose','BloodPressure','SkinThickness','Insulin','BMI']] = df[['Glucose','BloodPressure','SkinThickness','Insulin','BMI']].replace(0, np.NaN)"
      ]
    },
    {
      "cell_type": "markdown",
      "id": "86bcb21f",
      "metadata": {
        "papermill": {
          "duration": 0.044666,
          "end_time": "2021-12-08T20:39:25.931304",
          "exception": false,
          "start_time": "2021-12-08T20:39:25.886638",
          "status": "completed"
        },
        "tags": [],
        "id": "86bcb21f"
      },
      "source": [
        "convert those 0's values in these 5 columns to determine how many missing values in each feature in our data"
      ]
    },
    {
      "cell_type": "code",
      "execution_count": null,
      "id": "c6049830",
      "metadata": {
        "execution": {
          "iopub.execute_input": "2021-12-08T20:39:26.025008Z",
          "iopub.status.busy": "2021-12-08T20:39:26.024455Z",
          "iopub.status.idle": "2021-12-08T20:39:26.032459Z",
          "shell.execute_reply": "2021-12-08T20:39:26.032893Z",
          "shell.execute_reply.started": "2021-12-08T18:20:56.464351Z"
        },
        "papermill": {
          "duration": 0.057267,
          "end_time": "2021-12-08T20:39:26.033052",
          "exception": false,
          "start_time": "2021-12-08T20:39:25.975785",
          "status": "completed"
        },
        "tags": [],
        "id": "c6049830",
        "outputId": "27ba8be0-e515-4986-f71f-59b0999238fa"
      },
      "outputs": [
        {
          "data": {
            "text/plain": [
              "Pregnancies                   0\n",
              "Glucose                       5\n",
              "BloodPressure                35\n",
              "SkinThickness               227\n",
              "Insulin                     374\n",
              "BMI                          11\n",
              "DiabetesPedigreeFunction      0\n",
              "Age                           0\n",
              "Outcome                       0\n",
              "dtype: int64"
            ]
          },
          "execution_count": 10,
          "metadata": {},
          "output_type": "execute_result"
        }
      ],
      "source": [
        "df.isnull().sum()"
      ]
    },
    {
      "cell_type": "code",
      "execution_count": null,
      "id": "8c8f2cdb",
      "metadata": {
        "execution": {
          "iopub.execute_input": "2021-12-08T20:39:26.127303Z",
          "iopub.status.busy": "2021-12-08T20:39:26.126715Z",
          "iopub.status.idle": "2021-12-08T20:39:27.046565Z",
          "shell.execute_reply": "2021-12-08T20:39:27.046046Z",
          "shell.execute_reply.started": "2021-12-08T18:20:57.017088Z"
        },
        "papermill": {
          "duration": 0.968743,
          "end_time": "2021-12-08T20:39:27.046702",
          "exception": false,
          "start_time": "2021-12-08T20:39:26.077959",
          "status": "completed"
        },
        "tags": [],
        "id": "8c8f2cdb",
        "outputId": "f035628a-fe7a-44dc-fd44-ac7aeb9460b2"
      },
      "outputs": [
        {
          "data": {
            "image/png": "[encoded data removed]",
            "text/plain": [
              "<Figure size 1728x720 with 3 Axes>"
            ]
          },
          "metadata": {
            "needs_background": "light"
          },
          "output_type": "display_data"
        }
      ],
      "source": [
        "# using missingno library to visualize the data with neglecting the missing values\n",
        "msno.bar(df);"
      ]
    },
    {
      "cell_type": "code",
      "execution_count": null,
      "id": "1aa97875",
      "metadata": {
        "execution": {
          "iopub.execute_input": "2021-12-08T20:39:27.144913Z",
          "iopub.status.busy": "2021-12-08T20:39:27.144270Z",
          "iopub.status.idle": "2021-12-08T20:39:27.163216Z",
          "shell.execute_reply": "2021-12-08T20:39:27.163682Z",
          "shell.execute_reply.started": "2021-12-08T18:20:57.743423Z"
        },
        "papermill": {
          "duration": 0.068369,
          "end_time": "2021-12-08T20:39:27.163863",
          "exception": false,
          "start_time": "2021-12-08T20:39:27.095494",
          "status": "completed"
        },
        "tags": [],
        "id": "1aa97875",
        "outputId": "e9340be7-f617-48c4-eb01-864746cc4e5a"
      },
      "outputs": [
        {
          "data": {
            "text/html": [
              "<div>\n",
              "<style scoped>\n",
              "    .dataframe tbody tr th:only-of-type {\n",
              "        vertical-align: middle;\n",
              "    }\n",
              "\n",
              "    .dataframe tbody tr th {\n",
              "        vertical-align: top;\n",
              "    }\n",
              "\n",
              "    .dataframe thead th {\n",
              "        text-align: right;\n",
              "    }\n",
              "</style>\n",
              "<table border=\"1\" class=\"dataframe\">\n",
              "  <thead>\n",
              "    <tr style=\"text-align: right;\">\n",
              "      <th></th>\n",
              "      <th>Pregnancies</th>\n",
              "      <th>Glucose</th>\n",
              "      <th>BloodPressure</th>\n",
              "      <th>SkinThickness</th>\n",
              "      <th>Insulin</th>\n",
              "      <th>BMI</th>\n",
              "      <th>DiabetesPedigreeFunction</th>\n",
              "      <th>Age</th>\n",
              "      <th>Outcome</th>\n",
              "    </tr>\n",
              "  </thead>\n",
              "  <tbody>\n",
              "    <tr>\n",
              "      <th>0</th>\n",
              "      <td>6</td>\n",
              "      <td>148.0</td>\n",
              "      <td>72.0</td>\n",
              "      <td>35.0</td>\n",
              "      <td>NaN</td>\n",
              "      <td>33.6</td>\n",
              "      <td>0.627</td>\n",
              "      <td>50</td>\n",
              "      <td>1</td>\n",
              "    </tr>\n",
              "    <tr>\n",
              "      <th>1</th>\n",
              "      <td>1</td>\n",
              "      <td>85.0</td>\n",
              "      <td>66.0</td>\n",
              "      <td>29.0</td>\n",
              "      <td>NaN</td>\n",
              "      <td>26.6</td>\n",
              "      <td>0.351</td>\n",
              "      <td>31</td>\n",
              "      <td>0</td>\n",
              "    </tr>\n",
              "    <tr>\n",
              "      <th>2</th>\n",
              "      <td>8</td>\n",
              "      <td>183.0</td>\n",
              "      <td>64.0</td>\n",
              "      <td>NaN</td>\n",
              "      <td>NaN</td>\n",
              "      <td>23.3</td>\n",
              "      <td>0.672</td>\n",
              "      <td>32</td>\n",
              "      <td>1</td>\n",
              "    </tr>\n",
              "    <tr>\n",
              "      <th>3</th>\n",
              "      <td>1</td>\n",
              "      <td>89.0</td>\n",
              "      <td>66.0</td>\n",
              "      <td>23.0</td>\n",
              "      <td>94.0</td>\n",
              "      <td>28.1</td>\n",
              "      <td>0.167</td>\n",
              "      <td>21</td>\n",
              "      <td>0</td>\n",
              "    </tr>\n",
              "    <tr>\n",
              "      <th>4</th>\n",
              "      <td>0</td>\n",
              "      <td>137.0</td>\n",
              "      <td>40.0</td>\n",
              "      <td>35.0</td>\n",
              "      <td>168.0</td>\n",
              "      <td>43.1</td>\n",
              "      <td>2.288</td>\n",
              "      <td>33</td>\n",
              "      <td>1</td>\n",
              "    </tr>\n",
              "    <tr>\n",
              "      <th>...</th>\n",
              "      <td>...</td>\n",
              "      <td>...</td>\n",
              "      <td>...</td>\n",
              "      <td>...</td>\n",
              "      <td>...</td>\n",
              "      <td>...</td>\n",
              "      <td>...</td>\n",
              "      <td>...</td>\n",
              "      <td>...</td>\n",
              "    </tr>\n",
              "    <tr>\n",
              "      <th>763</th>\n",
              "      <td>10</td>\n",
              "      <td>101.0</td>\n",
              "      <td>76.0</td>\n",
              "      <td>48.0</td>\n",
              "      <td>180.0</td>\n",
              "      <td>32.9</td>\n",
              "      <td>0.171</td>\n",
              "      <td>63</td>\n",
              "      <td>0</td>\n",
              "    </tr>\n",
              "    <tr>\n",
              "      <th>764</th>\n",
              "      <td>2</td>\n",
              "      <td>122.0</td>\n",
              "      <td>70.0</td>\n",
              "      <td>27.0</td>\n",
              "      <td>NaN</td>\n",
              "      <td>36.8</td>\n",
              "      <td>0.340</td>\n",
              "      <td>27</td>\n",
              "      <td>0</td>\n",
              "    </tr>\n",
              "    <tr>\n",
              "      <th>765</th>\n",
              "      <td>5</td>\n",
              "      <td>121.0</td>\n",
              "      <td>72.0</td>\n",
              "      <td>23.0</td>\n",
              "      <td>112.0</td>\n",
              "      <td>26.2</td>\n",
              "      <td>0.245</td>\n",
              "      <td>30</td>\n",
              "      <td>0</td>\n",
              "    </tr>\n",
              "    <tr>\n",
              "      <th>766</th>\n",
              "      <td>1</td>\n",
              "      <td>126.0</td>\n",
              "      <td>60.0</td>\n",
              "      <td>NaN</td>\n",
              "      <td>NaN</td>\n",
              "      <td>30.1</td>\n",
              "      <td>0.349</td>\n",
              "      <td>47</td>\n",
              "      <td>1</td>\n",
              "    </tr>\n",
              "    <tr>\n",
              "      <th>767</th>\n",
              "      <td>1</td>\n",
              "      <td>93.0</td>\n",
              "      <td>70.0</td>\n",
              "      <td>31.0</td>\n",
              "      <td>NaN</td>\n",
              "      <td>30.4</td>\n",
              "      <td>0.315</td>\n",
              "      <td>23</td>\n",
              "      <td>0</td>\n",
              "    </tr>\n",
              "  </tbody>\n",
              "</table>\n",
              "<p>763 rows × 9 columns</p>\n",
              "</div>"
            ],
            "text/plain": [
              "     Pregnancies  Glucose  BloodPressure  SkinThickness  Insulin   BMI  \\\n",
              "0              6    148.0           72.0           35.0      NaN  33.6   \n",
              "1              1     85.0           66.0           29.0      NaN  26.6   \n",
              "2              8    183.0           64.0            NaN      NaN  23.3   \n",
              "3              1     89.0           66.0           23.0     94.0  28.1   \n",
              "4              0    137.0           40.0           35.0    168.0  43.1   \n",
              "..           ...      ...            ...            ...      ...   ...   \n",
              "763           10    101.0           76.0           48.0    180.0  32.9   \n",
              "764            2    122.0           70.0           27.0      NaN  36.8   \n",
              "765            5    121.0           72.0           23.0    112.0  26.2   \n",
              "766            1    126.0           60.0            NaN      NaN  30.1   \n",
              "767            1     93.0           70.0           31.0      NaN  30.4   \n",
              "\n",
              "     DiabetesPedigreeFunction  Age  Outcome  \n",
              "0                       0.627   50        1  \n",
              "1                       0.351   31        0  \n",
              "2                       0.672   32        1  \n",
              "3                       0.167   21        0  \n",
              "4                       2.288   33        1  \n",
              "..                        ...  ...      ...  \n",
              "763                     0.171   63        0  \n",
              "764                     0.340   27        0  \n",
              "765                     0.245   30        0  \n",
              "766                     0.349   47        1  \n",
              "767                     0.315   23        0  \n",
              "\n",
              "[763 rows x 9 columns]"
            ]
          },
          "execution_count": 12,
          "metadata": {},
          "output_type": "execute_result"
        }
      ],
      "source": [
        "df[df.Glucose.notnull()]"
      ]
    },
    {
      "cell_type": "code",
      "execution_count": null,
      "id": "1b5910da",
      "metadata": {
        "execution": {
          "iopub.execute_input": "2021-12-08T20:39:27.260683Z",
          "iopub.status.busy": "2021-12-08T20:39:27.260074Z",
          "iopub.status.idle": "2021-12-08T20:39:27.278928Z",
          "shell.execute_reply": "2021-12-08T20:39:27.278488Z",
          "shell.execute_reply.started": "2021-12-08T18:20:57.773646Z"
        },
        "papermill": {
          "duration": 0.067955,
          "end_time": "2021-12-08T20:39:27.279063",
          "exception": false,
          "start_time": "2021-12-08T20:39:27.211108",
          "status": "completed"
        },
        "tags": [],
        "id": "1b5910da",
        "outputId": "0747b83e-7989-4b53-d7e1-6a8683901c83"
      },
      "outputs": [
        {
          "data": {
            "text/html": [
              "<div>\n",
              "<style scoped>\n",
              "    .dataframe tbody tr th:only-of-type {\n",
              "        vertical-align: middle;\n",
              "    }\n",
              "\n",
              "    .dataframe tbody tr th {\n",
              "        vertical-align: top;\n",
              "    }\n",
              "\n",
              "    .dataframe thead th {\n",
              "        text-align: right;\n",
              "    }\n",
              "</style>\n",
              "<table border=\"1\" class=\"dataframe\">\n",
              "  <thead>\n",
              "    <tr style=\"text-align: right;\">\n",
              "      <th></th>\n",
              "      <th>Outcome</th>\n",
              "      <th>Glucose</th>\n",
              "    </tr>\n",
              "  </thead>\n",
              "  <tbody>\n",
              "    <tr>\n",
              "      <th>0</th>\n",
              "      <td>0</td>\n",
              "      <td>107.0</td>\n",
              "    </tr>\n",
              "    <tr>\n",
              "      <th>1</th>\n",
              "      <td>1</td>\n",
              "      <td>140.0</td>\n",
              "    </tr>\n",
              "  </tbody>\n",
              "</table>\n",
              "</div>"
            ],
            "text/plain": [
              "   Outcome  Glucose\n",
              "0        0    107.0\n",
              "1        1    140.0"
            ]
          },
          "execution_count": 13,
          "metadata": {},
          "output_type": "execute_result"
        }
      ],
      "source": [
        "df[['Glucose', 'Outcome']].groupby(['Outcome'])[['Glucose']].median().reset_index()"
      ]
    },
    {
      "cell_type": "code",
      "execution_count": null,
      "id": "ab8178cd",
      "metadata": {
        "execution": {
          "iopub.execute_input": "2021-12-08T20:39:27.376296Z",
          "iopub.status.busy": "2021-12-08T20:39:27.375748Z",
          "iopub.status.idle": "2021-12-08T20:39:27.379671Z",
          "shell.execute_reply": "2021-12-08T20:39:27.380183Z",
          "shell.execute_reply.started": "2021-12-08T18:20:57.924317Z"
        },
        "papermill": {
          "duration": 0.05383,
          "end_time": "2021-12-08T20:39:27.380346",
          "exception": false,
          "start_time": "2021-12-08T20:39:27.326516",
          "status": "completed"
        },
        "tags": [],
        "id": "ab8178cd"
      },
      "outputs": [],
      "source": [
        "# The missing values will be filled with the median values of each variable.\n",
        "def median_target(var):\n",
        "    temp = df[df[var].notnull()] # Assign the not NAN values of specific column to the variable temp\n",
        "    temp = temp[[var, 'Outcome']].groupby(['Outcome'])[[var]].median().reset_index() # groupby outcome and calculate the median for each outcome\n",
        "    return temp"
      ]
    },
    {
      "cell_type": "code",
      "execution_count": null,
      "id": "a62e12fb",
      "metadata": {
        "execution": {
          "iopub.execute_input": "2021-12-08T20:39:27.476814Z",
          "iopub.status.busy": "2021-12-08T20:39:27.476239Z",
          "iopub.status.idle": "2021-12-08T20:39:27.488057Z",
          "shell.execute_reply": "2021-12-08T20:39:27.488593Z",
          "shell.execute_reply.started": "2021-12-08T18:20:58.885297Z"
        },
        "papermill": {
          "duration": 0.061592,
          "end_time": "2021-12-08T20:39:27.488763",
          "exception": false,
          "start_time": "2021-12-08T20:39:27.427171",
          "status": "completed"
        },
        "tags": [],
        "id": "a62e12fb",
        "outputId": "587dd9e8-e487-48dd-8229-494edd1ccf61"
      },
      "outputs": [
        {
          "data": {
            "text/html": [
              "<div>\n",
              "<style scoped>\n",
              "    .dataframe tbody tr th:only-of-type {\n",
              "        vertical-align: middle;\n",
              "    }\n",
              "\n",
              "    .dataframe tbody tr th {\n",
              "        vertical-align: top;\n",
              "    }\n",
              "\n",
              "    .dataframe thead th {\n",
              "        text-align: right;\n",
              "    }\n",
              "</style>\n",
              "<table border=\"1\" class=\"dataframe\">\n",
              "  <thead>\n",
              "    <tr style=\"text-align: right;\">\n",
              "      <th></th>\n",
              "      <th>Outcome</th>\n",
              "      <th>Glucose</th>\n",
              "    </tr>\n",
              "  </thead>\n",
              "  <tbody>\n",
              "    <tr>\n",
              "      <th>0</th>\n",
              "      <td>0</td>\n",
              "      <td>107.0</td>\n",
              "    </tr>\n",
              "    <tr>\n",
              "      <th>1</th>\n",
              "      <td>1</td>\n",
              "      <td>140.0</td>\n",
              "    </tr>\n",
              "  </tbody>\n",
              "</table>\n",
              "</div>"
            ],
            "text/plain": [
              "   Outcome  Glucose\n",
              "0        0    107.0\n",
              "1        1    140.0"
            ]
          },
          "execution_count": 15,
          "metadata": {},
          "output_type": "execute_result"
        }
      ],
      "source": [
        "median_target('Glucose')"
      ]
    },
    {
      "cell_type": "code",
      "execution_count": null,
      "id": "f4225345",
      "metadata": {
        "execution": {
          "iopub.execute_input": "2021-12-08T20:39:27.586618Z",
          "iopub.status.busy": "2021-12-08T20:39:27.585974Z",
          "iopub.status.idle": "2021-12-08T20:39:27.596651Z",
          "shell.execute_reply": "2021-12-08T20:39:27.597203Z",
          "shell.execute_reply.started": "2021-12-08T18:20:59.252551Z"
        },
        "papermill": {
          "duration": 0.061145,
          "end_time": "2021-12-08T20:39:27.597380",
          "exception": false,
          "start_time": "2021-12-08T20:39:27.536235",
          "status": "completed"
        },
        "tags": [],
        "id": "f4225345",
        "outputId": "71fc5fc5-4ae4-462f-f052-fcc9b9f6913e"
      },
      "outputs": [
        {
          "data": {
            "text/html": [
              "<div>\n",
              "<style scoped>\n",
              "    .dataframe tbody tr th:only-of-type {\n",
              "        vertical-align: middle;\n",
              "    }\n",
              "\n",
              "    .dataframe tbody tr th {\n",
              "        vertical-align: top;\n",
              "    }\n",
              "\n",
              "    .dataframe thead th {\n",
              "        text-align: right;\n",
              "    }\n",
              "</style>\n",
              "<table border=\"1\" class=\"dataframe\">\n",
              "  <thead>\n",
              "    <tr style=\"text-align: right;\">\n",
              "      <th></th>\n",
              "      <th>Outcome</th>\n",
              "      <th>BMI</th>\n",
              "    </tr>\n",
              "  </thead>\n",
              "  <tbody>\n",
              "    <tr>\n",
              "      <th>0</th>\n",
              "      <td>0</td>\n",
              "      <td>30.1</td>\n",
              "    </tr>\n",
              "    <tr>\n",
              "      <th>1</th>\n",
              "      <td>1</td>\n",
              "      <td>34.3</td>\n",
              "    </tr>\n",
              "  </tbody>\n",
              "</table>\n",
              "</div>"
            ],
            "text/plain": [
              "   Outcome   BMI\n",
              "0        0  30.1\n",
              "1        1  34.3"
            ]
          },
          "execution_count": 16,
          "metadata": {},
          "output_type": "execute_result"
        }
      ],
      "source": [
        "median_target('BMI')"
      ]
    },
    {
      "cell_type": "code",
      "execution_count": null,
      "id": "17feec42",
      "metadata": {
        "execution": {
          "iopub.execute_input": "2021-12-08T20:39:27.695445Z",
          "iopub.status.busy": "2021-12-08T20:39:27.694839Z",
          "iopub.status.idle": "2021-12-08T20:39:27.706370Z",
          "shell.execute_reply": "2021-12-08T20:39:27.706917Z",
          "shell.execute_reply.started": "2021-12-08T18:20:59.660367Z"
        },
        "papermill": {
          "duration": 0.062116,
          "end_time": "2021-12-08T20:39:27.707076",
          "exception": false,
          "start_time": "2021-12-08T20:39:27.644960",
          "status": "completed"
        },
        "tags": [],
        "id": "17feec42",
        "outputId": "051dfadf-b2e0-4044-ad10-bb88e2710536"
      },
      "outputs": [
        {
          "data": {
            "text/html": [
              "<div>\n",
              "<style scoped>\n",
              "    .dataframe tbody tr th:only-of-type {\n",
              "        vertical-align: middle;\n",
              "    }\n",
              "\n",
              "    .dataframe tbody tr th {\n",
              "        vertical-align: top;\n",
              "    }\n",
              "\n",
              "    .dataframe thead th {\n",
              "        text-align: right;\n",
              "    }\n",
              "</style>\n",
              "<table border=\"1\" class=\"dataframe\">\n",
              "  <thead>\n",
              "    <tr style=\"text-align: right;\">\n",
              "      <th></th>\n",
              "      <th>Outcome</th>\n",
              "      <th>Insulin</th>\n",
              "    </tr>\n",
              "  </thead>\n",
              "  <tbody>\n",
              "    <tr>\n",
              "      <th>0</th>\n",
              "      <td>0</td>\n",
              "      <td>102.5</td>\n",
              "    </tr>\n",
              "    <tr>\n",
              "      <th>1</th>\n",
              "      <td>1</td>\n",
              "      <td>169.5</td>\n",
              "    </tr>\n",
              "  </tbody>\n",
              "</table>\n",
              "</div>"
            ],
            "text/plain": [
              "   Outcome  Insulin\n",
              "0        0    102.5\n",
              "1        1    169.5"
            ]
          },
          "execution_count": 17,
          "metadata": {},
          "output_type": "execute_result"
        }
      ],
      "source": [
        "median_target('Insulin')"
      ]
    },
    {
      "cell_type": "code",
      "execution_count": null,
      "id": "f394c81e",
      "metadata": {
        "execution": {
          "iopub.execute_input": "2021-12-08T20:39:27.806872Z",
          "iopub.status.busy": "2021-12-08T20:39:27.806312Z",
          "iopub.status.idle": "2021-12-08T20:39:27.870867Z",
          "shell.execute_reply": "2021-12-08T20:39:27.871339Z",
          "shell.execute_reply.started": "2021-12-08T18:20:59.989449Z"
        },
        "papermill": {
          "duration": 0.116685,
          "end_time": "2021-12-08T20:39:27.871507",
          "exception": false,
          "start_time": "2021-12-08T20:39:27.754822",
          "status": "completed"
        },
        "tags": [],
        "id": "f394c81e"
      },
      "outputs": [],
      "source": [
        "# The values to be given for incomplete observations are given the median value of people who are not sick and the median values of people who are sick.\n",
        "columns = df.columns\n",
        "columns = columns.drop(\"Outcome\")\n",
        "for col in columns:\n",
        "\n",
        "    df.loc[(df['Outcome'] == 0 ) & (df[col].isnull()), col] = median_target(col)[col][0]\n",
        "    df.loc[(df['Outcome'] == 1 ) & (df[col].isnull()), col] = median_target(col)[col][1]"
      ]
    },
    {
      "cell_type": "code",
      "execution_count": null,
      "id": "1839f798",
      "metadata": {
        "execution": {
          "iopub.execute_input": "2021-12-08T20:39:27.973013Z",
          "iopub.status.busy": "2021-12-08T20:39:27.972432Z",
          "iopub.status.idle": "2021-12-08T20:39:27.977507Z",
          "shell.execute_reply": "2021-12-08T20:39:27.978014Z",
          "shell.execute_reply.started": "2021-12-08T18:21:00.477424Z"
        },
        "papermill": {
          "duration": 0.058427,
          "end_time": "2021-12-08T20:39:27.978206",
          "exception": false,
          "start_time": "2021-12-08T20:39:27.919779",
          "status": "completed"
        },
        "tags": [],
        "id": "1839f798",
        "outputId": "fd97e24a-c5d4-45d7-c08e-c66b7e61fbab"
      },
      "outputs": [
        {
          "data": {
            "text/plain": [
              "Pregnancies                 0\n",
              "Glucose                     0\n",
              "BloodPressure               0\n",
              "SkinThickness               0\n",
              "Insulin                     0\n",
              "BMI                         0\n",
              "DiabetesPedigreeFunction    0\n",
              "Age                         0\n",
              "Outcome                     0\n",
              "dtype: int64"
            ]
          },
          "execution_count": 19,
          "metadata": {},
          "output_type": "execute_result"
        }
      ],
      "source": [
        "df.isnull().sum()"
      ]
    },
    {
      "cell_type": "markdown",
      "id": "6851bf48",
      "metadata": {
        "papermill": {
          "duration": 0.047491,
          "end_time": "2021-12-08T20:39:28.074073",
          "exception": false,
          "start_time": "2021-12-08T20:39:28.026582",
          "status": "completed"
        },
        "tags": [],
        "id": "6851bf48"
      },
      "source": [
        "**detect outliers with IQR score rule**\n"
      ]
    },
    {
      "cell_type": "markdown",
      "id": "e4515d39",
      "metadata": {
        "papermill": {
          "duration": 0.047894,
          "end_time": "2021-12-08T20:39:28.170970",
          "exception": false,
          "start_time": "2021-12-08T20:39:28.123076",
          "status": "completed"
        },
        "tags": [],
        "id": "e4515d39"
      },
      "source": [
        "a brief description: <br>\n",
        "IQR score The rule of thumb is that anything not in the range of (Q1 - 1.5 IQR) and (Q3 + 1.5 IQR) is an outlier, and can be removed."
      ]
    },
    {
      "cell_type": "markdown",
      "id": "bbed80b6",
      "metadata": {
        "papermill": {
          "duration": 0.04777,
          "end_time": "2021-12-08T20:39:28.266650",
          "exception": false,
          "start_time": "2021-12-08T20:39:28.218880",
          "status": "completed"
        },
        "tags": [],
        "id": "bbed80b6"
      },
      "source": [
        "Q1 is = 25% percintile value of the data<br>\n",
        "Q3 is = 75% Percintile value of the data<br>\n",
        "IQR = Q3 - Q1"
      ]
    },
    {
      "cell_type": "code",
      "execution_count": null,
      "id": "fe872f77",
      "metadata": {
        "execution": {
          "iopub.execute_input": "2021-12-08T20:39:28.366246Z",
          "iopub.status.busy": "2021-12-08T20:39:28.365336Z",
          "iopub.status.idle": "2021-12-08T20:39:28.374047Z",
          "shell.execute_reply": "2021-12-08T20:39:28.373629Z",
          "shell.execute_reply.started": "2021-12-08T18:21:02.126155Z"
        },
        "papermill": {
          "duration": 0.059503,
          "end_time": "2021-12-08T20:39:28.374209",
          "exception": false,
          "start_time": "2021-12-08T20:39:28.314706",
          "status": "completed"
        },
        "tags": [],
        "id": "fe872f77",
        "outputId": "7ce5ddab-6960-4934-d9a1-93f61569e9ac"
      },
      "outputs": [
        {
          "name": "stdout",
          "output_type": "stream",
          "text": [
            "Q1 = 99.75\n",
            "Q3 = 140.25\n",
            "IQR = 40.5\n",
            "lower = 39.0\n",
            "upper = 201.0\n",
            "\n",
            "\n",
            "Conclusion: Any value not in this range (lower and upper) = (39.0, 201.0) can be removed as an outlier\n"
          ]
        }
      ],
      "source": [
        "# example for more understanding the rule\n",
        "Q1 = df[\"Glucose\"].quantile(0.25)\n",
        "Q3 = df[\"Glucose\"].quantile(0.75)\n",
        "IQR = Q3-Q1\n",
        "lower = Q1 - 1.5*IQR\n",
        "upper = Q3 + 1.5*IQR\n",
        "\n",
        "print(f\"Q1 = {Q1}\\nQ3 = {Q3}\\nIQR = {IQR}\\nlower = {lower}\\nupper = {upper}\")\n",
        "print(f\"\\n\\nConclusion: Any value not in this range (lower and upper) = {lower, upper} can be removed as an outlier\")"
      ]
    },
    {
      "cell_type": "code",
      "execution_count": null,
      "id": "8fa909a8",
      "metadata": {
        "execution": {
          "iopub.execute_input": "2021-12-08T20:39:28.473456Z",
          "iopub.status.busy": "2021-12-08T20:39:28.472835Z",
          "iopub.status.idle": "2021-12-08T20:39:28.507545Z",
          "shell.execute_reply": "2021-12-08T20:39:28.507010Z",
          "shell.execute_reply.started": "2021-12-08T18:21:02.601134Z"
        },
        "papermill": {
          "duration": 0.085301,
          "end_time": "2021-12-08T20:39:28.507690",
          "exception": false,
          "start_time": "2021-12-08T20:39:28.422389",
          "status": "completed"
        },
        "tags": [],
        "id": "8fa909a8",
        "outputId": "2beb3f60-a959-4aa9-f5e4-539936f049b4"
      },
      "outputs": [
        {
          "name": "stdout",
          "output_type": "stream",
          "text": [
            "Pregnancies no\n",
            "Glucose no\n",
            "BloodPressure no\n",
            "SkinThickness no\n",
            "Insulin no\n",
            "BMI no\n",
            "DiabetesPedigreeFunction no\n",
            "Age no\n",
            "Outcome no\n"
          ]
        }
      ],
      "source": [
        "#looping on all the features to see which feature has an outliers\n",
        "#but with this rule we will take Q1 = 5% and Q3 = 95%\n",
        "for feature in df:\n",
        "    Q1 = df[feature].quantile(0.05)\n",
        "    Q3 = df[feature].quantile(0.95)\n",
        "    IQR = Q3 - Q1\n",
        "    lower = Q1 - 1.5*IQR\n",
        "    upper = Q3 + 1.5*IQR\n",
        "\n",
        "    if df[(df[feature] > upper)].any(axis=None) and df[(df[feature] < lower)].any(axis=None):\n",
        "        print(feature,\"yes\")\n",
        "    else:\n",
        "        print(feature, \"no\")"
      ]
    },
    {
      "cell_type": "markdown",
      "id": "8f0618ae",
      "metadata": {
        "papermill": {
          "duration": 0.048386,
          "end_time": "2021-12-08T20:39:28.604630",
          "exception": false,
          "start_time": "2021-12-08T20:39:28.556244",
          "status": "completed"
        },
        "tags": [],
        "id": "8f0618ae"
      },
      "source": [
        "So we have no outliers to remove"
      ]
    },
    {
      "cell_type": "code",
      "execution_count": null,
      "id": "5f41e8d8",
      "metadata": {
        "execution": {
          "iopub.execute_input": "2021-12-08T20:39:28.705204Z",
          "iopub.status.busy": "2021-12-08T20:39:28.704625Z",
          "iopub.status.idle": "2021-12-08T20:39:28.719035Z",
          "shell.execute_reply": "2021-12-08T20:39:28.719564Z",
          "shell.execute_reply.started": "2021-12-08T18:21:03.017361Z"
        },
        "papermill": {
          "duration": 0.066447,
          "end_time": "2021-12-08T20:39:28.719723",
          "exception": false,
          "start_time": "2021-12-08T20:39:28.653276",
          "status": "completed"
        },
        "tags": [],
        "id": "5f41e8d8",
        "outputId": "f5c730cd-9ec8-4f46-ec94-6f6ee68065b1"
      },
      "outputs": [
        {
          "data": {
            "text/html": [
              "<div>\n",
              "<style scoped>\n",
              "    .dataframe tbody tr th:only-of-type {\n",
              "        vertical-align: middle;\n",
              "    }\n",
              "\n",
              "    .dataframe tbody tr th {\n",
              "        vertical-align: top;\n",
              "    }\n",
              "\n",
              "    .dataframe thead th {\n",
              "        text-align: right;\n",
              "    }\n",
              "</style>\n",
              "<table border=\"1\" class=\"dataframe\">\n",
              "  <thead>\n",
              "    <tr style=\"text-align: right;\">\n",
              "      <th></th>\n",
              "      <th>Pregnancies</th>\n",
              "      <th>Glucose</th>\n",
              "      <th>BloodPressure</th>\n",
              "      <th>SkinThickness</th>\n",
              "      <th>Insulin</th>\n",
              "      <th>BMI</th>\n",
              "      <th>DiabetesPedigreeFunction</th>\n",
              "      <th>Age</th>\n",
              "      <th>Outcome</th>\n",
              "    </tr>\n",
              "  </thead>\n",
              "  <tbody>\n",
              "    <tr>\n",
              "      <th>0</th>\n",
              "      <td>6</td>\n",
              "      <td>148.0</td>\n",
              "      <td>72.0</td>\n",
              "      <td>35.0</td>\n",
              "      <td>169.5</td>\n",
              "      <td>33.6</td>\n",
              "      <td>0.627</td>\n",
              "      <td>50</td>\n",
              "      <td>Sick</td>\n",
              "    </tr>\n",
              "    <tr>\n",
              "      <th>1</th>\n",
              "      <td>1</td>\n",
              "      <td>85.0</td>\n",
              "      <td>66.0</td>\n",
              "      <td>29.0</td>\n",
              "      <td>102.5</td>\n",
              "      <td>26.6</td>\n",
              "      <td>0.351</td>\n",
              "      <td>31</td>\n",
              "      <td>Healthy</td>\n",
              "    </tr>\n",
              "    <tr>\n",
              "      <th>2</th>\n",
              "      <td>8</td>\n",
              "      <td>183.0</td>\n",
              "      <td>64.0</td>\n",
              "      <td>32.0</td>\n",
              "      <td>169.5</td>\n",
              "      <td>23.3</td>\n",
              "      <td>0.672</td>\n",
              "      <td>32</td>\n",
              "      <td>Sick</td>\n",
              "    </tr>\n",
              "    <tr>\n",
              "      <th>3</th>\n",
              "      <td>1</td>\n",
              "      <td>89.0</td>\n",
              "      <td>66.0</td>\n",
              "      <td>23.0</td>\n",
              "      <td>94.0</td>\n",
              "      <td>28.1</td>\n",
              "      <td>0.167</td>\n",
              "      <td>21</td>\n",
              "      <td>Healthy</td>\n",
              "    </tr>\n",
              "    <tr>\n",
              "      <th>4</th>\n",
              "      <td>0</td>\n",
              "      <td>137.0</td>\n",
              "      <td>40.0</td>\n",
              "      <td>35.0</td>\n",
              "      <td>168.0</td>\n",
              "      <td>43.1</td>\n",
              "      <td>2.288</td>\n",
              "      <td>33</td>\n",
              "      <td>Sick</td>\n",
              "    </tr>\n",
              "  </tbody>\n",
              "</table>\n",
              "</div>"
            ],
            "text/plain": [
              "   Pregnancies  Glucose  BloodPressure  SkinThickness  Insulin   BMI  \\\n",
              "0            6    148.0           72.0           35.0    169.5  33.6   \n",
              "1            1     85.0           66.0           29.0    102.5  26.6   \n",
              "2            8    183.0           64.0           32.0    169.5  23.3   \n",
              "3            1     89.0           66.0           23.0     94.0  28.1   \n",
              "4            0    137.0           40.0           35.0    168.0  43.1   \n",
              "\n",
              "   DiabetesPedigreeFunction  Age  Outcome  \n",
              "0                     0.627   50     Sick  \n",
              "1                     0.351   31  Healthy  \n",
              "2                     0.672   32     Sick  \n",
              "3                     0.167   21  Healthy  \n",
              "4                     2.288   33     Sick  "
            ]
          },
          "execution_count": 22,
          "metadata": {},
          "output_type": "execute_result"
        }
      ],
      "source": [
        "df2 = df.copy()\n",
        "df2.Outcome = df2.Outcome.apply(lambda x:'Healthy' if x == 0 else 'Sick')\n",
        "df2.head()"
      ]
    },
    {
      "cell_type": "code",
      "execution_count": null,
      "id": "a790c961",
      "metadata": {
        "execution": {
          "iopub.execute_input": "2021-12-08T20:39:28.823500Z",
          "iopub.status.busy": "2021-12-08T20:39:28.822914Z",
          "iopub.status.idle": "2021-12-08T20:39:28.832209Z",
          "shell.execute_reply": "2021-12-08T20:39:28.831749Z",
          "shell.execute_reply.started": "2021-12-08T18:21:03.229191Z"
        },
        "papermill": {
          "duration": 0.062255,
          "end_time": "2021-12-08T20:39:28.832361",
          "exception": false,
          "start_time": "2021-12-08T20:39:28.770106",
          "status": "completed"
        },
        "tags": [],
        "id": "a790c961",
        "outputId": "0bb5282d-8883-4b4b-c3ad-366076031d93"
      },
      "outputs": [
        {
          "data": {
            "text/plain": [
              "Pregnancies                  17\n",
              "Glucose                     135\n",
              "BloodPressure                47\n",
              "SkinThickness                50\n",
              "Insulin                     187\n",
              "BMI                         247\n",
              "DiabetesPedigreeFunction    517\n",
              "Age                          52\n",
              "Outcome                       2\n",
              "dtype: int64"
            ]
          },
          "execution_count": 23,
          "metadata": {},
          "output_type": "execute_result"
        }
      ],
      "source": [
        "df2.nunique()"
      ]
    },
    {
      "cell_type": "code",
      "execution_count": null,
      "id": "bdc94307",
      "metadata": {
        "execution": {
          "iopub.execute_input": "2021-12-08T20:39:28.938019Z",
          "iopub.status.busy": "2021-12-08T20:39:28.933640Z",
          "iopub.status.idle": "2021-12-08T20:39:28.940638Z",
          "shell.execute_reply": "2021-12-08T20:39:28.941058Z",
          "shell.execute_reply.started": "2021-12-08T18:21:03.632932Z"
        },
        "papermill": {
          "duration": 0.059659,
          "end_time": "2021-12-08T20:39:28.941231",
          "exception": false,
          "start_time": "2021-12-08T20:39:28.881572",
          "status": "completed"
        },
        "tags": [],
        "id": "bdc94307",
        "outputId": "8aa69c1d-5c31-4101-f6fb-0ba706c440ba"
      },
      "outputs": [
        {
          "data": {
            "text/plain": [
              "Healthy    500\n",
              "Sick       268\n",
              "Name: Outcome, dtype: int64"
            ]
          },
          "execution_count": 24,
          "metadata": {},
          "output_type": "execute_result"
        }
      ],
      "source": [
        "df2.Outcome.value_counts()"
      ]
    },
    {
      "cell_type": "code",
      "execution_count": null,
      "id": "e93580c3",
      "metadata": {
        "execution": {
          "iopub.execute_input": "2021-12-08T20:39:29.059505Z",
          "iopub.status.busy": "2021-12-08T20:39:29.056547Z",
          "iopub.status.idle": "2021-12-08T20:39:29.284928Z",
          "shell.execute_reply": "2021-12-08T20:39:29.284399Z",
          "shell.execute_reply.started": "2021-12-08T18:21:04.102642Z"
        },
        "papermill": {
          "duration": 0.294299,
          "end_time": "2021-12-08T20:39:29.285062",
          "exception": false,
          "start_time": "2021-12-08T20:39:28.990763",
          "status": "completed"
        },
        "tags": [],
        "id": "e93580c3",
        "outputId": "8ea86684-eb29-4c00-ee44-4ad41464e1e4"
      },
      "outputs": [
        {
          "data": {
            "image/png": "[encoded data removed]",
            "text/plain": [
              "<Figure size 1296x864 with 2 Axes>"
            ]
          },
          "metadata": {
            "needs_background": "light"
          },
          "output_type": "display_data"
        }
      ],
      "source": [
        "plt.figure(figsize=(18,12))\n",
        "\n",
        "plt.subplot(2,2,1)\n",
        "sns.countplot(x='Outcome', data=df)\n",
        "\n",
        "plt.subplot(2,2,2)\n",
        "no_dib = df[df.Outcome == 0].count()[0]\n",
        "dib = df[df.Outcome == 1].count()[0]\n",
        "plt.title('Distrbution of the Diabetes in the data', {'fontsize' : 20})\n",
        "plt.pie([no_dib, dib], labels=['No Diabetes', 'Diabetes'], autopct=\"%.2f%%\", explode=[0.01,0.01], colors=['cyan', 'orange'])\n",
        "plt.show()"
      ]
    },
    {
      "cell_type": "markdown",
      "id": "e67aaaa7",
      "metadata": {
        "papermill": {
          "duration": 0.050955,
          "end_time": "2021-12-08T20:39:29.386935",
          "exception": false,
          "start_time": "2021-12-08T20:39:29.335980",
          "status": "completed"
        },
        "tags": [],
        "id": "e67aaaa7"
      },
      "source": [
        "We have 65% healthy pepole and 35% Sick pepole in the data"
      ]
    },
    {
      "cell_type": "code",
      "execution_count": null,
      "id": "c1f24195",
      "metadata": {
        "execution": {
          "iopub.execute_input": "2021-12-08T20:39:29.491980Z",
          "iopub.status.busy": "2021-12-08T20:39:29.491236Z",
          "iopub.status.idle": "2021-12-08T20:39:29.496860Z",
          "shell.execute_reply": "2021-12-08T20:39:29.497443Z",
          "shell.execute_reply.started": "2021-12-08T18:21:05.096721Z"
        },
        "papermill": {
          "duration": 0.060131,
          "end_time": "2021-12-08T20:39:29.497607",
          "exception": false,
          "start_time": "2021-12-08T20:39:29.437476",
          "status": "completed"
        },
        "tags": [],
        "id": "c1f24195",
        "outputId": "63d6290d-5bfb-44a9-a0c0-810fadf094ab"
      },
      "outputs": [
        {
          "data": {
            "text/plain": [
              "1     135\n",
              "0     111\n",
              "2     103\n",
              "3      75\n",
              "4      68\n",
              "5      57\n",
              "6      50\n",
              "7      45\n",
              "8      38\n",
              "9      28\n",
              "10     24\n",
              "11     11\n",
              "13     10\n",
              "12      9\n",
              "14      2\n",
              "15      1\n",
              "17      1\n",
              "Name: Pregnancies, dtype: int64"
            ]
          },
          "execution_count": 26,
          "metadata": {},
          "output_type": "execute_result"
        }
      ],
      "source": [
        "df2.Pregnancies.value_counts()"
      ]
    },
    {
      "cell_type": "code",
      "execution_count": null,
      "id": "8be43140",
      "metadata": {
        "execution": {
          "iopub.execute_input": "2021-12-08T20:39:29.601785Z",
          "iopub.status.busy": "2021-12-08T20:39:29.601211Z",
          "iopub.status.idle": "2021-12-08T20:39:30.025980Z",
          "shell.execute_reply": "2021-12-08T20:39:30.025420Z",
          "shell.execute_reply.started": "2021-12-08T18:21:05.603093Z"
        },
        "papermill": {
          "duration": 0.477922,
          "end_time": "2021-12-08T20:39:30.026112",
          "exception": false,
          "start_time": "2021-12-08T20:39:29.548190",
          "status": "completed"
        },
        "tags": [],
        "id": "8be43140",
        "outputId": "75f8aae5-93aa-4b0b-dbf1-5f7c9470acc0"
      },
      "outputs": [
        {
          "data": {
            "image/png": "[encoded data removed]",
            "text/plain": [
              "<Figure size 1584x864 with 2 Axes>"
            ]
          },
          "metadata": {
            "needs_background": "light"
          },
          "output_type": "display_data"
        }
      ],
      "source": [
        "plt.figure(figsize=(22,12))\n",
        "order = df2.groupby('Pregnancies').count().sort_values(by='Outcome', ascending=False).index\n",
        "plt.subplot(2,2,1)\n",
        "sns.countplot(x='Pregnancies', data=df2, order=order);\n",
        "\n",
        "plt.subplot(2,2,3)\n",
        "df[\"Age\"].hist(edgecolor = \"black\");"
      ]
    },
    {
      "cell_type": "code",
      "execution_count": null,
      "id": "9ca84859",
      "metadata": {
        "execution": {
          "iopub.execute_input": "2021-12-08T20:39:30.139380Z",
          "iopub.status.busy": "2021-12-08T20:39:30.138726Z",
          "iopub.status.idle": "2021-12-08T20:39:30.784368Z",
          "shell.execute_reply": "2021-12-08T20:39:30.784879Z",
          "shell.execute_reply.started": "2021-12-08T18:31:47.327088Z"
        },
        "papermill": {
          "duration": 0.707119,
          "end_time": "2021-12-08T20:39:30.785046",
          "exception": false,
          "start_time": "2021-12-08T20:39:30.077927",
          "status": "completed"
        },
        "tags": [],
        "id": "9ca84859",
        "outputId": "8a0b3fe8-b165-4f39-9cf5-b56d2271b2f8"
      },
      "outputs": [
        {
          "data": {
            "image/png": "[encoded data removed]",
            "text/plain": [
              "<Figure size 1152x864 with 4 Axes>"
            ]
          },
          "metadata": {
            "needs_background": "light"
          },
          "output_type": "display_data"
        }
      ],
      "source": [
        "plt.figure(figsize=(16,12))\n",
        "\n",
        "plt.subplot(2,2,1)\n",
        "sns.violinplot(x='Outcome', y='BMI', data=df2, palette='ocean')\n",
        "\n",
        "plt.subplot(2,2,2)\n",
        "sns.violinplot(x='Outcome', y='Insulin', data=df2, palette='summer')\n",
        "\n",
        "plt.subplot(2,2,3)\n",
        "sns.violinplot(x='Outcome', y='BloodPressure', data=df2, palette='autumn')\n",
        "\n",
        "plt.subplot(2,2,4)\n",
        "sns.violinplot(x='Outcome', y='Glucose', data=df2, palette='spring');"
      ]
    },
    {
      "cell_type": "markdown",
      "id": "41e199bf",
      "metadata": {
        "papermill": {
          "duration": 0.05414,
          "end_time": "2021-12-08T20:39:30.895593",
          "exception": false,
          "start_time": "2021-12-08T20:39:30.841453",
          "status": "completed"
        },
        "tags": [],
        "id": "41e199bf"
      },
      "source": [
        "It seems that when these features are increasingly increasingly an opportunity for diabetes"
      ]
    },
    {
      "cell_type": "code",
      "execution_count": null,
      "id": "adb376a8",
      "metadata": {
        "execution": {
          "iopub.execute_input": "2021-12-08T20:39:31.008864Z",
          "iopub.status.busy": "2021-12-08T20:39:31.008247Z",
          "iopub.status.idle": "2021-12-08T20:39:31.383809Z",
          "shell.execute_reply": "2021-12-08T20:39:31.384262Z",
          "shell.execute_reply.started": "2021-12-08T18:21:07.151811Z"
        },
        "papermill": {
          "duration": 0.434491,
          "end_time": "2021-12-08T20:39:31.384444",
          "exception": false,
          "start_time": "2021-12-08T20:39:30.949953",
          "status": "completed"
        },
        "tags": [],
        "id": "adb376a8",
        "outputId": "527b56ca-f68c-4f0a-93a2-5f6b531eaa32"
      },
      "outputs": [
        {
          "data": {
            "text/plain": [
              "<AxesSubplot:xlabel='Outcome', ylabel='Pregnancies'>"
            ]
          },
          "execution_count": 29,
          "metadata": {},
          "output_type": "execute_result"
        },
        {
          "data": {
            "image/png": "[encoded data removed]",
            "text/plain": [
              "<Figure size 1152x864 with 2 Axes>"
            ]
          },
          "metadata": {
            "needs_background": "light"
          },
          "output_type": "display_data"
        }
      ],
      "source": [
        "plt.figure(figsize=(16,12))\n",
        "\n",
        "plt.subplot(2,2,1)\n",
        "sns.barplot(x='Outcome', y='Age', data=df2)\n",
        "\n",
        "plt.subplot(2,2,2)\n",
        "sns.barplot(x='Outcome', y='Pregnancies', data=df2)"
      ]
    },
    {
      "cell_type": "code",
      "execution_count": null,
      "id": "793ade22",
      "metadata": {
        "execution": {
          "iopub.execute_input": "2021-12-08T20:39:31.502791Z",
          "iopub.status.busy": "2021-12-08T20:39:31.502093Z",
          "iopub.status.idle": "2021-12-08T20:39:31.523080Z",
          "shell.execute_reply": "2021-12-08T20:39:31.523641Z",
          "shell.execute_reply.started": "2021-12-08T18:21:08.193163Z"
        },
        "papermill": {
          "duration": 0.08426,
          "end_time": "2021-12-08T20:39:31.523800",
          "exception": false,
          "start_time": "2021-12-08T20:39:31.439540",
          "status": "completed"
        },
        "tags": [],
        "id": "793ade22",
        "outputId": "50a2a0b9-41c3-4699-95e4-648ee43a2a36"
      },
      "outputs": [
        {
          "data": {
            "text/html": [
              "<div>\n",
              "<style scoped>\n",
              "    .dataframe tbody tr th:only-of-type {\n",
              "        vertical-align: middle;\n",
              "    }\n",
              "\n",
              "    .dataframe tbody tr th {\n",
              "        vertical-align: top;\n",
              "    }\n",
              "\n",
              "    .dataframe thead th {\n",
              "        text-align: right;\n",
              "    }\n",
              "</style>\n",
              "<table border=\"1\" class=\"dataframe\">\n",
              "  <thead>\n",
              "    <tr style=\"text-align: right;\">\n",
              "      <th></th>\n",
              "      <th>Pregnancies</th>\n",
              "      <th>Glucose</th>\n",
              "      <th>BloodPressure</th>\n",
              "      <th>SkinThickness</th>\n",
              "      <th>Insulin</th>\n",
              "      <th>BMI</th>\n",
              "      <th>DiabetesPedigreeFunction</th>\n",
              "      <th>Age</th>\n",
              "      <th>Outcome</th>\n",
              "      <th>NewBMI</th>\n",
              "    </tr>\n",
              "  </thead>\n",
              "  <tbody>\n",
              "    <tr>\n",
              "      <th>0</th>\n",
              "      <td>6</td>\n",
              "      <td>148.0</td>\n",
              "      <td>72.0</td>\n",
              "      <td>35.0</td>\n",
              "      <td>169.5</td>\n",
              "      <td>33.6</td>\n",
              "      <td>0.627</td>\n",
              "      <td>50</td>\n",
              "      <td>Sick</td>\n",
              "      <td>Obesity 1</td>\n",
              "    </tr>\n",
              "    <tr>\n",
              "      <th>1</th>\n",
              "      <td>1</td>\n",
              "      <td>85.0</td>\n",
              "      <td>66.0</td>\n",
              "      <td>29.0</td>\n",
              "      <td>102.5</td>\n",
              "      <td>26.6</td>\n",
              "      <td>0.351</td>\n",
              "      <td>31</td>\n",
              "      <td>Healthy</td>\n",
              "      <td>Overweight</td>\n",
              "    </tr>\n",
              "    <tr>\n",
              "      <th>2</th>\n",
              "      <td>8</td>\n",
              "      <td>183.0</td>\n",
              "      <td>64.0</td>\n",
              "      <td>32.0</td>\n",
              "      <td>169.5</td>\n",
              "      <td>23.3</td>\n",
              "      <td>0.672</td>\n",
              "      <td>32</td>\n",
              "      <td>Sick</td>\n",
              "      <td>Normal</td>\n",
              "    </tr>\n",
              "    <tr>\n",
              "      <th>3</th>\n",
              "      <td>1</td>\n",
              "      <td>89.0</td>\n",
              "      <td>66.0</td>\n",
              "      <td>23.0</td>\n",
              "      <td>94.0</td>\n",
              "      <td>28.1</td>\n",
              "      <td>0.167</td>\n",
              "      <td>21</td>\n",
              "      <td>Healthy</td>\n",
              "      <td>Overweight</td>\n",
              "    </tr>\n",
              "    <tr>\n",
              "      <th>4</th>\n",
              "      <td>0</td>\n",
              "      <td>137.0</td>\n",
              "      <td>40.0</td>\n",
              "      <td>35.0</td>\n",
              "      <td>168.0</td>\n",
              "      <td>43.1</td>\n",
              "      <td>2.288</td>\n",
              "      <td>33</td>\n",
              "      <td>Sick</td>\n",
              "      <td>Obesity 3</td>\n",
              "    </tr>\n",
              "  </tbody>\n",
              "</table>\n",
              "</div>"
            ],
            "text/plain": [
              "   Pregnancies  Glucose  BloodPressure  SkinThickness  Insulin   BMI  \\\n",
              "0            6    148.0           72.0           35.0    169.5  33.6   \n",
              "1            1     85.0           66.0           29.0    102.5  26.6   \n",
              "2            8    183.0           64.0           32.0    169.5  23.3   \n",
              "3            1     89.0           66.0           23.0     94.0  28.1   \n",
              "4            0    137.0           40.0           35.0    168.0  43.1   \n",
              "\n",
              "   DiabetesPedigreeFunction  Age  Outcome      NewBMI  \n",
              "0                     0.627   50     Sick   Obesity 1  \n",
              "1                     0.351   31  Healthy  Overweight  \n",
              "2                     0.672   32     Sick      Normal  \n",
              "3                     0.167   21  Healthy  Overweight  \n",
              "4                     2.288   33     Sick   Obesity 3  "
            ]
          },
          "execution_count": 30,
          "metadata": {},
          "output_type": "execute_result"
        }
      ],
      "source": [
        "# According to BMI, some ranges were determined and categorical variables were assigned.\n",
        "\n",
        "NewBMI = pd.Series([\"Underweight\", \"Normal\", \"Overweight\", \"Obesity 1\", \"Obesity 2\", \"Obesity 3\"], dtype = \"category\")\n",
        "\n",
        "df2[\"NewBMI\"] = NewBMI\n",
        "\n",
        "df2.loc[df[\"BMI\"] < 18.5, \"NewBMI\"] = NewBMI[0]\n",
        "\n",
        "df2.loc[(df[\"BMI\"] > 18.5) & (df[\"BMI\"] <= 24.9), \"NewBMI\"] = NewBMI[1]\n",
        "df2.loc[(df[\"BMI\"] > 24.9) & (df[\"BMI\"] <= 29.9), \"NewBMI\"] = NewBMI[2]\n",
        "df2.loc[(df[\"BMI\"] > 29.9) & (df[\"BMI\"] <= 34.9), \"NewBMI\"] = NewBMI[3]\n",
        "df2.loc[(df[\"BMI\"] > 34.9) & (df[\"BMI\"] <= 39.9), \"NewBMI\"] = NewBMI[4]\n",
        "df2.loc[df[\"BMI\"] > 39.9 ,\"NewBMI\"] = NewBMI[5]\n",
        "\n",
        "df2.head()"
      ]
    },
    {
      "cell_type": "code",
      "execution_count": null,
      "id": "7236f580",
      "metadata": {
        "execution": {
          "iopub.execute_input": "2021-12-08T20:39:31.638080Z",
          "iopub.status.busy": "2021-12-08T20:39:31.637537Z",
          "iopub.status.idle": "2021-12-08T20:39:31.643537Z",
          "shell.execute_reply": "2021-12-08T20:39:31.643914Z",
          "shell.execute_reply.started": "2021-12-08T18:21:08.234662Z"
        },
        "papermill": {
          "duration": 0.064422,
          "end_time": "2021-12-08T20:39:31.644071",
          "exception": false,
          "start_time": "2021-12-08T20:39:31.579649",
          "status": "completed"
        },
        "tags": [],
        "id": "7236f580",
        "outputId": "5c2b4735-06ca-4c3a-a7af-ee2cafa2c498"
      },
      "outputs": [
        {
          "data": {
            "text/plain": [
              "Obesity 1      235\n",
              "Overweight     179\n",
              "Obesity 2      150\n",
              "Normal         102\n",
              "Obesity 3       98\n",
              "Underweight      4\n",
              "Name: NewBMI, dtype: int64"
            ]
          },
          "execution_count": 31,
          "metadata": {},
          "output_type": "execute_result"
        }
      ],
      "source": [
        "df2.NewBMI.value_counts()"
      ]
    },
    {
      "cell_type": "code",
      "execution_count": null,
      "id": "6d2e720d",
      "metadata": {
        "execution": {
          "iopub.execute_input": "2021-12-08T20:39:31.779965Z",
          "iopub.status.busy": "2021-12-08T20:39:31.768587Z",
          "iopub.status.idle": "2021-12-08T20:39:32.302706Z",
          "shell.execute_reply": "2021-12-08T20:39:32.303199Z",
          "shell.execute_reply.started": "2021-12-08T18:21:08.404798Z"
        },
        "papermill": {
          "duration": 0.600041,
          "end_time": "2021-12-08T20:39:32.303381",
          "exception": false,
          "start_time": "2021-12-08T20:39:31.703340",
          "status": "completed"
        },
        "tags": [],
        "id": "6d2e720d",
        "outputId": "af1d202b-7f9e-4a04-8be6-35447ffdef7d"
      },
      "outputs": [
        {
          "data": {
            "image/png": "[encoded data removed]",
            "text/plain": [
              "<Figure size 1800x1800 with 2 Axes>"
            ]
          },
          "metadata": {
            "needs_background": "light"
          },
          "output_type": "display_data"
        }
      ],
      "source": [
        "plt.figure(figsize=(25,25))\n",
        "\n",
        "plt.subplot(2,2,1)\n",
        "order = df2.groupby('NewBMI').count().sort_values(by='Outcome', ascending=False).index\n",
        "sns.countplot(x='NewBMI', data=df2, order=order)\n",
        "\n",
        "plt.subplot(2,2,2)\n",
        "Under_wei = df2.NewBMI[df2.NewBMI == 'Underweight'].count()\n",
        "normal = df2.NewBMI[df2.NewBMI == 'Normal'].count()\n",
        "over_weight = df2.NewBMI[df2.NewBMI == 'Overweight'].count()\n",
        "obesity_1 = df2.NewBMI[df2.NewBMI == 'Obesity 1'].count()\n",
        "obesity_2 = df2.NewBMI[df2.NewBMI == 'Obesity 2'].count()\n",
        "obesity_3 = df2.NewBMI[df2.NewBMI == 'Obesity 3'].count()\n",
        "weights = [Under_wei, normal, over_weight, obesity_1, obesity_2, obesity_3]\n",
        "labels = ['Under Weight', 'Normal', 'Over Weight', 'Obesity 1', 'Obesity 2', 'Obesity 3']\n",
        "plt.pie(weights, labels=labels, autopct=\"%.2f%%\", shadow=True);\n",
        "my_circle = plt.Circle( (0,0), 0.4, color='white')\n",
        "plt.gcf().gca().add_artist(my_circle)\n",
        "plt.legend()\n",
        "plt.show()"
      ]
    },
    {
      "cell_type": "markdown",
      "id": "d5bc23a6",
      "metadata": {
        "papermill": {
          "duration": 0.058163,
          "end_time": "2021-12-08T20:39:32.420901",
          "exception": false,
          "start_time": "2021-12-08T20:39:32.362738",
          "status": "completed"
        },
        "tags": [],
        "id": "d5bc23a6"
      },
      "source": [
        "Obesity 1 has the majority in the data which the BMI between 29.9 and 34.9"
      ]
    },
    {
      "cell_type": "code",
      "execution_count": null,
      "id": "8ee2582f",
      "metadata": {
        "execution": {
          "iopub.execute_input": "2021-12-08T20:39:32.551174Z",
          "iopub.status.busy": "2021-12-08T20:39:32.545104Z",
          "iopub.status.idle": "2021-12-08T20:39:32.829345Z",
          "shell.execute_reply": "2021-12-08T20:39:32.829814Z",
          "shell.execute_reply.started": "2021-12-08T18:32:14.301441Z"
        },
        "papermill": {
          "duration": 0.351164,
          "end_time": "2021-12-08T20:39:32.830064",
          "exception": false,
          "start_time": "2021-12-08T20:39:32.478900",
          "status": "completed"
        },
        "tags": [],
        "id": "8ee2582f",
        "outputId": "15e66b38-babb-4aed-fd22-ffbdddd0356a"
      },
      "outputs": [
        {
          "data": {
            "text/plain": [
              "<AxesSubplot:xlabel='NewBMI', ylabel='count'>"
            ]
          },
          "execution_count": 33,
          "metadata": {},
          "output_type": "execute_result"
        },
        {
          "data": {
            "image/png": "[encoded data removed]",
            "text/plain": [
              "<Figure size 1440x720 with 1 Axes>"
            ]
          },
          "metadata": {
            "needs_background": "light"
          },
          "output_type": "display_data"
        }
      ],
      "source": [
        "plt.figure(figsize=(20,10))\n",
        "sns.countplot(x='NewBMI', hue='Outcome', data=df2)"
      ]
    },
    {
      "cell_type": "markdown",
      "id": "2160e1d0",
      "metadata": {
        "papermill": {
          "duration": 0.060765,
          "end_time": "2021-12-08T20:39:32.952471",
          "exception": false,
          "start_time": "2021-12-08T20:39:32.891706",
          "status": "completed"
        },
        "tags": [],
        "id": "2160e1d0"
      },
      "source": [
        "all the Underweights is healthy (BMI less than 18.5)<br>\n",
        "Normal Weights are healthy except limited number which are sick<br>\n",
        "it seems that when the weight increase so you are more likely to have diabetes"
      ]
    },
    {
      "cell_type": "code",
      "execution_count": null,
      "id": "d83facdc",
      "metadata": {
        "execution": {
          "iopub.execute_input": "2021-12-08T20:39:33.076775Z",
          "iopub.status.busy": "2021-12-08T20:39:33.076157Z",
          "iopub.status.idle": "2021-12-08T20:39:33.079569Z",
          "shell.execute_reply": "2021-12-08T20:39:33.079024Z",
          "shell.execute_reply.started": "2021-12-08T18:34:35.111918Z"
        },
        "papermill": {
          "duration": 0.068019,
          "end_time": "2021-12-08T20:39:33.079730",
          "exception": false,
          "start_time": "2021-12-08T20:39:33.011711",
          "status": "completed"
        },
        "tags": [],
        "id": "d83facdc"
      },
      "outputs": [],
      "source": [
        "def set_insulin(row):\n",
        "    if row[\"Insulin\"] >= 16 and row[\"Insulin\"] <= 166:\n",
        "        return \"Normal\"\n",
        "    else:\n",
        "        return \"Abnormal\""
      ]
    },
    {
      "cell_type": "code",
      "execution_count": null,
      "id": "35008667",
      "metadata": {
        "execution": {
          "iopub.execute_input": "2021-12-08T20:39:33.216675Z",
          "iopub.status.busy": "2021-12-08T20:39:33.215995Z",
          "iopub.status.idle": "2021-12-08T20:39:33.218216Z",
          "shell.execute_reply": "2021-12-08T20:39:33.217653Z",
          "shell.execute_reply.started": "2021-12-08T18:36:56.127186Z"
        },
        "papermill": {
          "duration": 0.078194,
          "end_time": "2021-12-08T20:39:33.218361",
          "exception": false,
          "start_time": "2021-12-08T20:39:33.140167",
          "status": "completed"
        },
        "tags": [],
        "id": "35008667"
      },
      "outputs": [],
      "source": [
        "df2[\"NewInsulinScore\"] = df2.apply(set_insulin, axis=1)"
      ]
    },
    {
      "cell_type": "code",
      "execution_count": null,
      "id": "c70c8eca",
      "metadata": {
        "execution": {
          "iopub.execute_input": "2021-12-08T20:39:33.353384Z",
          "iopub.status.busy": "2021-12-08T20:39:33.352783Z",
          "iopub.status.idle": "2021-12-08T20:39:33.356094Z",
          "shell.execute_reply": "2021-12-08T20:39:33.356535Z",
          "shell.execute_reply.started": "2021-12-08T18:37:01.599762Z"
        },
        "papermill": {
          "duration": 0.077785,
          "end_time": "2021-12-08T20:39:33.356699",
          "exception": false,
          "start_time": "2021-12-08T20:39:33.278914",
          "status": "completed"
        },
        "tags": [],
        "id": "c70c8eca",
        "outputId": "df508b32-c5ec-4f12-ebba-e899caa143be"
      },
      "outputs": [
        {
          "data": {
            "text/html": [
              "<div>\n",
              "<style scoped>\n",
              "    .dataframe tbody tr th:only-of-type {\n",
              "        vertical-align: middle;\n",
              "    }\n",
              "\n",
              "    .dataframe tbody tr th {\n",
              "        vertical-align: top;\n",
              "    }\n",
              "\n",
              "    .dataframe thead th {\n",
              "        text-align: right;\n",
              "    }\n",
              "</style>\n",
              "<table border=\"1\" class=\"dataframe\">\n",
              "  <thead>\n",
              "    <tr style=\"text-align: right;\">\n",
              "      <th></th>\n",
              "      <th>Pregnancies</th>\n",
              "      <th>Glucose</th>\n",
              "      <th>BloodPressure</th>\n",
              "      <th>SkinThickness</th>\n",
              "      <th>Insulin</th>\n",
              "      <th>BMI</th>\n",
              "      <th>DiabetesPedigreeFunction</th>\n",
              "      <th>Age</th>\n",
              "      <th>Outcome</th>\n",
              "      <th>NewBMI</th>\n",
              "      <th>NewInsulinScore</th>\n",
              "    </tr>\n",
              "  </thead>\n",
              "  <tbody>\n",
              "    <tr>\n",
              "      <th>0</th>\n",
              "      <td>6</td>\n",
              "      <td>148.0</td>\n",
              "      <td>72.0</td>\n",
              "      <td>35.0</td>\n",
              "      <td>169.5</td>\n",
              "      <td>33.6</td>\n",
              "      <td>0.627</td>\n",
              "      <td>50</td>\n",
              "      <td>Sick</td>\n",
              "      <td>Obesity 1</td>\n",
              "      <td>Abnormal</td>\n",
              "    </tr>\n",
              "    <tr>\n",
              "      <th>1</th>\n",
              "      <td>1</td>\n",
              "      <td>85.0</td>\n",
              "      <td>66.0</td>\n",
              "      <td>29.0</td>\n",
              "      <td>102.5</td>\n",
              "      <td>26.6</td>\n",
              "      <td>0.351</td>\n",
              "      <td>31</td>\n",
              "      <td>Healthy</td>\n",
              "      <td>Overweight</td>\n",
              "      <td>Normal</td>\n",
              "    </tr>\n",
              "    <tr>\n",
              "      <th>2</th>\n",
              "      <td>8</td>\n",
              "      <td>183.0</td>\n",
              "      <td>64.0</td>\n",
              "      <td>32.0</td>\n",
              "      <td>169.5</td>\n",
              "      <td>23.3</td>\n",
              "      <td>0.672</td>\n",
              "      <td>32</td>\n",
              "      <td>Sick</td>\n",
              "      <td>Normal</td>\n",
              "      <td>Abnormal</td>\n",
              "    </tr>\n",
              "    <tr>\n",
              "      <th>3</th>\n",
              "      <td>1</td>\n",
              "      <td>89.0</td>\n",
              "      <td>66.0</td>\n",
              "      <td>23.0</td>\n",
              "      <td>94.0</td>\n",
              "      <td>28.1</td>\n",
              "      <td>0.167</td>\n",
              "      <td>21</td>\n",
              "      <td>Healthy</td>\n",
              "      <td>Overweight</td>\n",
              "      <td>Normal</td>\n",
              "    </tr>\n",
              "    <tr>\n",
              "      <th>4</th>\n",
              "      <td>0</td>\n",
              "      <td>137.0</td>\n",
              "      <td>40.0</td>\n",
              "      <td>35.0</td>\n",
              "      <td>168.0</td>\n",
              "      <td>43.1</td>\n",
              "      <td>2.288</td>\n",
              "      <td>33</td>\n",
              "      <td>Sick</td>\n",
              "      <td>Obesity 3</td>\n",
              "      <td>Abnormal</td>\n",
              "    </tr>\n",
              "  </tbody>\n",
              "</table>\n",
              "</div>"
            ],
            "text/plain": [
              "   Pregnancies  Glucose  BloodPressure  SkinThickness  Insulin   BMI  \\\n",
              "0            6    148.0           72.0           35.0    169.5  33.6   \n",
              "1            1     85.0           66.0           29.0    102.5  26.6   \n",
              "2            8    183.0           64.0           32.0    169.5  23.3   \n",
              "3            1     89.0           66.0           23.0     94.0  28.1   \n",
              "4            0    137.0           40.0           35.0    168.0  43.1   \n",
              "\n",
              "   DiabetesPedigreeFunction  Age  Outcome      NewBMI NewInsulinScore  \n",
              "0                     0.627   50     Sick   Obesity 1        Abnormal  \n",
              "1                     0.351   31  Healthy  Overweight          Normal  \n",
              "2                     0.672   32     Sick      Normal        Abnormal  \n",
              "3                     0.167   21  Healthy  Overweight          Normal  \n",
              "4                     2.288   33     Sick   Obesity 3        Abnormal  "
            ]
          },
          "execution_count": 36,
          "metadata": {},
          "output_type": "execute_result"
        }
      ],
      "source": [
        "df2.head()"
      ]
    },
    {
      "cell_type": "code",
      "execution_count": null,
      "id": "2fb93062",
      "metadata": {
        "execution": {
          "iopub.execute_input": "2021-12-08T20:39:33.483090Z",
          "iopub.status.busy": "2021-12-08T20:39:33.482493Z",
          "iopub.status.idle": "2021-12-08T20:39:33.486421Z",
          "shell.execute_reply": "2021-12-08T20:39:33.485915Z",
          "shell.execute_reply.started": "2021-12-08T18:37:15.386073Z"
        },
        "papermill": {
          "duration": 0.0699,
          "end_time": "2021-12-08T20:39:33.486553",
          "exception": false,
          "start_time": "2021-12-08T20:39:33.416653",
          "status": "completed"
        },
        "tags": [],
        "id": "2fb93062",
        "outputId": "564a4d01-e9b5-4164-fa30-4d2509303066"
      },
      "outputs": [
        {
          "data": {
            "text/plain": [
              "Normal      496\n",
              "Abnormal    272\n",
              "Name: NewInsulinScore, dtype: int64"
            ]
          },
          "execution_count": 37,
          "metadata": {},
          "output_type": "execute_result"
        }
      ],
      "source": [
        "df2.NewInsulinScore.value_counts()"
      ]
    },
    {
      "cell_type": "code",
      "execution_count": null,
      "id": "df3b24b5",
      "metadata": {
        "execution": {
          "iopub.execute_input": "2021-12-08T20:39:33.632344Z",
          "iopub.status.busy": "2021-12-08T20:39:33.608662Z",
          "iopub.status.idle": "2021-12-08T20:39:33.970007Z",
          "shell.execute_reply": "2021-12-08T20:39:33.970785Z",
          "shell.execute_reply.started": "2021-12-08T18:38:42.628125Z"
        },
        "papermill": {
          "duration": 0.424531,
          "end_time": "2021-12-08T20:39:33.971028",
          "exception": false,
          "start_time": "2021-12-08T20:39:33.546497",
          "status": "completed"
        },
        "tags": [],
        "id": "df3b24b5",
        "outputId": "079d67d2-2ad0-4607-8b60-0d61ee8f4dd1"
      },
      "outputs": [
        {
          "data": {
            "image/png": "[encoded data removed]",
            "text/plain": [
              "<Figure size 1080x1080 with 2 Axes>"
            ]
          },
          "metadata": {
            "needs_background": "light"
          },
          "output_type": "display_data"
        }
      ],
      "source": [
        "plt.figure(figsize=(15,15))\n",
        "\n",
        "plt.subplot(2,2,1)\n",
        "sns.countplot(x='NewInsulinScore', data=df2);\n",
        "\n",
        "plt.subplot(2,2,2)\n",
        "normal = df2.NewInsulinScore[df2.NewInsulinScore == 'Normal'].count()\n",
        "abnormal = df2.NewInsulinScore[df2.NewInsulinScore == 'Abnormal'].count()\n",
        "plt.pie([normal, abnormal], labels=['Normal', 'Abnormal'], autopct='%.2f%%', explode = [0.01,0.01], shadow=True)\n",
        "plt.legend()\n",
        "plt.show()"
      ]
    },
    {
      "cell_type": "code",
      "execution_count": null,
      "id": "1507d2cf",
      "metadata": {
        "execution": {
          "iopub.execute_input": "2021-12-08T20:39:34.119264Z",
          "iopub.status.busy": "2021-12-08T20:39:34.118236Z",
          "iopub.status.idle": "2021-12-08T20:39:34.471811Z",
          "shell.execute_reply": "2021-12-08T20:39:34.472292Z",
          "shell.execute_reply.started": "2021-12-08T18:38:58.401608Z"
        },
        "papermill": {
          "duration": 0.426029,
          "end_time": "2021-12-08T20:39:34.472476",
          "exception": false,
          "start_time": "2021-12-08T20:39:34.046447",
          "status": "completed"
        },
        "tags": [],
        "id": "1507d2cf",
        "outputId": "3dbb66cc-b60e-4e35-f48a-14876793144b"
      },
      "outputs": [
        {
          "data": {
            "image/png": "[encoded data removed]",
            "text/plain": [
              "<Figure size 576x432 with 1 Axes>"
            ]
          },
          "metadata": {
            "needs_background": "light"
          },
          "output_type": "display_data"
        }
      ],
      "source": [
        "plt.figure(figsize=(8,6))\n",
        "sns.countplot(x='NewInsulinScore', hue='Outcome', data=df2);"
      ]
    },
    {
      "cell_type": "code",
      "execution_count": null,
      "id": "bbb6ea28",
      "metadata": {
        "execution": {
          "iopub.execute_input": "2021-12-08T20:39:34.613634Z",
          "iopub.status.busy": "2021-12-08T20:39:34.612999Z",
          "iopub.status.idle": "2021-12-08T20:39:34.621165Z",
          "shell.execute_reply": "2021-12-08T20:39:34.621670Z",
          "shell.execute_reply.started": "2021-12-08T18:39:11.394791Z"
        },
        "papermill": {
          "duration": 0.080027,
          "end_time": "2021-12-08T20:39:34.621841",
          "exception": false,
          "start_time": "2021-12-08T20:39:34.541814",
          "status": "completed"
        },
        "tags": [],
        "id": "bbb6ea28"
      },
      "outputs": [],
      "source": [
        "# Some intervals were determined according to the glucose variable and these were assigned categorical variables.\n",
        "NewGlucose = pd.Series([\"Low\", \"Normal\", \"Overweight\", \"Secret\", \"High\"], dtype = \"category\")\n",
        "df2[\"NewGlucose\"] = NewGlucose\n",
        "df2.loc[df2[\"Glucose\"] <= 70, \"NewGlucose\"] = NewGlucose[0]\n",
        "df2.loc[(df2[\"Glucose\"] > 70) & (df2[\"Glucose\"] <= 99), \"NewGlucose\"] = NewGlucose[1]\n",
        "df2.loc[(df2[\"Glucose\"] > 99) & (df2[\"Glucose\"] <= 126), \"NewGlucose\"] = NewGlucose[2]\n",
        "df2.loc[df2[\"Glucose\"] > 126 ,\"NewGlucose\"] = NewGlucose[3]"
      ]
    },
    {
      "cell_type": "code",
      "execution_count": null,
      "id": "0e2a1e22",
      "metadata": {
        "execution": {
          "iopub.execute_input": "2021-12-08T20:39:34.761558Z",
          "iopub.status.busy": "2021-12-08T20:39:34.760614Z",
          "iopub.status.idle": "2021-12-08T20:39:34.768372Z",
          "shell.execute_reply": "2021-12-08T20:39:34.769055Z",
          "shell.execute_reply.started": "2021-12-08T18:39:15.289045Z"
        },
        "papermill": {
          "duration": 0.08594,
          "end_time": "2021-12-08T20:39:34.769302",
          "exception": false,
          "start_time": "2021-12-08T20:39:34.683362",
          "status": "completed"
        },
        "tags": [],
        "id": "0e2a1e22",
        "outputId": "1418ed83-be22-47d3-efa0-42830fbd7bed"
      },
      "outputs": [
        {
          "data": {
            "text/plain": [
              "Secret        290\n",
              "Overweight    286\n",
              "Normal        181\n",
              "Low            11\n",
              "High            0\n",
              "Name: NewGlucose, dtype: int64"
            ]
          },
          "execution_count": 41,
          "metadata": {},
          "output_type": "execute_result"
        }
      ],
      "source": [
        "df2.NewGlucose.value_counts()"
      ]
    },
    {
      "cell_type": "code",
      "execution_count": null,
      "id": "703f1b21",
      "metadata": {
        "execution": {
          "iopub.execute_input": "2021-12-08T20:39:34.905920Z",
          "iopub.status.busy": "2021-12-08T20:39:34.905374Z",
          "iopub.status.idle": "2021-12-08T20:39:35.346384Z",
          "shell.execute_reply": "2021-12-08T20:39:35.345874Z",
          "shell.execute_reply.started": "2021-12-08T18:39:42.776066Z"
        },
        "papermill": {
          "duration": 0.50628,
          "end_time": "2021-12-08T20:39:35.346532",
          "exception": false,
          "start_time": "2021-12-08T20:39:34.840252",
          "status": "completed"
        },
        "tags": [],
        "id": "703f1b21",
        "outputId": "681b0373-646e-4144-f0c5-8f4f2b82ddf4"
      },
      "outputs": [
        {
          "data": {
            "image/png": "[encoded data removed]",
            "text/plain": [
              "<Figure size 1440x1440 with 2 Axes>"
            ]
          },
          "metadata": {
            "needs_background": "light"
          },
          "output_type": "display_data"
        }
      ],
      "source": [
        "plt.figure(figsize=(20,20))\n",
        "\n",
        "plt.subplot(2,2,1)\n",
        "sns.countplot(x='NewGlucose', data=df2);\n",
        "\n",
        "plt.subplot(2,2,2)\n",
        "low = df2.NewGlucose[df2.NewGlucose == 'Low'].count()\n",
        "normal = df2.NewGlucose[df2.NewGlucose == 'Normal'].count()\n",
        "over_wei = df2.NewGlucose[df2.NewGlucose == 'Overweight'].count()\n",
        "secret = df2.NewGlucose[df2.NewGlucose == 'Secret'].count()\n",
        "weight = [low, normal, over_wei, secret]\n",
        "labels = ['Low', 'Normal', 'OverWeight', 'Secret']\n",
        "plt.pie(weight, labels=labels, autopct=\"%.2f%%\", shadow=True, explode=[0.01,0.01,0.01,0.01]);\n",
        "my_circle = plt.Circle( (0,0), 0.4, color='white')\n",
        "plt.gcf().gca().add_artist(my_circle)\n",
        "plt.legend()\n",
        "plt.show()"
      ]
    },
    {
      "cell_type": "code",
      "execution_count": null,
      "id": "d41a636f",
      "metadata": {
        "execution": {
          "iopub.execute_input": "2021-12-08T20:39:35.477534Z",
          "iopub.status.busy": "2021-12-08T20:39:35.476843Z",
          "iopub.status.idle": "2021-12-08T20:39:35.728613Z",
          "shell.execute_reply": "2021-12-08T20:39:35.729092Z",
          "shell.execute_reply.started": "2021-12-08T18:41:23.077844Z"
        },
        "papermill": {
          "duration": 0.319297,
          "end_time": "2021-12-08T20:39:35.729283",
          "exception": false,
          "start_time": "2021-12-08T20:39:35.409986",
          "status": "completed"
        },
        "tags": [],
        "id": "d41a636f",
        "outputId": "cfc40b49-b02b-48ec-d573-3613b7f01ad4"
      },
      "outputs": [
        {
          "data": {
            "image/png": "[encoded data removed]",
            "text/plain": [
              "<Figure size 720x360 with 1 Axes>"
            ]
          },
          "metadata": {
            "needs_background": "light"
          },
          "output_type": "display_data"
        }
      ],
      "source": [
        "plt.figure(figsize=(10,5))\n",
        "sns.countplot(x='NewGlucose', hue='Outcome', data=df2);"
      ]
    },
    {
      "cell_type": "markdown",
      "id": "c2206de1",
      "metadata": {
        "papermill": {
          "duration": 0.067504,
          "end_time": "2021-12-08T20:39:35.862716",
          "exception": false,
          "start_time": "2021-12-08T20:39:35.795212",
          "status": "completed"
        },
        "tags": [],
        "id": "c2206de1"
      },
      "source": [
        "When the Glucose is Secret then you are more likely to have diabetes"
      ]
    },
    {
      "cell_type": "code",
      "execution_count": null,
      "id": "9166fd5c",
      "metadata": {
        "execution": {
          "iopub.execute_input": "2021-12-08T20:39:35.995725Z",
          "iopub.status.busy": "2021-12-08T20:39:35.994991Z",
          "iopub.status.idle": "2021-12-08T20:39:36.424360Z",
          "shell.execute_reply": "2021-12-08T20:39:36.423736Z",
          "shell.execute_reply.started": "2021-12-08T18:42:19.194699Z"
        },
        "papermill": {
          "duration": 0.497415,
          "end_time": "2021-12-08T20:39:36.424495",
          "exception": false,
          "start_time": "2021-12-08T20:39:35.927080",
          "status": "completed"
        },
        "tags": [],
        "id": "9166fd5c",
        "outputId": "f23779d6-258d-483b-e215-13accbd84961"
      },
      "outputs": [
        {
          "data": {
            "image/png": "[encoded data removed]",
            "text/plain": [
              "<Figure size 1152x576 with 4 Axes>"
            ]
          },
          "metadata": {
            "needs_background": "light"
          },
          "output_type": "display_data"
        }
      ],
      "source": [
        "plt.figure(figsize=(16,8))\n",
        "plt.subplot(2,2,1)\n",
        "sns.boxplot(x='Insulin', data=df)\n",
        "\n",
        "plt.subplot(2,2,2)\n",
        "sns.boxplot(x='Glucose', data=df)\n",
        "\n",
        "plt.subplot(2,2,3)\n",
        "sns.boxplot(x='BloodPressure', data=df)\n",
        "\n",
        "plt.subplot(2,2,4)\n",
        "sns.boxplot(x='BMI', data=df);"
      ]
    }
  ],
  "metadata": {
    "kernelspec": {
      "display_name": "Python 3",
      "language": "python",
      "name": "python3"
    },
    "language_info": {
      "codemirror_mode": {
        "name": "ipython",
        "version": 3
      },
      "file_extension": ".py",
      "mimetype": "text/x-python",
      "name": "python",
      "nbconvert_exporter": "python",
      "pygments_lexer": "ipython3",
      "version": "3.7.12"
    },
    "papermill": {
      "default_parameters": {},
      "duration": 3033.262942,
      "end_time": "2021-12-08T21:29:46.559908",
      "environment_variables": {},
      "exception": null,
      "input_path": "__notebook__.ipynb",
      "output_path": "__notebook__.ipynb",
      "parameters": {},
      "start_time": "2021-12-08T20:39:13.296966",
      "version": "2.3.3"
    },
    "colab": {
      "provenance": []
    }
  },
  "nbformat": 4,
  "nbformat_minor": 5
}