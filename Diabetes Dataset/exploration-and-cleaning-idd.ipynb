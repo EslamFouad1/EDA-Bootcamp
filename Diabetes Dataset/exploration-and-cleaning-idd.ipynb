{
 "cells": [
  {
   "cell_type": "code",
   "execution_count": 1,
   "id": "3128dfed",
   "metadata": {
    "_cell_guid": "b1076dfc-b9ad-4769-8c92-a6c4dae69d19",
    "_uuid": "8f2839f25d086af736a60e9eeb907d3b93b6e0e5",
    "execution": {
     "iopub.execute_input": "2023-01-18T23:12:29.618300Z",
     "iopub.status.busy": "2023-01-18T23:12:29.617466Z",
     "iopub.status.idle": "2023-01-18T23:12:29.637908Z",
     "shell.execute_reply": "2023-01-18T23:12:29.636312Z"
    },
    "papermill": {
     "duration": 0.031227,
     "end_time": "2023-01-18T23:12:29.640807",
     "exception": false,
     "start_time": "2023-01-18T23:12:29.609580",
     "status": "completed"
    },
    "tags": []
   },
   "outputs": [
    {
     "name": "stdout",
     "output_type": "stream",
     "text": [
      "/kaggle/input/pima-indians-diabetes-database/diabetes.csv\n"
     ]
    }
   ],
   "source": [
    "# This Python 3 environment comes with many helpful analytics libraries installed\n",
    "# It is defined by the kaggle/python Docker image: https://github.com/kaggle/docker-python\n",
    "# For example, here's several helpful packages to load\n",
    "\n",
    "import numpy as np # linear algebra\n",
    "import pandas as pd # data processing, CSV file I/O (e.g. pd.read_csv)\n",
    "\n",
    "# Input data files are available in the read-only \"../input/\" directory\n",
    "# For example, running this (by clicking run or pressing Shift+Enter) will list all files under the input directory\n",
    "\n",
    "import os\n",
    "for dirname, _, filenames in os.walk('/kaggle/input'):\n",
    "    for filename in filenames:\n",
    "        print(os.path.join(dirname, filename))\n",
    "\n",
    "# You can write up to 20GB to the current directory (/kaggle/working/) that gets preserved as output when you create a version using \"Save & Run All\" \n",
    "# You can also write temporary files to /kaggle/temp/, but they won't be saved outside of the current session"
   ]
  },
  {
   "cell_type": "markdown",
   "id": "52a4459b",
   "metadata": {
    "papermill": {
     "duration": 0.003707,
     "end_time": "2023-01-18T23:12:29.648853",
     "exception": false,
     "start_time": "2023-01-18T23:12:29.645146",
     "status": "completed"
    },
    "tags": []
   },
   "source": [
    "In this NoteBook we will use our abilities to analyze a dataset and do a little cleaning of it as an exercise, we will be using the pima-indians-diabetes-database for this porpuse.\n",
    "Our first step is load our dataset and take a look at the first rows of it."
   ]
  },
  {
   "cell_type": "code",
   "execution_count": 2,
   "id": "e1d1e884",
   "metadata": {
    "execution": {
     "iopub.execute_input": "2023-01-18T23:12:29.659011Z",
     "iopub.status.busy": "2023-01-18T23:12:29.658644Z",
     "iopub.status.idle": "2023-01-18T23:12:29.686325Z",
     "shell.execute_reply": "2023-01-18T23:12:29.684265Z"
    },
    "papermill": {
     "duration": 0.036406,
     "end_time": "2023-01-18T23:12:29.689451",
     "exception": false,
     "start_time": "2023-01-18T23:12:29.653045",
     "status": "completed"
    },
    "tags": []
   },
   "outputs": [
    {
     "name": "stdout",
     "output_type": "stream",
     "text": [
      "   Pregnancies  Glucose  BloodPressure  SkinThickness  Insulin   BMI  \\\n",
      "0            6      148             72             35        0  33.6   \n",
      "1            1       85             66             29        0  26.6   \n",
      "2            8      183             64              0        0  23.3   \n",
      "3            1       89             66             23       94  28.1   \n",
      "4            0      137             40             35      168  43.1   \n",
      "\n",
      "   DiabetesPedigreeFunction  Age  Outcome  \n",
      "0                     0.627   50        1  \n",
      "1                     0.351   31        0  \n",
      "2                     0.672   32        1  \n",
      "3                     0.167   21        0  \n",
      "4                     2.288   33        1  \n"
     ]
    }
   ],
   "source": [
    "#Load the data to a variable (dataframe)\n",
    "indian_diabetes_data = pd.read_csv(r'/kaggle/input/pima-indians-diabetes-database/diabetes.csv')\n",
    "#Prints the first rows of the data set \n",
    "print(indian_diabetes_data.head())\n"
   ]
  },
  {
   "cell_type": "markdown",
   "id": "7d938a1e",
   "metadata": {
    "papermill": {
     "duration": 0.00536,
     "end_time": "2023-01-18T23:12:29.700563",
     "exception": false,
     "start_time": "2023-01-18T23:12:29.695203",
     "status": "completed"
    },
    "tags": []
   },
   "source": [
    "We see that our dataframe has 9 columns but now let's take a look to more descriptive information regarding the data frame using the function info()"
   ]
  },
  {
   "cell_type": "code",
   "execution_count": 3,
   "id": "2aadeb0d",
   "metadata": {
    "execution": {
     "iopub.execute_input": "2023-01-18T23:12:29.714507Z",
     "iopub.status.busy": "2023-01-18T23:12:29.713678Z",
     "iopub.status.idle": "2023-01-18T23:12:29.738160Z",
     "shell.execute_reply": "2023-01-18T23:12:29.736960Z"
    },
    "papermill": {
     "duration": 0.037154,
     "end_time": "2023-01-18T23:12:29.743079",
     "exception": false,
     "start_time": "2023-01-18T23:12:29.705925",
     "status": "completed"
    },
    "tags": []
   },
   "outputs": [
    {
     "name": "stdout",
     "output_type": "stream",
     "text": [
      "<class 'pandas.core.frame.DataFrame'>\n",
      "RangeIndex: 768 entries, 0 to 767\n",
      "Data columns (total 9 columns):\n",
      " #   Column                    Non-Null Count  Dtype  \n",
      "---  ------                    --------------  -----  \n",
      " 0   Pregnancies               768 non-null    int64  \n",
      " 1   Glucose                   768 non-null    int64  \n",
      " 2   BloodPressure             768 non-null    int64  \n",
      " 3   SkinThickness             768 non-null    int64  \n",
      " 4   Insulin                   768 non-null    int64  \n",
      " 5   BMI                       768 non-null    float64\n",
      " 6   DiabetesPedigreeFunction  768 non-null    float64\n",
      " 7   Age                       768 non-null    int64  \n",
      " 8   Outcome                   768 non-null    int64  \n",
      "dtypes: float64(2), int64(7)\n",
      "memory usage: 54.1 KB\n",
      "None\n"
     ]
    }
   ],
   "source": [
    "# .info() retrieves the information from the data frame, columns, number of entries and data types\n",
    "print(indian_diabetes_data.info())"
   ]
  },
  {
   "cell_type": "markdown",
   "id": "e78e2792",
   "metadata": {
    "papermill": {
     "duration": 0.005126,
     "end_time": "2023-01-18T23:12:29.756551",
     "exception": false,
     "start_time": "2023-01-18T23:12:29.751425",
     "status": "completed"
    },
    "tags": []
   },
   "source": [
    "We see that we have 768 entries on this dataframe and according to the information all the records had values, let's take a better look at the data frame and it's values by using the function describe()"
   ]
  },
  {
   "cell_type": "code",
   "execution_count": 4,
   "id": "b9bff26e",
   "metadata": {
    "execution": {
     "iopub.execute_input": "2023-01-18T23:12:29.767171Z",
     "iopub.status.busy": "2023-01-18T23:12:29.766715Z",
     "iopub.status.idle": "2023-01-18T23:12:29.800583Z",
     "shell.execute_reply": "2023-01-18T23:12:29.798780Z"
    },
    "papermill": {
     "duration": 0.043235,
     "end_time": "2023-01-18T23:12:29.804370",
     "exception": false,
     "start_time": "2023-01-18T23:12:29.761135",
     "status": "completed"
    },
    "tags": []
   },
   "outputs": [
    {
     "name": "stdout",
     "output_type": "stream",
     "text": [
      "       Pregnancies     Glucose  BloodPressure  SkinThickness     Insulin  \\\n",
      "count   768.000000  768.000000     768.000000     768.000000  768.000000   \n",
      "mean      3.845052  120.894531      69.105469      20.536458   79.799479   \n",
      "std       3.369578   31.972618      19.355807      15.952218  115.244002   \n",
      "min       0.000000    0.000000       0.000000       0.000000    0.000000   \n",
      "25%       1.000000   99.000000      62.000000       0.000000    0.000000   \n",
      "50%       3.000000  117.000000      72.000000      23.000000   30.500000   \n",
      "75%       6.000000  140.250000      80.000000      32.000000  127.250000   \n",
      "max      17.000000  199.000000     122.000000      99.000000  846.000000   \n",
      "\n",
      "              BMI  DiabetesPedigreeFunction         Age     Outcome  \n",
      "count  768.000000                768.000000  768.000000  768.000000  \n",
      "mean    31.992578                  0.471876   33.240885    0.348958  \n",
      "std      7.884160                  0.331329   11.760232    0.476951  \n",
      "min      0.000000                  0.078000   21.000000    0.000000  \n",
      "25%     27.300000                  0.243750   24.000000    0.000000  \n",
      "50%     32.000000                  0.372500   29.000000    0.000000  \n",
      "75%     36.600000                  0.626250   41.000000    1.000000  \n",
      "max     67.100000                  2.420000   81.000000    1.000000  \n"
     ]
    }
   ],
   "source": [
    "#Take a look at the values pof each column\n",
    "print(indian_diabetes_data.describe())"
   ]
  },
  {
   "cell_type": "markdown",
   "id": "ea841d32",
   "metadata": {
    "papermill": {
     "duration": 0.003946,
     "end_time": "2023-01-18T23:12:29.812859",
     "exception": false,
     "start_time": "2023-01-18T23:12:29.808913",
     "status": "completed"
    },
    "tags": []
   },
   "source": [
    "By looking at the it, is clear that there are some odds values, like pregnancies it has a max value of 17 which is a really high. On the other hand when we check the min values we see for some columns the value is 0 which is not possible for such mesures, for example we cannot have 0 BloodPressure, 0 Insulin or 0 Glucose, let's count the number of records that has 0  on the columns with min = 0."
   ]
  },
  {
   "cell_type": "code",
   "execution_count": 5,
   "id": "d3fc7a45",
   "metadata": {
    "execution": {
     "iopub.execute_input": "2023-01-18T23:12:29.824007Z",
     "iopub.status.busy": "2023-01-18T23:12:29.822825Z",
     "iopub.status.idle": "2023-01-18T23:12:29.833018Z",
     "shell.execute_reply": "2023-01-18T23:12:29.831466Z"
    },
    "papermill": {
     "duration": 0.019074,
     "end_time": "2023-01-18T23:12:29.836170",
     "exception": false,
     "start_time": "2023-01-18T23:12:29.817096",
     "status": "completed"
    },
    "tags": []
   },
   "outputs": [
    {
     "name": "stdout",
     "output_type": "stream",
     "text": [
      "5\n",
      "35\n",
      "227\n",
      "374\n",
      "11\n"
     ]
    }
   ],
   "source": [
    "#Look at the number of 0 values on each column \n",
    "print((indian_diabetes_data['Glucose'] == 0).sum())\n",
    "print((indian_diabetes_data['BloodPressure'] == 0).sum())\n",
    "print((indian_diabetes_data['SkinThickness'] == 0).sum())\n",
    "print((indian_diabetes_data['Insulin'] == 0).sum())\n",
    "print((indian_diabetes_data['BMI'] == 0).sum())"
   ]
  },
  {
   "cell_type": "markdown",
   "id": "692fb05c",
   "metadata": {
    "papermill": {
     "duration": 0.0042,
     "end_time": "2023-01-18T23:12:29.844960",
     "exception": false,
     "start_time": "2023-01-18T23:12:29.840760",
     "status": "completed"
    },
    "tags": []
   },
   "source": [
    "For Glucose, BloodPressure and BMI looks like we don't have so much data lost, but for SkinThickness and Insulin we have over 200 records missing.\n",
    "Let's try to fix the data by removing the 0 values of it and see if it leave us with enough data to work with.\n",
    "But first lets take a look to the Outcome and Age columns to see if they don't have strange values on them."
   ]
  },
  {
   "cell_type": "code",
   "execution_count": 6,
   "id": "909314a5",
   "metadata": {
    "execution": {
     "iopub.execute_input": "2023-01-18T23:12:29.856101Z",
     "iopub.status.busy": "2023-01-18T23:12:29.855430Z",
     "iopub.status.idle": "2023-01-18T23:12:29.865088Z",
     "shell.execute_reply": "2023-01-18T23:12:29.863168Z"
    },
    "papermill": {
     "duration": 0.018388,
     "end_time": "2023-01-18T23:12:29.867680",
     "exception": false,
     "start_time": "2023-01-18T23:12:29.849292",
     "status": "completed"
    },
    "tags": []
   },
   "outputs": [
    {
     "name": "stdout",
     "output_type": "stream",
     "text": [
      "[1 0]\n",
      "[50 31 32 21 33 30 26 29 53 54 34 57 59 51 27 41 43 22 38 60 28 45 35 46\n",
      " 56 37 48 40 25 24 58 42 44 39 36 23 61 69 62 55 65 47 52 66 49 63 67 72\n",
      " 81 64 70 68]\n",
      "[ 6  1  8  0  5  3 10  2  4  7  9 11 13 15 17 12 14]\n"
     ]
    }
   ],
   "source": [
    "#To see all the values on these columns\n",
    "print(indian_diabetes_data['Outcome'].unique())\n",
    "print(indian_diabetes_data['Age'].unique())\n",
    "print(indian_diabetes_data['Pregnancies'].unique())"
   ]
  },
  {
   "cell_type": "markdown",
   "id": "2b18c603",
   "metadata": {
    "papermill": {
     "duration": 0.00409,
     "end_time": "2023-01-18T23:12:29.876063",
     "exception": false,
     "start_time": "2023-01-18T23:12:29.871973",
     "status": "completed"
    },
    "tags": []
   },
   "source": [
    "Everything looks good for this two columns so we can proceeed with the elimination of the other values to see if it leave us with enough data to work with."
   ]
  },
  {
   "cell_type": "code",
   "execution_count": 7,
   "id": "171a23d8",
   "metadata": {
    "execution": {
     "iopub.execute_input": "2023-01-18T23:12:29.887747Z",
     "iopub.status.busy": "2023-01-18T23:12:29.887290Z",
     "iopub.status.idle": "2023-01-18T23:12:29.934786Z",
     "shell.execute_reply": "2023-01-18T23:12:29.933472Z"
    },
    "papermill": {
     "duration": 0.056445,
     "end_time": "2023-01-18T23:12:29.937442",
     "exception": false,
     "start_time": "2023-01-18T23:12:29.880997",
     "status": "completed"
    },
    "tags": []
   },
   "outputs": [
    {
     "name": "stdout",
     "output_type": "stream",
     "text": [
      "<class 'pandas.core.frame.DataFrame'>\n",
      "Int64Index: 392 entries, 3 to 765\n",
      "Data columns (total 9 columns):\n",
      " #   Column                    Non-Null Count  Dtype  \n",
      "---  ------                    --------------  -----  \n",
      " 0   Pregnancies               392 non-null    int64  \n",
      " 1   Glucose                   392 non-null    float64\n",
      " 2   BloodPressure             392 non-null    float64\n",
      " 3   SkinThickness             392 non-null    float64\n",
      " 4   Insulin                   392 non-null    float64\n",
      " 5   BMI                       392 non-null    float64\n",
      " 6   DiabetesPedigreeFunction  392 non-null    float64\n",
      " 7   Age                       392 non-null    int64  \n",
      " 8   Outcome                   392 non-null    int64  \n",
      "dtypes: float64(6), int64(3)\n",
      "memory usage: 30.6 KB\n",
      "None\n",
      "       Pregnancies     Glucose  BloodPressure  SkinThickness     Insulin  \\\n",
      "count   392.000000  392.000000     392.000000     392.000000  392.000000   \n",
      "mean      3.301020  122.627551      70.663265      29.145408  156.056122   \n",
      "std       3.211424   30.860781      12.496092      10.516424  118.841690   \n",
      "min       0.000000   56.000000      24.000000       7.000000   14.000000   \n",
      "25%       1.000000   99.000000      62.000000      21.000000   76.750000   \n",
      "50%       2.000000  119.000000      70.000000      29.000000  125.500000   \n",
      "75%       5.000000  143.000000      78.000000      37.000000  190.000000   \n",
      "max      17.000000  198.000000     110.000000      63.000000  846.000000   \n",
      "\n",
      "              BMI  DiabetesPedigreeFunction         Age     Outcome  \n",
      "count  392.000000                392.000000  392.000000  392.000000  \n",
      "mean    33.086224                  0.523046   30.864796    0.331633  \n",
      "std      7.027659                  0.345488   10.200777    0.471401  \n",
      "min     18.200000                  0.085000   21.000000    0.000000  \n",
      "25%     28.400000                  0.269750   23.000000    0.000000  \n",
      "50%     33.200000                  0.449500   27.000000    0.000000  \n",
      "75%     37.100000                  0.687000   36.000000    1.000000  \n",
      "max     67.100000                  2.420000   81.000000    1.000000  \n"
     ]
    }
   ],
   "source": [
    "#Change the 0 to NaN so we can use more easily the function dropna()\n",
    "indian_diabetes_data[['Glucose', 'BloodPressure', 'SkinThickness', 'Insulin', 'BMI']] = indian_diabetes_data[['Glucose', 'BloodPressure', 'SkinThickness', 'Insulin', 'BMI']].replace(0,np.nan)\n",
    "#Drop the NaN and save the new dataframe in a variable\n",
    "dropedna_data = indian_diabetes_data.dropna()\n",
    "#Print the information again to check the data again\n",
    "print(dropedna_data.info())\n",
    "print(dropedna_data.describe())"
   ]
  },
  {
   "cell_type": "markdown",
   "id": "861be638",
   "metadata": {
    "papermill": {
     "duration": 0.004221,
     "end_time": "2023-01-18T23:12:29.946387",
     "exception": false,
     "start_time": "2023-01-18T23:12:29.942166",
     "status": "completed"
    },
    "tags": []
   },
   "source": [
    "After cleaning our data we see that we are left with 392 entries left. We can star our analysis regarding the questions that are asked reagrding this data, for example: What is the ralation between been pregnant and having diabetes (Outcome)?, let's do a visualizacion for this question."
   ]
  },
  {
   "cell_type": "code",
   "execution_count": 8,
   "id": "fe58b00a",
   "metadata": {
    "execution": {
     "iopub.execute_input": "2023-01-18T23:12:29.957975Z",
     "iopub.status.busy": "2023-01-18T23:12:29.956946Z",
     "iopub.status.idle": "2023-01-18T23:12:30.361452Z",
     "shell.execute_reply": "2023-01-18T23:12:30.360186Z"
    },
    "papermill": {
     "duration": 0.413027,
     "end_time": "2023-01-18T23:12:30.363867",
     "exception": false,
     "start_time": "2023-01-18T23:12:29.950840",
     "status": "completed"
    },
    "tags": []
   },
   "outputs": [
    {
     "data": {
      "text/plain": [
       "<AxesSubplot:xlabel='Pregnancies'>"
      ]
     },
     "execution_count": 8,
     "metadata": {},
     "output_type": "execute_result"
    },
    {
     "data": {
      "image/png": "[encoded data removed]",
      "text/plain": [
       "<Figure size 432x288 with 1 Axes>"
      ]
     },
     "metadata": {
      "needs_background": "light"
     },
     "output_type": "display_data"
    }
   ],
   "source": [
    "#Plot the number of pregnancies and the ralation with the Outcome \n",
    "dropedna_data.groupby([ \"Pregnancies\", \"Outcome\",]).size().unstack().plot(kind=\"bar\", rot=0)\n"
   ]
  },
  {
   "cell_type": "markdown",
   "id": "7af8881f",
   "metadata": {
    "papermill": {
     "duration": 0.004675,
     "end_time": "2023-01-18T23:12:30.373525",
     "exception": false,
     "start_time": "2023-01-18T23:12:30.368850",
     "status": "completed"
    },
    "tags": []
   },
   "source": [
    "As we can see most of the people that were tested are between have had between 0 and 4 pregnancies, but we cannot see a really good relation between these two columns, prehaps it would be better to compare another columns to have a better description of the relation regarding been pregnant and having diabetes."
   ]
  }
 ],
 "metadata": {
  "kernelspec": {
   "display_name": "Python 3",
   "language": "python",
   "name": "python3"
  },
  "language_info": {
   "codemirror_mode": {
    "name": "ipython",
    "version": 3
   },
   "file_extension": ".py",
   "mimetype": "text/x-python",
   "name": "python",
   "nbconvert_exporter": "python",
   "pygments_lexer": "ipython3",
   "version": "3.7.12"
  },
  "papermill": {
   "default_parameters": {},
   "duration": 10.506746,
   "end_time": "2023-01-18T23:12:31.202960",
   "environment_variables": {},
   "exception": null,
   "input_path": "__notebook__.ipynb",
   "output_path": "__notebook__.ipynb",
   "parameters": {},
   "start_time": "2023-01-18T23:12:20.696214",
   "version": "2.3.4"
  }
 },
 "nbformat": 4,
 "nbformat_minor": 5
}
